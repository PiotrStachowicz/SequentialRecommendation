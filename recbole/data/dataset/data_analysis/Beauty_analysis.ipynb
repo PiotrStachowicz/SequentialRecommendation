{
 "cells": [
  {
   "cell_type": "markdown",
   "id": "c469810e",
   "metadata": {},
   "source": [
    "# Data Analysis for Amazon All Beauty reviews datasets\n",
    "###### Piotr Stachowicz, Jakub Malczak"
   ]
  },
  {
   "cell_type": "markdown",
   "id": "af8c497a",
   "metadata": {},
   "source": [
    "### Config"
   ]
  },
  {
   "cell_type": "code",
   "execution_count": 1,
   "id": "087b45ca",
   "metadata": {},
   "outputs": [],
   "source": [
    "FILE = \"Amazon_All_Beauty\"\n",
    "CLEAN = True"
   ]
  },
  {
   "cell_type": "markdown",
   "id": "78b5c481",
   "metadata": {},
   "source": [
    "### 1. Dependencies"
   ]
  },
  {
   "cell_type": "code",
   "execution_count": 2,
   "id": "47896935",
   "metadata": {
    "lines_to_next_cell": 1
   },
   "outputs": [],
   "source": [
    "import pandas as pd\n",
    "import matplotlib.pyplot as plt\n",
    "import pyarrow.json as pjs\n",
    "import json\n",
    "import seaborn as sns"
   ]
  },
  {
   "cell_type": "code",
   "execution_count": 3,
   "id": "02084bc9",
   "metadata": {},
   "outputs": [],
   "source": [
    "def clean(inp_path: str, out_path: str, columns: list[str]) -> None:\n",
    "    with open(inp_path, 'r') as f, open(out_path, 'w+') as w:\n",
    "        for row in f:\n",
    "            entry = json.loads(row)\n",
    "\n",
    "            new_entry = dict()\n",
    "\n",
    "            for col in columns:\n",
    "                try:\n",
    "                    new_entry[col] = entry[col]\n",
    "                except Exception:\n",
    "                    print(f'There was an error while creating new entry! Probably {col} does not exist in input file!')\n",
    "\n",
    "            w.write(json.dumps(new_entry) + '\\n')\n",
    "\n",
    "def convert_metadata(inp_path: str, out_path: str):\n",
    "    with open(inp_path, 'r') as f, open(out_path, 'w+') as w:\n",
    "            for line in f:\n",
    "                data = json.loads(line)\n",
    "                asin = data['parent_asin']\n",
    "                categories = data.get('categories', [])\n",
    "\n",
    "                if not categories:\n",
    "                    continue\n",
    "\n",
    "                category = categories[-1][-1] if isinstance(categories[-1], list) else categories[-1]\n",
    "                \n",
    "                new_entry = {\n",
    "                    'parent_asin': asin,\n",
    "                    'category': category\n",
    "                }\n",
    "\n",
    "                w.write(json.dumps(new_entry) + '\\n')"
   ]
  },
  {
   "cell_type": "markdown",
   "id": "63b72cc8",
   "metadata": {},
   "source": [
    "### 2. Dataset loading"
   ]
  },
  {
   "cell_type": "code",
   "execution_count": 4,
   "id": "ee0405b7",
   "metadata": {
    "lines_to_next_cell": 2
   },
   "outputs": [],
   "source": [
    "if CLEAN:\n",
    "    dataset = f\"./{FILE}.jsonl\"\n",
    "    meta = f\"./meta_{FILE}.jsonl\"\n",
    "\n",
    "    clean(\n",
    "        dataset, \n",
    "        f\"./{FILE}_cleaned.jsonl\", \n",
    "        ['rating', 'asin', 'parent_asin', 'user_id', 'timestamp', 'verified_purchase']\n",
    "    )\n",
    "    convert_metadata(meta, f\"./meta_{FILE}_cleaned.jsonl\")\n",
    "\n",
    "dataset = f\"./{FILE}_cleaned.jsonl\"\n",
    "meta = f\"./meta_{FILE}_cleaned.jsonl\"\n",
    "\n",
    "try:\n",
    "    df: pd.DataFrame = pjs.read_json(dataset, parse_options=pjs.ParseOptions()).to_pandas()\n",
    "except Exception:\n",
    "    raise Exception(f\"Error while loading file: {dataset}\")"
   ]
  },
  {
   "cell_type": "markdown",
   "id": "0fe39c57",
   "metadata": {},
   "source": [
    "### 3. Fun statistics"
   ]
  },
  {
   "cell_type": "markdown",
   "id": "9ee1e9e8",
   "metadata": {},
   "source": [
    "#### 3.1 Data structure"
   ]
  },
  {
   "cell_type": "code",
   "execution_count": 5,
   "id": "1345b430",
   "metadata": {},
   "outputs": [
    {
     "data": {
      "text/html": [
       "<div>\n",
       "<style scoped>\n",
       "    .dataframe tbody tr th:only-of-type {\n",
       "        vertical-align: middle;\n",
       "    }\n",
       "\n",
       "    .dataframe tbody tr th {\n",
       "        vertical-align: top;\n",
       "    }\n",
       "\n",
       "    .dataframe thead th {\n",
       "        text-align: right;\n",
       "    }\n",
       "</style>\n",
       "<table border=\"1\" class=\"dataframe\">\n",
       "  <thead>\n",
       "    <tr style=\"text-align: right;\">\n",
       "      <th></th>\n",
       "      <th>rating</th>\n",
       "      <th>asin</th>\n",
       "      <th>parent_asin</th>\n",
       "      <th>user_id</th>\n",
       "      <th>timestamp</th>\n",
       "      <th>verified_purchase</th>\n",
       "    </tr>\n",
       "  </thead>\n",
       "  <tbody>\n",
       "    <tr>\n",
       "      <th>0</th>\n",
       "      <td>5.0</td>\n",
       "      <td>B00YQ6X8EO</td>\n",
       "      <td>B00YQ6X8EO</td>\n",
       "      <td>AGKHLEW2SOWHNMFQIJGBECAF7INQ</td>\n",
       "      <td>1588687728923</td>\n",
       "      <td>True</td>\n",
       "    </tr>\n",
       "    <tr>\n",
       "      <th>1</th>\n",
       "      <td>4.0</td>\n",
       "      <td>B081TJ8YS3</td>\n",
       "      <td>B081TJ8YS3</td>\n",
       "      <td>AGKHLEW2SOWHNMFQIJGBECAF7INQ</td>\n",
       "      <td>1588615855070</td>\n",
       "      <td>True</td>\n",
       "    </tr>\n",
       "    <tr>\n",
       "      <th>2</th>\n",
       "      <td>5.0</td>\n",
       "      <td>B07PNNCSP9</td>\n",
       "      <td>B097R46CSY</td>\n",
       "      <td>AE74DYR3QUGVPZJ3P7RFWBGIX7XQ</td>\n",
       "      <td>1589665266052</td>\n",
       "      <td>True</td>\n",
       "    </tr>\n",
       "    <tr>\n",
       "      <th>3</th>\n",
       "      <td>1.0</td>\n",
       "      <td>B09JS339BZ</td>\n",
       "      <td>B09JS339BZ</td>\n",
       "      <td>AFQLNQNQYFWQZPJQZS6V3NZU4QBQ</td>\n",
       "      <td>1643393630220</td>\n",
       "      <td>True</td>\n",
       "    </tr>\n",
       "    <tr>\n",
       "      <th>4</th>\n",
       "      <td>5.0</td>\n",
       "      <td>B08BZ63GMJ</td>\n",
       "      <td>B08BZ63GMJ</td>\n",
       "      <td>AFQLNQNQYFWQZPJQZS6V3NZU4QBQ</td>\n",
       "      <td>1609322563534</td>\n",
       "      <td>True</td>\n",
       "    </tr>\n",
       "  </tbody>\n",
       "</table>\n",
       "</div>"
      ],
      "text/plain": [
       "   rating        asin parent_asin                       user_id  \\\n",
       "0     5.0  B00YQ6X8EO  B00YQ6X8EO  AGKHLEW2SOWHNMFQIJGBECAF7INQ   \n",
       "1     4.0  B081TJ8YS3  B081TJ8YS3  AGKHLEW2SOWHNMFQIJGBECAF7INQ   \n",
       "2     5.0  B07PNNCSP9  B097R46CSY  AE74DYR3QUGVPZJ3P7RFWBGIX7XQ   \n",
       "3     1.0  B09JS339BZ  B09JS339BZ  AFQLNQNQYFWQZPJQZS6V3NZU4QBQ   \n",
       "4     5.0  B08BZ63GMJ  B08BZ63GMJ  AFQLNQNQYFWQZPJQZS6V3NZU4QBQ   \n",
       "\n",
       "       timestamp  verified_purchase  \n",
       "0  1588687728923               True  \n",
       "1  1588615855070               True  \n",
       "2  1589665266052               True  \n",
       "3  1643393630220               True  \n",
       "4  1609322563534               True  "
      ]
     },
     "execution_count": 5,
     "metadata": {},
     "output_type": "execute_result"
    }
   ],
   "source": [
    "df.head()"
   ]
  },
  {
   "cell_type": "code",
   "execution_count": 6,
   "id": "57b84413",
   "metadata": {},
   "outputs": [
    {
     "data": {
      "text/plain": [
       "Index(['rating', 'asin', 'parent_asin', 'user_id', 'timestamp',\n",
       "       'verified_purchase'],\n",
       "      dtype='object')"
      ]
     },
     "execution_count": 6,
     "metadata": {},
     "output_type": "execute_result"
    }
   ],
   "source": [
    "df.keys()"
   ]
  },
  {
   "cell_type": "markdown",
   "id": "d8652acf",
   "metadata": {},
   "source": [
    "#### 3.2 Unique Users & Products"
   ]
  },
  {
   "cell_type": "code",
   "execution_count": 7,
   "id": "b0e5c972",
   "metadata": {},
   "outputs": [
    {
     "name": "stdout",
     "output_type": "stream",
     "text": [
      "Number of unique users: 631986\n",
      "Number of unique products: 115709\n"
     ]
    }
   ],
   "source": [
    "unique_users = df['user_id'].nunique()\n",
    "unique_products = df['asin'].nunique()\n",
    "\n",
    "print(f\"Number of unique users: {unique_users}\")\n",
    "print(f\"Number of unique products: {unique_products}\")"
   ]
  },
  {
   "cell_type": "markdown",
   "id": "7b3150a0",
   "metadata": {},
   "source": [
    "#### 3.3 Average Rating"
   ]
  },
  {
   "cell_type": "code",
   "execution_count": 8,
   "id": "1a25a918",
   "metadata": {},
   "outputs": [
    {
     "name": "stdout",
     "output_type": "stream",
     "text": [
      "Average rating is: 3.9602453501499584\n"
     ]
    }
   ],
   "source": [
    "ratings = df.shape[0]\n",
    "avg_rating = df['rating'].sum() / ratings\n",
    "\n",
    "print(f\"Average rating is: {avg_rating}\")"
   ]
  },
  {
   "cell_type": "code",
   "execution_count": 9,
   "id": "e7b707dd",
   "metadata": {},
   "outputs": [
    {
     "name": "stdout",
     "output_type": "stream",
     "text": [
      "701528\n"
     ]
    }
   ],
   "source": [
    "print(ratings)"
   ]
  },
  {
   "cell_type": "markdown",
   "id": "6956092c",
   "metadata": {},
   "source": [
    "#### 3.4 Average Reviews per User"
   ]
  },
  {
   "cell_type": "code",
   "execution_count": 10,
   "id": "266e5129",
   "metadata": {},
   "outputs": [
    {
     "name": "stdout",
     "output_type": "stream",
     "text": [
      "Average reviews per user: 1.1100372476605493\n"
     ]
    }
   ],
   "source": [
    "avg_user_reviews = ratings / unique_users\n",
    "\n",
    "print(f\"Average reviews per user: {avg_user_reviews}\")"
   ]
  },
  {
   "cell_type": "markdown",
   "id": "ca044955",
   "metadata": {},
   "source": [
    "#### 3.5 Average Reviews per Product"
   ]
  },
  {
   "cell_type": "code",
   "execution_count": 11,
   "id": "84bfe101",
   "metadata": {},
   "outputs": [
    {
     "name": "stdout",
     "output_type": "stream",
     "text": [
      "Average reviews per product: 6.0628645999879005\n"
     ]
    }
   ],
   "source": [
    "avg_product_reviews = ratings / unique_products\n",
    "\n",
    "print(f\"Average reviews per product: {avg_product_reviews}\")"
   ]
  },
  {
   "cell_type": "markdown",
   "id": "245262fd",
   "metadata": {},
   "source": [
    "#### 3.6 Number of reviews per user"
   ]
  },
  {
   "cell_type": "code",
   "execution_count": 12,
   "id": "9846a20c",
   "metadata": {},
   "outputs": [],
   "source": [
    "user_counts = df.groupby(\"user_id\").size().reset_index(name=\"review_count\")"
   ]
  },
  {
   "cell_type": "markdown",
   "id": "9635264f",
   "metadata": {},
   "source": [
    "##### 3.6.1 Top 10 reviewers"
   ]
  },
  {
   "cell_type": "code",
   "execution_count": 13,
   "id": "f02a77d0",
   "metadata": {},
   "outputs": [
    {
     "data": {
      "text/html": [
       "<div>\n",
       "<style scoped>\n",
       "    .dataframe tbody tr th:only-of-type {\n",
       "        vertical-align: middle;\n",
       "    }\n",
       "\n",
       "    .dataframe tbody tr th {\n",
       "        vertical-align: top;\n",
       "    }\n",
       "\n",
       "    .dataframe thead th {\n",
       "        text-align: right;\n",
       "    }\n",
       "</style>\n",
       "<table border=\"1\" class=\"dataframe\">\n",
       "  <thead>\n",
       "    <tr style=\"text-align: right;\">\n",
       "      <th></th>\n",
       "      <th>user_id</th>\n",
       "      <th>review_count</th>\n",
       "    </tr>\n",
       "  </thead>\n",
       "  <tbody>\n",
       "    <tr>\n",
       "      <th>340457</th>\n",
       "      <td>AG73BVBKUOH22USSFJA5ZWL7AKXA</td>\n",
       "      <td>165</td>\n",
       "    </tr>\n",
       "    <tr>\n",
       "      <th>156408</th>\n",
       "      <td>AEZP6Z2C5AVQDZAJECQYZWQRNG3Q</td>\n",
       "      <td>146</td>\n",
       "    </tr>\n",
       "    <tr>\n",
       "      <th>92332</th>\n",
       "      <td>AEMP3A7IKW37CMWFXNKXWW6HGJHA_1</td>\n",
       "      <td>115</td>\n",
       "    </tr>\n",
       "    <tr>\n",
       "      <th>522437</th>\n",
       "      <td>AHDVSLWHSORYGG3S5QZMVDFNOXUQ</td>\n",
       "      <td>108</td>\n",
       "    </tr>\n",
       "    <tr>\n",
       "      <th>472775</th>\n",
       "      <td>AGZUJTI7A3JFKB4FP5JOH6NVAJIQ_1</td>\n",
       "      <td>87</td>\n",
       "    </tr>\n",
       "    <tr>\n",
       "      <th>206979</th>\n",
       "      <td>AFDYIK3FNPY2JFBQYUWC6GSBMIRQ_2</td>\n",
       "      <td>83</td>\n",
       "    </tr>\n",
       "    <tr>\n",
       "      <th>302694</th>\n",
       "      <td>AFXF3EGQTQDXMRLDWFU7UBFQZB7Q</td>\n",
       "      <td>81</td>\n",
       "    </tr>\n",
       "    <tr>\n",
       "      <th>78240</th>\n",
       "      <td>AEJU3Z6HDAERETMYI2CXBQVPPDFA</td>\n",
       "      <td>79</td>\n",
       "    </tr>\n",
       "    <tr>\n",
       "      <th>622381</th>\n",
       "      <td>AHY2TURQPNIDXZGH2CMQLZ343YMQ</td>\n",
       "      <td>69</td>\n",
       "    </tr>\n",
       "    <tr>\n",
       "      <th>101652</th>\n",
       "      <td>AEOK4TQIKGO23SJKZ6PW4FETNNDA_1</td>\n",
       "      <td>68</td>\n",
       "    </tr>\n",
       "  </tbody>\n",
       "</table>\n",
       "</div>"
      ],
      "text/plain": [
       "                               user_id  review_count\n",
       "340457    AG73BVBKUOH22USSFJA5ZWL7AKXA           165\n",
       "156408    AEZP6Z2C5AVQDZAJECQYZWQRNG3Q           146\n",
       "92332   AEMP3A7IKW37CMWFXNKXWW6HGJHA_1           115\n",
       "522437    AHDVSLWHSORYGG3S5QZMVDFNOXUQ           108\n",
       "472775  AGZUJTI7A3JFKB4FP5JOH6NVAJIQ_1            87\n",
       "206979  AFDYIK3FNPY2JFBQYUWC6GSBMIRQ_2            83\n",
       "302694    AFXF3EGQTQDXMRLDWFU7UBFQZB7Q            81\n",
       "78240     AEJU3Z6HDAERETMYI2CXBQVPPDFA            79\n",
       "622381    AHY2TURQPNIDXZGH2CMQLZ343YMQ            69\n",
       "101652  AEOK4TQIKGO23SJKZ6PW4FETNNDA_1            68"
      ]
     },
     "execution_count": 13,
     "metadata": {},
     "output_type": "execute_result"
    }
   ],
   "source": [
    "user_counts.sort_values('review_count', ascending=False).head(10)"
   ]
  },
  {
   "cell_type": "markdown",
   "id": "6c13a3e4",
   "metadata": {},
   "source": [
    "##### 3.6.2 Distribution plot"
   ]
  },
  {
   "cell_type": "code",
   "execution_count": 14,
   "id": "70387e33",
   "metadata": {},
   "outputs": [
    {
     "data": {
      "image/png": "[encoded data removed]",
      "text/plain": [
       "<Figure size 800x500 with 1 Axes>"
      ]
     },
     "metadata": {},
     "output_type": "display_data"
    }
   ],
   "source": [
    "plt.figure(num=0, figsize=(8, 5))\n",
    "sns.set_theme(style=\"darkgrid\")\n",
    "\n",
    "sns.histplot(\n",
    "    user_counts['review_count'], \n",
    "    bins=50, log_scale=True\n",
    ")\n",
    "\n",
    "plt.xlabel(\"Number of Reviews per User\")\n",
    "plt.ylabel(\"Number of Users\")\n",
    "plt.title(\"Distribution of Reviews per User\")\n",
    "\n",
    "plt.show()"
   ]
  },
  {
   "cell_type": "markdown",
   "id": "ba281373",
   "metadata": {},
   "source": [
    "#### 3.7 User x Product Matrix Sparsity"
   ]
  },
  {
   "cell_type": "code",
   "execution_count": 15,
   "id": "4ac93386",
   "metadata": {},
   "outputs": [
    {
     "name": "stdout",
     "output_type": "stream",
     "text": [
      "Matrix sparsity of dataset: 0.9999904066472992%\n"
     ]
    }
   ],
   "source": [
    "matrix_size = unique_users * unique_products\n",
    "matrix_sparsity = 1.0 - (ratings / matrix_size)\n",
    "\n",
    "print(f\"Matrix sparsity of dataset: {matrix_sparsity}%\")"
   ]
  },
  {
   "cell_type": "markdown",
   "id": "efb3af27",
   "metadata": {},
   "source": [
    "#### 3.8 Number of reviews per product"
   ]
  },
  {
   "cell_type": "code",
   "execution_count": 16,
   "id": "dba90e0e",
   "metadata": {},
   "outputs": [],
   "source": [
    "product_counts = df.groupby([\"asin\"]).size().reset_index(name=\"review_count\")"
   ]
  },
  {
   "cell_type": "markdown",
   "id": "07267224",
   "metadata": {},
   "source": [
    "##### 3.8.1 Top 10 reviewed products"
   ]
  },
  {
   "cell_type": "code",
   "execution_count": 17,
   "id": "fa35e461",
   "metadata": {},
   "outputs": [
    {
     "data": {
      "text/html": [
       "<div>\n",
       "<style scoped>\n",
       "    .dataframe tbody tr th:only-of-type {\n",
       "        vertical-align: middle;\n",
       "    }\n",
       "\n",
       "    .dataframe tbody tr th {\n",
       "        vertical-align: top;\n",
       "    }\n",
       "\n",
       "    .dataframe thead th {\n",
       "        text-align: right;\n",
       "    }\n",
       "</style>\n",
       "<table border=\"1\" class=\"dataframe\">\n",
       "  <thead>\n",
       "    <tr style=\"text-align: right;\">\n",
       "      <th></th>\n",
       "      <th>asin</th>\n",
       "      <th>review_count</th>\n",
       "    </tr>\n",
       "  </thead>\n",
       "  <tbody>\n",
       "    <tr>\n",
       "      <th>5476</th>\n",
       "      <td>B007IAE5WY</td>\n",
       "      <td>1962</td>\n",
       "    </tr>\n",
       "    <tr>\n",
       "      <th>8717</th>\n",
       "      <td>B00EEN2HCS</td>\n",
       "      <td>1750</td>\n",
       "    </tr>\n",
       "    <tr>\n",
       "      <th>49919</th>\n",
       "      <td>B07C533XCW</td>\n",
       "      <td>1513</td>\n",
       "    </tr>\n",
       "    <tr>\n",
       "      <th>15524</th>\n",
       "      <td>B00R1TAN7I</td>\n",
       "      <td>1372</td>\n",
       "    </tr>\n",
       "    <tr>\n",
       "      <th>93618</th>\n",
       "      <td>B08L5KN7X4</td>\n",
       "      <td>1343</td>\n",
       "    </tr>\n",
       "    <tr>\n",
       "      <th>23259</th>\n",
       "      <td>B019GBG0IE</td>\n",
       "      <td>1328</td>\n",
       "    </tr>\n",
       "    <tr>\n",
       "      <th>38782</th>\n",
       "      <td>B0719KWG8H</td>\n",
       "      <td>1168</td>\n",
       "    </tr>\n",
       "    <tr>\n",
       "      <th>6364</th>\n",
       "      <td>B0092MCQZ4</td>\n",
       "      <td>1128</td>\n",
       "    </tr>\n",
       "    <tr>\n",
       "      <th>19090</th>\n",
       "      <td>B0107QYW14</td>\n",
       "      <td>1112</td>\n",
       "    </tr>\n",
       "    <tr>\n",
       "      <th>5290</th>\n",
       "      <td>B0070Z7KME</td>\n",
       "      <td>934</td>\n",
       "    </tr>\n",
       "  </tbody>\n",
       "</table>\n",
       "</div>"
      ],
      "text/plain": [
       "             asin  review_count\n",
       "5476   B007IAE5WY          1962\n",
       "8717   B00EEN2HCS          1750\n",
       "49919  B07C533XCW          1513\n",
       "15524  B00R1TAN7I          1372\n",
       "93618  B08L5KN7X4          1343\n",
       "23259  B019GBG0IE          1328\n",
       "38782  B0719KWG8H          1168\n",
       "6364   B0092MCQZ4          1128\n",
       "19090  B0107QYW14          1112\n",
       "5290   B0070Z7KME           934"
      ]
     },
     "execution_count": 17,
     "metadata": {},
     "output_type": "execute_result"
    }
   ],
   "source": [
    "product_counts.sort_values(by=\"review_count\", ascending=False).head(10)"
   ]
  },
  {
   "cell_type": "markdown",
   "id": "6bb7e9e2",
   "metadata": {},
   "source": [
    "##### 3.8.2 Distribution plot"
   ]
  },
  {
   "cell_type": "code",
   "execution_count": 18,
   "id": "3bcaafb0",
   "metadata": {},
   "outputs": [
    {
     "data": {
      "image/png": "[encoded data removed]",
      "text/plain": [
       "<Figure size 640x480 with 1 Axes>"
      ]
     },
     "metadata": {},
     "output_type": "display_data"
    }
   ],
   "source": [
    "plt.figure(num=1)\n",
    "sns.set_theme(style=\"darkgrid\")\n",
    "\n",
    "sns.histplot(\n",
    "    data=product_counts['review_count'], \n",
    "    bins=10,\n",
    "    log_scale=True\n",
    ")\n",
    "\n",
    "plt.xlabel(\"Number of Reviews per Product\")\n",
    "plt.ylabel(\"Number of Products\")\n",
    "plt.title(\"Distribution of Reviews per Product\")\n",
    "\n",
    "plt.show()"
   ]
  },
  {
   "cell_type": "markdown",
   "id": "56d72063",
   "metadata": {},
   "source": [
    "#### 3.9 Product lifespan analysis"
   ]
  },
  {
   "cell_type": "code",
   "execution_count": 19,
   "id": "fc1ab555",
   "metadata": {},
   "outputs": [],
   "source": [
    "lifespan_df = df.groupby(by='asin')['timestamp'].agg(['min', 'max'])\n",
    "lifespan_df['max'] = pd.to_datetime(lifespan_df['max'], unit='ms')\n",
    "lifespan_df['min'] = pd.to_datetime(lifespan_df['min'], unit='ms')\n",
    "\n",
    "lifespan_df['lifespan'] = lifespan_df['max'] - lifespan_df['min']\n",
    "lifespan_df['lifespan'] = lifespan_df['lifespan'].dt.days"
   ]
  },
  {
   "cell_type": "code",
   "execution_count": 20,
   "id": "d2720e7c",
   "metadata": {},
   "outputs": [
    {
     "data": {
      "text/html": [
       "<div>\n",
       "<style scoped>\n",
       "    .dataframe tbody tr th:only-of-type {\n",
       "        vertical-align: middle;\n",
       "    }\n",
       "\n",
       "    .dataframe tbody tr th {\n",
       "        vertical-align: top;\n",
       "    }\n",
       "\n",
       "    .dataframe thead th {\n",
       "        text-align: right;\n",
       "    }\n",
       "</style>\n",
       "<table border=\"1\" class=\"dataframe\">\n",
       "  <thead>\n",
       "    <tr style=\"text-align: right;\">\n",
       "      <th></th>\n",
       "      <th>min</th>\n",
       "      <th>max</th>\n",
       "      <th>lifespan</th>\n",
       "    </tr>\n",
       "    <tr>\n",
       "      <th>asin</th>\n",
       "      <th></th>\n",
       "      <th></th>\n",
       "      <th></th>\n",
       "    </tr>\n",
       "  </thead>\n",
       "  <tbody>\n",
       "    <tr>\n",
       "      <th>0124784577</th>\n",
       "      <td>2019-06-24 23:29:59.244</td>\n",
       "      <td>2019-09-09 14:59:29.877</td>\n",
       "      <td>76</td>\n",
       "    </tr>\n",
       "    <tr>\n",
       "      <th>069267599X</th>\n",
       "      <td>2016-10-21 16:55:20.000</td>\n",
       "      <td>2022-01-24 15:42:09.966</td>\n",
       "      <td>1920</td>\n",
       "    </tr>\n",
       "    <tr>\n",
       "      <th>0764490117</th>\n",
       "      <td>2013-06-21 21:07:30.000</td>\n",
       "      <td>2015-09-01 19:48:49.000</td>\n",
       "      <td>801</td>\n",
       "    </tr>\n",
       "    <tr>\n",
       "      <th>0816091846</th>\n",
       "      <td>2014-08-16 02:14:18.000</td>\n",
       "      <td>2017-08-19 00:26:40.210</td>\n",
       "      <td>1098</td>\n",
       "    </tr>\n",
       "    <tr>\n",
       "      <th>0966068432</th>\n",
       "      <td>2016-11-18 15:07:40.000</td>\n",
       "      <td>2017-06-19 17:50:14.836</td>\n",
       "      <td>213</td>\n",
       "    </tr>\n",
       "  </tbody>\n",
       "</table>\n",
       "</div>"
      ],
      "text/plain": [
       "                               min                     max  lifespan\n",
       "asin                                                                \n",
       "0124784577 2019-06-24 23:29:59.244 2019-09-09 14:59:29.877        76\n",
       "069267599X 2016-10-21 16:55:20.000 2022-01-24 15:42:09.966      1920\n",
       "0764490117 2013-06-21 21:07:30.000 2015-09-01 19:48:49.000       801\n",
       "0816091846 2014-08-16 02:14:18.000 2017-08-19 00:26:40.210      1098\n",
       "0966068432 2016-11-18 15:07:40.000 2017-06-19 17:50:14.836       213"
      ]
     },
     "execution_count": 20,
     "metadata": {},
     "output_type": "execute_result"
    }
   ],
   "source": [
    "lifespan_df = lifespan_df[lifespan_df['lifespan'] != 0]\n",
    "\n",
    "lifespan_df.head()"
   ]
  },
  {
   "cell_type": "markdown",
   "id": "786fb777",
   "metadata": {},
   "source": [
    "##### 3.9.1 Product lifespan distribution"
   ]
  },
  {
   "cell_type": "code",
   "execution_count": 21,
   "id": "29a1b41b",
   "metadata": {},
   "outputs": [
    {
     "data": {
      "image/png": "[encoded data removed]",
      "text/plain": [
       "<Figure size 640x480 with 1 Axes>"
      ]
     },
     "metadata": {},
     "output_type": "display_data"
    }
   ],
   "source": [
    "plt.figure(num=3)\n",
    "sns.histplot(\n",
    "    lifespan_df['lifespan'],\n",
    "    log_scale=True,\n",
    "    bins=10\n",
    ")\n",
    "plt.xlabel(\"Number of lived days\")\n",
    "plt.ylabel(\"Number of products\")\n",
    "plt.title(\"Product lifespan distribution\")\n",
    "plt.show()"
   ]
  },
  {
   "cell_type": "markdown",
   "id": "9c1fad43",
   "metadata": {},
   "source": [
    "##### 3.9.2 Seasonality of products"
   ]
  },
  {
   "cell_type": "code",
   "execution_count": 22,
   "id": "ac2e37ff",
   "metadata": {},
   "outputs": [],
   "source": [
    "seasonality_df = df.copy()\n",
    "seasonality_df['timestamp'] = pd.to_datetime(seasonality_df['timestamp'], unit='ms')"
   ]
  },
  {
   "cell_type": "code",
   "execution_count": 23,
   "id": "b166af5f",
   "metadata": {},
   "outputs": [],
   "source": [
    "seasonality_df = seasonality_df[seasonality_df['verified_purchase'] == True]"
   ]
  },
  {
   "cell_type": "code",
   "execution_count": 24,
   "id": "1eb42b83",
   "metadata": {},
   "outputs": [
    {
     "data": {
      "text/html": [
       "<div>\n",
       "<style scoped>\n",
       "    .dataframe tbody tr th:only-of-type {\n",
       "        vertical-align: middle;\n",
       "    }\n",
       "\n",
       "    .dataframe tbody tr th {\n",
       "        vertical-align: top;\n",
       "    }\n",
       "\n",
       "    .dataframe thead th {\n",
       "        text-align: right;\n",
       "    }\n",
       "</style>\n",
       "<table border=\"1\" class=\"dataframe\">\n",
       "  <thead>\n",
       "    <tr style=\"text-align: right;\">\n",
       "      <th></th>\n",
       "      <th>rating</th>\n",
       "      <th>asin</th>\n",
       "      <th>parent_asin</th>\n",
       "      <th>user_id</th>\n",
       "      <th>timestamp</th>\n",
       "      <th>verified_purchase</th>\n",
       "    </tr>\n",
       "  </thead>\n",
       "  <tbody>\n",
       "    <tr>\n",
       "      <th>0</th>\n",
       "      <td>5.0</td>\n",
       "      <td>B00YQ6X8EO</td>\n",
       "      <td>B00YQ6X8EO</td>\n",
       "      <td>AGKHLEW2SOWHNMFQIJGBECAF7INQ</td>\n",
       "      <td>2020-05-05 14:08:48.923</td>\n",
       "      <td>True</td>\n",
       "    </tr>\n",
       "    <tr>\n",
       "      <th>1</th>\n",
       "      <td>4.0</td>\n",
       "      <td>B081TJ8YS3</td>\n",
       "      <td>B081TJ8YS3</td>\n",
       "      <td>AGKHLEW2SOWHNMFQIJGBECAF7INQ</td>\n",
       "      <td>2020-05-04 18:10:55.070</td>\n",
       "      <td>True</td>\n",
       "    </tr>\n",
       "    <tr>\n",
       "      <th>2</th>\n",
       "      <td>5.0</td>\n",
       "      <td>B07PNNCSP9</td>\n",
       "      <td>B097R46CSY</td>\n",
       "      <td>AE74DYR3QUGVPZJ3P7RFWBGIX7XQ</td>\n",
       "      <td>2020-05-16 21:41:06.052</td>\n",
       "      <td>True</td>\n",
       "    </tr>\n",
       "    <tr>\n",
       "      <th>3</th>\n",
       "      <td>1.0</td>\n",
       "      <td>B09JS339BZ</td>\n",
       "      <td>B09JS339BZ</td>\n",
       "      <td>AFQLNQNQYFWQZPJQZS6V3NZU4QBQ</td>\n",
       "      <td>2022-01-28 18:13:50.220</td>\n",
       "      <td>True</td>\n",
       "    </tr>\n",
       "    <tr>\n",
       "      <th>4</th>\n",
       "      <td>5.0</td>\n",
       "      <td>B08BZ63GMJ</td>\n",
       "      <td>B08BZ63GMJ</td>\n",
       "      <td>AFQLNQNQYFWQZPJQZS6V3NZU4QBQ</td>\n",
       "      <td>2020-12-30 10:02:43.534</td>\n",
       "      <td>True</td>\n",
       "    </tr>\n",
       "  </tbody>\n",
       "</table>\n",
       "</div>"
      ],
      "text/plain": [
       "   rating        asin parent_asin                       user_id  \\\n",
       "0     5.0  B00YQ6X8EO  B00YQ6X8EO  AGKHLEW2SOWHNMFQIJGBECAF7INQ   \n",
       "1     4.0  B081TJ8YS3  B081TJ8YS3  AGKHLEW2SOWHNMFQIJGBECAF7INQ   \n",
       "2     5.0  B07PNNCSP9  B097R46CSY  AE74DYR3QUGVPZJ3P7RFWBGIX7XQ   \n",
       "3     1.0  B09JS339BZ  B09JS339BZ  AFQLNQNQYFWQZPJQZS6V3NZU4QBQ   \n",
       "4     5.0  B08BZ63GMJ  B08BZ63GMJ  AFQLNQNQYFWQZPJQZS6V3NZU4QBQ   \n",
       "\n",
       "                timestamp  verified_purchase  \n",
       "0 2020-05-05 14:08:48.923               True  \n",
       "1 2020-05-04 18:10:55.070               True  \n",
       "2 2020-05-16 21:41:06.052               True  \n",
       "3 2022-01-28 18:13:50.220               True  \n",
       "4 2020-12-30 10:02:43.534               True  "
      ]
     },
     "execution_count": 24,
     "metadata": {},
     "output_type": "execute_result"
    }
   ],
   "source": [
    "seasonality_df.head()"
   ]
  },
  {
   "cell_type": "code",
   "execution_count": 25,
   "id": "f982e8df",
   "metadata": {},
   "outputs": [],
   "source": [
    "seasonality_df.set_index('timestamp', inplace=True)"
   ]
  },
  {
   "cell_type": "code",
   "execution_count": 26,
   "id": "3ae03bbb",
   "metadata": {},
   "outputs": [
    {
     "data": {
      "text/html": [
       "<div>\n",
       "<style scoped>\n",
       "    .dataframe tbody tr th:only-of-type {\n",
       "        vertical-align: middle;\n",
       "    }\n",
       "\n",
       "    .dataframe tbody tr th {\n",
       "        vertical-align: top;\n",
       "    }\n",
       "\n",
       "    .dataframe thead th {\n",
       "        text-align: right;\n",
       "    }\n",
       "</style>\n",
       "<table border=\"1\" class=\"dataframe\">\n",
       "  <thead>\n",
       "    <tr style=\"text-align: right;\">\n",
       "      <th></th>\n",
       "      <th>timestamp</th>\n",
       "      <th>purchase_count</th>\n",
       "    </tr>\n",
       "  </thead>\n",
       "  <tbody>\n",
       "    <tr>\n",
       "      <th>0</th>\n",
       "      <td>2002-10-01</td>\n",
       "      <td>1</td>\n",
       "    </tr>\n",
       "    <tr>\n",
       "      <th>1</th>\n",
       "      <td>2002-11-01</td>\n",
       "      <td>1</td>\n",
       "    </tr>\n",
       "    <tr>\n",
       "      <th>2</th>\n",
       "      <td>2002-12-01</td>\n",
       "      <td>2</td>\n",
       "    </tr>\n",
       "    <tr>\n",
       "      <th>3</th>\n",
       "      <td>2003-01-01</td>\n",
       "      <td>2</td>\n",
       "    </tr>\n",
       "    <tr>\n",
       "      <th>4</th>\n",
       "      <td>2003-02-01</td>\n",
       "      <td>1</td>\n",
       "    </tr>\n",
       "    <tr>\n",
       "      <th>5</th>\n",
       "      <td>2003-03-01</td>\n",
       "      <td>2</td>\n",
       "    </tr>\n",
       "    <tr>\n",
       "      <th>6</th>\n",
       "      <td>2003-04-01</td>\n",
       "      <td>2</td>\n",
       "    </tr>\n",
       "    <tr>\n",
       "      <th>7</th>\n",
       "      <td>2003-05-01</td>\n",
       "      <td>1</td>\n",
       "    </tr>\n",
       "    <tr>\n",
       "      <th>8</th>\n",
       "      <td>2003-06-01</td>\n",
       "      <td>2</td>\n",
       "    </tr>\n",
       "    <tr>\n",
       "      <th>9</th>\n",
       "      <td>2003-07-01</td>\n",
       "      <td>0</td>\n",
       "    </tr>\n",
       "  </tbody>\n",
       "</table>\n",
       "</div>"
      ],
      "text/plain": [
       "   timestamp  purchase_count\n",
       "0 2002-10-01               1\n",
       "1 2002-11-01               1\n",
       "2 2002-12-01               2\n",
       "3 2003-01-01               2\n",
       "4 2003-02-01               1\n",
       "5 2003-03-01               2\n",
       "6 2003-04-01               2\n",
       "7 2003-05-01               1\n",
       "8 2003-06-01               2\n",
       "9 2003-07-01               0"
      ]
     },
     "execution_count": 26,
     "metadata": {},
     "output_type": "execute_result"
    }
   ],
   "source": [
    "monthly_transaction_count = seasonality_df['verified_purchase'].resample('MS').count().reset_index(name=\"purchase_count\")\n",
    "monthly_transaction_count.head(10)"
   ]
  },
  {
   "cell_type": "markdown",
   "id": "85a624c6",
   "metadata": {},
   "source": [
    "##### 3.9.3 Top 20 highest selling months"
   ]
  },
  {
   "cell_type": "code",
   "execution_count": 27,
   "id": "391a260f",
   "metadata": {},
   "outputs": [
    {
     "data": {
      "text/html": [
       "<div>\n",
       "<style scoped>\n",
       "    .dataframe tbody tr th:only-of-type {\n",
       "        vertical-align: middle;\n",
       "    }\n",
       "\n",
       "    .dataframe tbody tr th {\n",
       "        vertical-align: top;\n",
       "    }\n",
       "\n",
       "    .dataframe thead th {\n",
       "        text-align: right;\n",
       "    }\n",
       "</style>\n",
       "<table border=\"1\" class=\"dataframe\">\n",
       "  <thead>\n",
       "    <tr style=\"text-align: right;\">\n",
       "      <th></th>\n",
       "      <th>timestamp</th>\n",
       "      <th>purchase_count</th>\n",
       "    </tr>\n",
       "  </thead>\n",
       "  <tbody>\n",
       "    <tr>\n",
       "      <th>221</th>\n",
       "      <td>2021-03-01</td>\n",
       "      <td>13111</td>\n",
       "    </tr>\n",
       "    <tr>\n",
       "      <th>222</th>\n",
       "      <td>2021-04-01</td>\n",
       "      <td>11919</td>\n",
       "    </tr>\n",
       "    <tr>\n",
       "      <th>219</th>\n",
       "      <td>2021-01-01</td>\n",
       "      <td>11873</td>\n",
       "    </tr>\n",
       "    <tr>\n",
       "      <th>207</th>\n",
       "      <td>2020-01-01</td>\n",
       "      <td>11371</td>\n",
       "    </tr>\n",
       "    <tr>\n",
       "      <th>213</th>\n",
       "      <td>2020-07-01</td>\n",
       "      <td>11104</td>\n",
       "    </tr>\n",
       "    <tr>\n",
       "      <th>214</th>\n",
       "      <td>2020-08-01</td>\n",
       "      <td>11032</td>\n",
       "    </tr>\n",
       "    <tr>\n",
       "      <th>206</th>\n",
       "      <td>2019-12-01</td>\n",
       "      <td>10976</td>\n",
       "    </tr>\n",
       "    <tr>\n",
       "      <th>220</th>\n",
       "      <td>2021-02-01</td>\n",
       "      <td>10966</td>\n",
       "    </tr>\n",
       "    <tr>\n",
       "      <th>216</th>\n",
       "      <td>2020-10-01</td>\n",
       "      <td>10792</td>\n",
       "    </tr>\n",
       "    <tr>\n",
       "      <th>218</th>\n",
       "      <td>2020-12-01</td>\n",
       "      <td>10501</td>\n",
       "    </tr>\n",
       "    <tr>\n",
       "      <th>223</th>\n",
       "      <td>2021-05-01</td>\n",
       "      <td>10430</td>\n",
       "    </tr>\n",
       "    <tr>\n",
       "      <th>224</th>\n",
       "      <td>2021-06-01</td>\n",
       "      <td>10321</td>\n",
       "    </tr>\n",
       "    <tr>\n",
       "      <th>215</th>\n",
       "      <td>2020-09-01</td>\n",
       "      <td>10284</td>\n",
       "    </tr>\n",
       "    <tr>\n",
       "      <th>225</th>\n",
       "      <td>2021-07-01</td>\n",
       "      <td>10055</td>\n",
       "    </tr>\n",
       "    <tr>\n",
       "      <th>211</th>\n",
       "      <td>2020-05-01</td>\n",
       "      <td>9698</td>\n",
       "    </tr>\n",
       "    <tr>\n",
       "      <th>208</th>\n",
       "      <td>2020-02-01</td>\n",
       "      <td>9616</td>\n",
       "    </tr>\n",
       "    <tr>\n",
       "      <th>201</th>\n",
       "      <td>2019-07-01</td>\n",
       "      <td>9599</td>\n",
       "    </tr>\n",
       "    <tr>\n",
       "      <th>212</th>\n",
       "      <td>2020-06-01</td>\n",
       "      <td>9468</td>\n",
       "    </tr>\n",
       "    <tr>\n",
       "      <th>217</th>\n",
       "      <td>2020-11-01</td>\n",
       "      <td>9172</td>\n",
       "    </tr>\n",
       "    <tr>\n",
       "      <th>226</th>\n",
       "      <td>2021-08-01</td>\n",
       "      <td>8701</td>\n",
       "    </tr>\n",
       "  </tbody>\n",
       "</table>\n",
       "</div>"
      ],
      "text/plain": [
       "     timestamp  purchase_count\n",
       "221 2021-03-01           13111\n",
       "222 2021-04-01           11919\n",
       "219 2021-01-01           11873\n",
       "207 2020-01-01           11371\n",
       "213 2020-07-01           11104\n",
       "214 2020-08-01           11032\n",
       "206 2019-12-01           10976\n",
       "220 2021-02-01           10966\n",
       "216 2020-10-01           10792\n",
       "218 2020-12-01           10501\n",
       "223 2021-05-01           10430\n",
       "224 2021-06-01           10321\n",
       "215 2020-09-01           10284\n",
       "225 2021-07-01           10055\n",
       "211 2020-05-01            9698\n",
       "208 2020-02-01            9616\n",
       "201 2019-07-01            9599\n",
       "212 2020-06-01            9468\n",
       "217 2020-11-01            9172\n",
       "226 2021-08-01            8701"
      ]
     },
     "execution_count": 27,
     "metadata": {},
     "output_type": "execute_result"
    }
   ],
   "source": [
    "monthly_transaction_count.sort_values(by='purchase_count', ascending=False).head(20)"
   ]
  },
  {
   "cell_type": "markdown",
   "id": "234bb050",
   "metadata": {},
   "source": [
    "##### 3.9.4 Time series"
   ]
  },
  {
   "cell_type": "code",
   "execution_count": 28,
   "id": "527124fc",
   "metadata": {},
   "outputs": [
    {
     "data": {
      "image/png": "[encoded data removed]",
      "text/plain": [
       "<Figure size 640x480 with 1 Axes>"
      ]
     },
     "metadata": {},
     "output_type": "display_data"
    }
   ],
   "source": [
    "plt.figure(num=4)\n",
    "monthly_transaction_count['purchase_count'].plot(title=\"Monthly count of verified purchases\")\n",
    "plt.xlabel('Months since')\n",
    "plt.ylabel('Number of purchases')\n",
    "plt.tight_layout()\n",
    "plt.grid(True)\n",
    "plt.show()"
   ]
  },
  {
   "cell_type": "code",
   "execution_count": 29,
   "id": "1d814fe4",
   "metadata": {},
   "outputs": [
    {
     "data": {
      "text/html": [
       "<div>\n",
       "<style scoped>\n",
       "    .dataframe tbody tr th:only-of-type {\n",
       "        vertical-align: middle;\n",
       "    }\n",
       "\n",
       "    .dataframe tbody tr th {\n",
       "        vertical-align: top;\n",
       "    }\n",
       "\n",
       "    .dataframe thead th {\n",
       "        text-align: right;\n",
       "    }\n",
       "</style>\n",
       "<table border=\"1\" class=\"dataframe\">\n",
       "  <thead>\n",
       "    <tr style=\"text-align: right;\">\n",
       "      <th></th>\n",
       "      <th>month</th>\n",
       "      <th>purchase_count</th>\n",
       "    </tr>\n",
       "  </thead>\n",
       "  <tbody>\n",
       "    <tr>\n",
       "      <th>0</th>\n",
       "      <td>1</td>\n",
       "      <td>60905</td>\n",
       "    </tr>\n",
       "    <tr>\n",
       "      <th>1</th>\n",
       "      <td>2</td>\n",
       "      <td>52272</td>\n",
       "    </tr>\n",
       "    <tr>\n",
       "      <th>2</th>\n",
       "      <td>3</td>\n",
       "      <td>58075</td>\n",
       "    </tr>\n",
       "    <tr>\n",
       "      <th>3</th>\n",
       "      <td>4</td>\n",
       "      <td>51140</td>\n",
       "    </tr>\n",
       "    <tr>\n",
       "      <th>4</th>\n",
       "      <td>5</td>\n",
       "      <td>52324</td>\n",
       "    </tr>\n",
       "    <tr>\n",
       "      <th>5</th>\n",
       "      <td>6</td>\n",
       "      <td>51360</td>\n",
       "    </tr>\n",
       "    <tr>\n",
       "      <th>6</th>\n",
       "      <td>7</td>\n",
       "      <td>56703</td>\n",
       "    </tr>\n",
       "    <tr>\n",
       "      <th>7</th>\n",
       "      <td>8</td>\n",
       "      <td>54574</td>\n",
       "    </tr>\n",
       "    <tr>\n",
       "      <th>8</th>\n",
       "      <td>9</td>\n",
       "      <td>47747</td>\n",
       "    </tr>\n",
       "    <tr>\n",
       "      <th>9</th>\n",
       "      <td>10</td>\n",
       "      <td>49895</td>\n",
       "    </tr>\n",
       "    <tr>\n",
       "      <th>10</th>\n",
       "      <td>11</td>\n",
       "      <td>45796</td>\n",
       "    </tr>\n",
       "    <tr>\n",
       "      <th>11</th>\n",
       "      <td>12</td>\n",
       "      <td>54178</td>\n",
       "    </tr>\n",
       "  </tbody>\n",
       "</table>\n",
       "</div>"
      ],
      "text/plain": [
       "    month  purchase_count\n",
       "0       1           60905\n",
       "1       2           52272\n",
       "2       3           58075\n",
       "3       4           51140\n",
       "4       5           52324\n",
       "5       6           51360\n",
       "6       7           56703\n",
       "7       8           54574\n",
       "8       9           47747\n",
       "9      10           49895\n",
       "10     11           45796\n",
       "11     12           54178"
      ]
     },
     "execution_count": 29,
     "metadata": {},
     "output_type": "execute_result"
    }
   ],
   "source": [
    "month_subseries_count = monthly_transaction_count.copy()\n",
    "month_subseries_count['month'] = month_subseries_count['timestamp'].dt.month\n",
    "\n",
    "foo = month_subseries_count.groupby(by='month')['purchase_count'].sum().reset_index(name='purchase_count')\n",
    "foo.head(12)"
   ]
  },
  {
   "cell_type": "code",
   "execution_count": 30,
   "id": "957f140d",
   "metadata": {},
   "outputs": [
    {
     "data": {
      "image/png": "[encoded data removed]",
      "text/plain": [
       "<Figure size 640x480 with 1 Axes>"
      ]
     },
     "metadata": {},
     "output_type": "display_data"
    }
   ],
   "source": [
    "plt.figure(num=5)\n",
    "foo['purchase_count'].plot(title=\"Monthly count of verified purchases\")\n",
    "plt.xlabel('Month')\n",
    "plt.ylabel('Number of purchases')\n",
    "plt.tight_layout()\n",
    "plt.grid(True)\n",
    "plt.show()"
   ]
  },
  {
   "cell_type": "markdown",
   "id": "6608c962",
   "metadata": {},
   "source": [
    "#### 3.10 Rating distribution"
   ]
  },
  {
   "cell_type": "code",
   "execution_count": 31,
   "id": "f6b87eec",
   "metadata": {},
   "outputs": [
    {
     "data": {
      "text/plain": [
       "rating\n",
       "1.0    102080\n",
       "2.0     43034\n",
       "3.0     56307\n",
       "4.0     79381\n",
       "5.0    420726\n",
       "Name: count, dtype: int64"
      ]
     },
     "execution_count": 31,
     "metadata": {},
     "output_type": "execute_result"
    }
   ],
   "source": [
    "rating_counts = df['rating'].value_counts().sort_index()\n",
    "rating_counts.head()"
   ]
  },
  {
   "cell_type": "code",
   "execution_count": 32,
   "id": "22c6e43a",
   "metadata": {},
   "outputs": [
    {
     "data": {
      "image/png": "[encoded data removed]",
      "text/plain": [
       "<Figure size 640x480 with 1 Axes>"
      ]
     },
     "metadata": {},
     "output_type": "display_data"
    }
   ],
   "source": [
    "plt.figure(num=6)\n",
    "rating_counts.plot(kind='bar')\n",
    "plt.xlabel('Rating')\n",
    "plt.ylabel('Occurences')\n",
    "plt.title('Rating distribution')\n",
    "plt.xticks(rotation=0)\n",
    "plt.grid(axis='y', linestyle='--')\n",
    "plt.tight_layout()\n",
    "plt.show()"
   ]
  },
  {
   "cell_type": "markdown",
   "id": "83ddcbfa",
   "metadata": {},
   "source": [
    "#### 3.11 Subclasses"
   ]
  },
  {
   "cell_type": "code",
   "execution_count": null,
   "id": "ead28f03",
   "metadata": {},
   "outputs": [],
   "source": [
    "try:\n",
    "    df2: pd.DataFrame = pjs.read_json(meta, parse_options=pjs.ParseOptions()).to_pandas()\n",
    "except Exception:\n",
    "    raise Exception(f\"Error while loading file: {meta}\")"
   ]
  },
  {
   "cell_type": "code",
   "execution_count": null,
   "id": "fa402008",
   "metadata": {},
   "outputs": [],
   "source": [
    "df2.head()"
   ]
  },
  {
   "cell_type": "code",
   "execution_count": null,
   "id": "4dbd0667",
   "metadata": {},
   "outputs": [],
   "source": [
    "df2 = pd.merge(df, df2, on='parent_asin', how='left')"
   ]
  },
  {
   "cell_type": "code",
   "execution_count": null,
   "id": "5b391563",
   "metadata": {},
   "outputs": [],
   "source": [
    "df2.head()"
   ]
  },
  {
   "cell_type": "code",
   "execution_count": null,
   "id": "db428945",
   "metadata": {},
   "outputs": [],
   "source": [
    "subcategories_df = df2.dropna(subset=['category'])\n",
    "unique_parent_asins_in_subcategory = subcategories_df[['parent_asin', 'category']].drop_duplicates()\n",
    "product_count_by_subcategory = unique_parent_asins_in_subcategory.groupby('category')['parent_asin'].count().sort_values(ascending=False)"
   ]
  },
  {
   "cell_type": "code",
   "execution_count": null,
   "id": "3674e5a3",
   "metadata": {},
   "outputs": [],
   "source": [
    "product_count_by_subcategory.head()"
   ]
  },
  {
   "cell_type": "code",
   "execution_count": null,
   "id": "52a2d8cd",
   "metadata": {},
   "outputs": [],
   "source": [
    "top_n_subcategories = product_count_by_subcategory.head(20)\n",
    "others_count = product_count_by_subcategory.iloc[20:].sum()\n",
    "\n",
    "if others_count > 0:\n",
    "    top_n_subcategories['Other'] = others_count"
   ]
  },
  {
   "cell_type": "code",
   "execution_count": null,
   "id": "fd785f0e",
   "metadata": {},
   "outputs": [],
   "source": [
    "barplot = sns.barplot(x=top_n_subcategories.values, y=top_n_subcategories.index, palette=\"viridis\", hue=top_n_subcategories.index, dodge=False, legend=False)\n",
    "plt.xlabel('Product occurences')\n",
    "plt.ylabel('Subcategory')\n",
    "plt.title(f'Product count in subcategories')\n",
    "plt.gca().invert_yaxis()"
   ]
  },
  {
   "cell_type": "markdown",
   "id": "c1787f54",
   "metadata": {},
   "source": [
    "### 4.0 Check photo availability"
   ]
  },
  {
   "cell_type": "code",
   "execution_count": 35,
   "id": "b492d37f",
   "metadata": {},
   "outputs": [
    {
     "data": {
      "image/png": "[encoded data removed]",
      "text/plain": [
       "<Figure size 640x480 with 1 Axes>"
      ]
     },
     "metadata": {},
     "output_type": "display_data"
    }
   ],
   "source": [
    "import requests\n",
    "from PIL import Image\n",
    "from io import BytesIO\n",
    "\n",
    "with open(f'./meta_{FILE}.jsonl', 'r') as f:\n",
    "    data = f.readline()\n",
    "    first = json.loads(data)\n",
    "\n",
    "    image_url = first['images'][0]['large']\n",
    "\n",
    "    response = requests.get(image_url, stream=True)\n",
    "    response.raise_for_status()\n",
    "\n",
    "    img = Image.open(BytesIO(response.content))\n",
    "    plt.imshow(img)\n",
    "    plt.axis('off')\n",
    "    plt.show()\n"
   ]
  }
 ],
 "metadata": {
  "jupytext": {
   "cell_metadata_filter": "-all",
   "main_language": "python",
   "notebook_metadata_filter": "-all"
  },
  "kernelspec": {
   "display_name": "Python 3",
   "language": "python",
   "name": "python3"
  },
  "language_info": {
   "codemirror_mode": {
    "name": "ipython",
    "version": 3
   },
   "file_extension": ".py",
   "mimetype": "text/x-python",
   "name": "python",
   "nbconvert_exporter": "python",
   "pygments_lexer": "ipython3",
   "version": "3.13.3"
  }
 },
 "nbformat": 4,
 "nbformat_minor": 5
}
