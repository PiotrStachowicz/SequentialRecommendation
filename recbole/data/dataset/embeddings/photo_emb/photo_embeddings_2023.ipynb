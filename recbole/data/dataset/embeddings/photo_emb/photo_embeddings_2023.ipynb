{
 "cells": [
  {
   "cell_type": "markdown",
   "id": "2e1d6b7d2aa65aae",
   "metadata": {},
   "source": [
    "# Amazon photo downloader"
   ]
  },
  {
   "cell_type": "code",
   "id": "initial_id",
   "metadata": {
    "collapsed": true,
    "ExecuteTime": {
     "end_time": "2025-07-13T20:34:23.921150Z",
     "start_time": "2025-07-13T20:34:23.916305Z"
    }
   },
   "source": [
    "REVIEW_PATH = './Sports_and_Outdoors.jsonl'\n",
    "META_PATH = './meta_Sports_and_Outdoors.jsonl'\n",
    "SAVE_PATH = './photo_embeddings_2023.ent'\n",
    "SAVE_RAW_EMB_PATH = './photo_embeddings_2023_raw.jsonl'\n",
    "SUBSET = 1"
   ],
   "outputs": [],
   "execution_count": 1
  },
  {
   "cell_type": "markdown",
   "id": "c9ac48639908ab2b",
   "metadata": {},
   "source": [
    "## Product filtering"
   ]
  },
  {
   "cell_type": "code",
   "id": "a29a96754207e5aa",
   "metadata": {
    "ExecuteTime": {
     "end_time": "2025-07-13T20:35:36.438060Z",
     "start_time": "2025-07-13T20:34:23.989889Z"
    }
   },
   "source": [
    "import pandas as pd\n",
    "import json\n",
    "import gc\n",
    "\n",
    "data = []\n",
    "with open(REVIEW_PATH) as f:\n",
    "    for line in f:\n",
    "        entry = json.loads(line)\n",
    "\n",
    "        entry = {\n",
    "            'parent_asin': entry['parent_asin']\n",
    "        }\n",
    "\n",
    "        data.append(entry)\n",
    "\n",
    "df = pd.DataFrame(data)\n",
    "df.head(5)"
   ],
   "outputs": [
    {
     "data": {
      "text/plain": [
       "  parent_asin\n",
       "0  B0BGFR76CF\n",
       "1  B00NXQLFQQ\n",
       "2  B0957WLR63\n",
       "3  B00IET8S80\n",
       "4  B01C2SW7XA"
      ],
      "text/html": [
       "<div>\n",
       "<style scoped>\n",
       "    .dataframe tbody tr th:only-of-type {\n",
       "        vertical-align: middle;\n",
       "    }\n",
       "\n",
       "    .dataframe tbody tr th {\n",
       "        vertical-align: top;\n",
       "    }\n",
       "\n",
       "    .dataframe thead th {\n",
       "        text-align: right;\n",
       "    }\n",
       "</style>\n",
       "<table border=\"1\" class=\"dataframe\">\n",
       "  <thead>\n",
       "    <tr style=\"text-align: right;\">\n",
       "      <th></th>\n",
       "      <th>parent_asin</th>\n",
       "    </tr>\n",
       "  </thead>\n",
       "  <tbody>\n",
       "    <tr>\n",
       "      <th>0</th>\n",
       "      <td>B0BGFR76CF</td>\n",
       "    </tr>\n",
       "    <tr>\n",
       "      <th>1</th>\n",
       "      <td>B00NXQLFQQ</td>\n",
       "    </tr>\n",
       "    <tr>\n",
       "      <th>2</th>\n",
       "      <td>B0957WLR63</td>\n",
       "    </tr>\n",
       "    <tr>\n",
       "      <th>3</th>\n",
       "      <td>B00IET8S80</td>\n",
       "    </tr>\n",
       "    <tr>\n",
       "      <th>4</th>\n",
       "      <td>B01C2SW7XA</td>\n",
       "    </tr>\n",
       "  </tbody>\n",
       "</table>\n",
       "</div>"
      ]
     },
     "execution_count": 2,
     "metadata": {},
     "output_type": "execute_result"
    }
   ],
   "execution_count": 2
  },
  {
   "cell_type": "code",
   "id": "685e303f9367bdb0",
   "metadata": {
    "ExecuteTime": {
     "end_time": "2025-07-13T20:35:46.240002Z",
     "start_time": "2025-07-13T20:35:36.969882Z"
    }
   },
   "source": [
    "item_counts = df.groupby(\"parent_asin\").size().reset_index(name=\"review_count\")\n",
    "item_counts.head(5)"
   ],
   "outputs": [
    {
     "data": {
      "text/plain": [
       "  parent_asin  review_count\n",
       "0  0007325614             1\n",
       "1  0201397544             7\n",
       "2  030827962X             4\n",
       "3  0316287229            11\n",
       "4  0318279622             7"
      ],
      "text/html": [
       "<div>\n",
       "<style scoped>\n",
       "    .dataframe tbody tr th:only-of-type {\n",
       "        vertical-align: middle;\n",
       "    }\n",
       "\n",
       "    .dataframe tbody tr th {\n",
       "        vertical-align: top;\n",
       "    }\n",
       "\n",
       "    .dataframe thead th {\n",
       "        text-align: right;\n",
       "    }\n",
       "</style>\n",
       "<table border=\"1\" class=\"dataframe\">\n",
       "  <thead>\n",
       "    <tr style=\"text-align: right;\">\n",
       "      <th></th>\n",
       "      <th>parent_asin</th>\n",
       "      <th>review_count</th>\n",
       "    </tr>\n",
       "  </thead>\n",
       "  <tbody>\n",
       "    <tr>\n",
       "      <th>0</th>\n",
       "      <td>0007325614</td>\n",
       "      <td>1</td>\n",
       "    </tr>\n",
       "    <tr>\n",
       "      <th>1</th>\n",
       "      <td>0201397544</td>\n",
       "      <td>7</td>\n",
       "    </tr>\n",
       "    <tr>\n",
       "      <th>2</th>\n",
       "      <td>030827962X</td>\n",
       "      <td>4</td>\n",
       "    </tr>\n",
       "    <tr>\n",
       "      <th>3</th>\n",
       "      <td>0316287229</td>\n",
       "      <td>11</td>\n",
       "    </tr>\n",
       "    <tr>\n",
       "      <th>4</th>\n",
       "      <td>0318279622</td>\n",
       "      <td>7</td>\n",
       "    </tr>\n",
       "  </tbody>\n",
       "</table>\n",
       "</div>"
      ]
     },
     "execution_count": 3,
     "metadata": {},
     "output_type": "execute_result"
    }
   ],
   "execution_count": 3
  },
  {
   "cell_type": "code",
   "id": "8813f835ae376d82",
   "metadata": {
    "ExecuteTime": {
     "end_time": "2025-07-13T20:35:46.470992Z",
     "start_time": "2025-07-13T20:35:46.291688Z"
    }
   },
   "source": [
    "item_counts.sort_values(by=['review_count'], ascending=False, inplace=True)\n",
    "\n",
    "count = int(item_counts.shape[0] * SUBSET)\n",
    "item_subset = item_counts.iloc[:count]\n",
    "\n",
    "item_subset.head(10)"
   ],
   "outputs": [
    {
     "data": {
      "text/plain": [
       "        parent_asin  review_count\n",
       "542655   B00NWXLQD2         30369\n",
       "992373   B07BQRWTDJ         23638\n",
       "1578374  B0C5RBPW2Y         20298\n",
       "788846   B01L6RE7Z4         16590\n",
       "1468642  B09MJKJYLQ         15679\n",
       "1524787  B0B7J8Y581         14565\n",
       "1578780  B0C5XW2T2N         14478\n",
       "1466402  B09LW2KHPM         14029\n",
       "1532183  B0BBFB48YQ         13986\n",
       "1561750  B0BTNZ41Y7         13856"
      ],
      "text/html": [
       "<div>\n",
       "<style scoped>\n",
       "    .dataframe tbody tr th:only-of-type {\n",
       "        vertical-align: middle;\n",
       "    }\n",
       "\n",
       "    .dataframe tbody tr th {\n",
       "        vertical-align: top;\n",
       "    }\n",
       "\n",
       "    .dataframe thead th {\n",
       "        text-align: right;\n",
       "    }\n",
       "</style>\n",
       "<table border=\"1\" class=\"dataframe\">\n",
       "  <thead>\n",
       "    <tr style=\"text-align: right;\">\n",
       "      <th></th>\n",
       "      <th>parent_asin</th>\n",
       "      <th>review_count</th>\n",
       "    </tr>\n",
       "  </thead>\n",
       "  <tbody>\n",
       "    <tr>\n",
       "      <th>542655</th>\n",
       "      <td>B00NWXLQD2</td>\n",
       "      <td>30369</td>\n",
       "    </tr>\n",
       "    <tr>\n",
       "      <th>992373</th>\n",
       "      <td>B07BQRWTDJ</td>\n",
       "      <td>23638</td>\n",
       "    </tr>\n",
       "    <tr>\n",
       "      <th>1578374</th>\n",
       "      <td>B0C5RBPW2Y</td>\n",
       "      <td>20298</td>\n",
       "    </tr>\n",
       "    <tr>\n",
       "      <th>788846</th>\n",
       "      <td>B01L6RE7Z4</td>\n",
       "      <td>16590</td>\n",
       "    </tr>\n",
       "    <tr>\n",
       "      <th>1468642</th>\n",
       "      <td>B09MJKJYLQ</td>\n",
       "      <td>15679</td>\n",
       "    </tr>\n",
       "    <tr>\n",
       "      <th>1524787</th>\n",
       "      <td>B0B7J8Y581</td>\n",
       "      <td>14565</td>\n",
       "    </tr>\n",
       "    <tr>\n",
       "      <th>1578780</th>\n",
       "      <td>B0C5XW2T2N</td>\n",
       "      <td>14478</td>\n",
       "    </tr>\n",
       "    <tr>\n",
       "      <th>1466402</th>\n",
       "      <td>B09LW2KHPM</td>\n",
       "      <td>14029</td>\n",
       "    </tr>\n",
       "    <tr>\n",
       "      <th>1532183</th>\n",
       "      <td>B0BBFB48YQ</td>\n",
       "      <td>13986</td>\n",
       "    </tr>\n",
       "    <tr>\n",
       "      <th>1561750</th>\n",
       "      <td>B0BTNZ41Y7</td>\n",
       "      <td>13856</td>\n",
       "    </tr>\n",
       "  </tbody>\n",
       "</table>\n",
       "</div>"
      ]
     },
     "execution_count": 4,
     "metadata": {},
     "output_type": "execute_result"
    }
   ],
   "execution_count": 4
  },
  {
   "cell_type": "code",
   "id": "a4ce6767c480fa9b",
   "metadata": {
    "ExecuteTime": {
     "end_time": "2025-07-13T20:35:52.002204Z",
     "start_time": "2025-07-13T20:35:46.559058Z"
    }
   },
   "source": [
    "df = df[df['parent_asin'].isin(item_subset['parent_asin'])]\n",
    "df.head(5)"
   ],
   "outputs": [
    {
     "data": {
      "text/plain": [
       "  parent_asin\n",
       "0  B0BGFR76CF\n",
       "1  B00NXQLFQQ\n",
       "2  B0957WLR63\n",
       "3  B00IET8S80\n",
       "4  B01C2SW7XA"
      ],
      "text/html": [
       "<div>\n",
       "<style scoped>\n",
       "    .dataframe tbody tr th:only-of-type {\n",
       "        vertical-align: middle;\n",
       "    }\n",
       "\n",
       "    .dataframe tbody tr th {\n",
       "        vertical-align: top;\n",
       "    }\n",
       "\n",
       "    .dataframe thead th {\n",
       "        text-align: right;\n",
       "    }\n",
       "</style>\n",
       "<table border=\"1\" class=\"dataframe\">\n",
       "  <thead>\n",
       "    <tr style=\"text-align: right;\">\n",
       "      <th></th>\n",
       "      <th>parent_asin</th>\n",
       "    </tr>\n",
       "  </thead>\n",
       "  <tbody>\n",
       "    <tr>\n",
       "      <th>0</th>\n",
       "      <td>B0BGFR76CF</td>\n",
       "    </tr>\n",
       "    <tr>\n",
       "      <th>1</th>\n",
       "      <td>B00NXQLFQQ</td>\n",
       "    </tr>\n",
       "    <tr>\n",
       "      <th>2</th>\n",
       "      <td>B0957WLR63</td>\n",
       "    </tr>\n",
       "    <tr>\n",
       "      <th>3</th>\n",
       "      <td>B00IET8S80</td>\n",
       "    </tr>\n",
       "    <tr>\n",
       "      <th>4</th>\n",
       "      <td>B01C2SW7XA</td>\n",
       "    </tr>\n",
       "  </tbody>\n",
       "</table>\n",
       "</div>"
      ]
     },
     "execution_count": 5,
     "metadata": {},
     "output_type": "execute_result"
    }
   ],
   "execution_count": 5
  },
  {
   "cell_type": "markdown",
   "id": "4a6f87fd7b0c64d2",
   "metadata": {},
   "source": [
    "## (item_id, url) preparation"
   ]
  },
  {
   "cell_type": "code",
   "id": "c6f83249779fbe85",
   "metadata": {
    "ExecuteTime": {
     "end_time": "2025-07-13T20:36:14.181957Z",
     "start_time": "2025-07-13T20:35:52.052958Z"
    }
   },
   "source": [
    "data = []\n",
    "with open(META_PATH) as f:\n",
    "    for line in f:\n",
    "        entry = json.loads(line)\n",
    "\n",
    "        images_list = entry['images']\n",
    "\n",
    "        if len(images_list) == 0:\n",
    "            continue\n",
    "\n",
    "        entry = {\n",
    "            'parent_asin': entry['parent_asin'],\n",
    "            'url': images_list[0].get('thumb', None),\n",
    "        }\n",
    "\n",
    "        data.append(entry)\n",
    "\n",
    "df = pd.DataFrame(data)\n",
    "df.head(5)"
   ],
   "outputs": [
    {
     "data": {
      "text/plain": [
       "  parent_asin                                                url\n",
       "0  B01HDXC8AG  https://m.media-amazon.com/images/I/510tgKWHp2...\n",
       "1  B07R5BQ4YD  https://m.media-amazon.com/images/I/31tHUCk7ls...\n",
       "2  B003K8GZ7G  https://m.media-amazon.com/images/I/41RVlcUTMs...\n",
       "3  B08GC4GBWB  https://m.media-amazon.com/images/I/41bDwvySkD...\n",
       "4  B07BYV947H  https://m.media-amazon.com/images/I/41FrdMQKGi..."
      ],
      "text/html": [
       "<div>\n",
       "<style scoped>\n",
       "    .dataframe tbody tr th:only-of-type {\n",
       "        vertical-align: middle;\n",
       "    }\n",
       "\n",
       "    .dataframe tbody tr th {\n",
       "        vertical-align: top;\n",
       "    }\n",
       "\n",
       "    .dataframe thead th {\n",
       "        text-align: right;\n",
       "    }\n",
       "</style>\n",
       "<table border=\"1\" class=\"dataframe\">\n",
       "  <thead>\n",
       "    <tr style=\"text-align: right;\">\n",
       "      <th></th>\n",
       "      <th>parent_asin</th>\n",
       "      <th>url</th>\n",
       "    </tr>\n",
       "  </thead>\n",
       "  <tbody>\n",
       "    <tr>\n",
       "      <th>0</th>\n",
       "      <td>B01HDXC8AG</td>\n",
       "      <td>https://m.media-amazon.com/images/I/510tgKWHp2...</td>\n",
       "    </tr>\n",
       "    <tr>\n",
       "      <th>1</th>\n",
       "      <td>B07R5BQ4YD</td>\n",
       "      <td>https://m.media-amazon.com/images/I/31tHUCk7ls...</td>\n",
       "    </tr>\n",
       "    <tr>\n",
       "      <th>2</th>\n",
       "      <td>B003K8GZ7G</td>\n",
       "      <td>https://m.media-amazon.com/images/I/41RVlcUTMs...</td>\n",
       "    </tr>\n",
       "    <tr>\n",
       "      <th>3</th>\n",
       "      <td>B08GC4GBWB</td>\n",
       "      <td>https://m.media-amazon.com/images/I/41bDwvySkD...</td>\n",
       "    </tr>\n",
       "    <tr>\n",
       "      <th>4</th>\n",
       "      <td>B07BYV947H</td>\n",
       "      <td>https://m.media-amazon.com/images/I/41FrdMQKGi...</td>\n",
       "    </tr>\n",
       "  </tbody>\n",
       "</table>\n",
       "</div>"
      ]
     },
     "execution_count": 6,
     "metadata": {},
     "output_type": "execute_result"
    }
   ],
   "execution_count": 6
  },
  {
   "cell_type": "code",
   "id": "e78a87b6e7d29492",
   "metadata": {
    "ExecuteTime": {
     "end_time": "2025-07-13T20:36:15.956935Z",
     "start_time": "2025-07-13T20:36:14.248329Z"
    }
   },
   "source": [
    "df = df[df['parent_asin'].isin(item_subset['parent_asin'])]\n",
    "df.head(5)"
   ],
   "outputs": [
    {
     "data": {
      "text/plain": [
       "  parent_asin                                                url\n",
       "0  B01HDXC8AG  https://m.media-amazon.com/images/I/510tgKWHp2...\n",
       "1  B07R5BQ4YD  https://m.media-amazon.com/images/I/31tHUCk7ls...\n",
       "2  B003K8GZ7G  https://m.media-amazon.com/images/I/41RVlcUTMs...\n",
       "3  B08GC4GBWB  https://m.media-amazon.com/images/I/41bDwvySkD...\n",
       "4  B07BYV947H  https://m.media-amazon.com/images/I/41FrdMQKGi..."
      ],
      "text/html": [
       "<div>\n",
       "<style scoped>\n",
       "    .dataframe tbody tr th:only-of-type {\n",
       "        vertical-align: middle;\n",
       "    }\n",
       "\n",
       "    .dataframe tbody tr th {\n",
       "        vertical-align: top;\n",
       "    }\n",
       "\n",
       "    .dataframe thead th {\n",
       "        text-align: right;\n",
       "    }\n",
       "</style>\n",
       "<table border=\"1\" class=\"dataframe\">\n",
       "  <thead>\n",
       "    <tr style=\"text-align: right;\">\n",
       "      <th></th>\n",
       "      <th>parent_asin</th>\n",
       "      <th>url</th>\n",
       "    </tr>\n",
       "  </thead>\n",
       "  <tbody>\n",
       "    <tr>\n",
       "      <th>0</th>\n",
       "      <td>B01HDXC8AG</td>\n",
       "      <td>https://m.media-amazon.com/images/I/510tgKWHp2...</td>\n",
       "    </tr>\n",
       "    <tr>\n",
       "      <th>1</th>\n",
       "      <td>B07R5BQ4YD</td>\n",
       "      <td>https://m.media-amazon.com/images/I/31tHUCk7ls...</td>\n",
       "    </tr>\n",
       "    <tr>\n",
       "      <th>2</th>\n",
       "      <td>B003K8GZ7G</td>\n",
       "      <td>https://m.media-amazon.com/images/I/41RVlcUTMs...</td>\n",
       "    </tr>\n",
       "    <tr>\n",
       "      <th>3</th>\n",
       "      <td>B08GC4GBWB</td>\n",
       "      <td>https://m.media-amazon.com/images/I/41bDwvySkD...</td>\n",
       "    </tr>\n",
       "    <tr>\n",
       "      <th>4</th>\n",
       "      <td>B07BYV947H</td>\n",
       "      <td>https://m.media-amazon.com/images/I/41FrdMQKGi...</td>\n",
       "    </tr>\n",
       "  </tbody>\n",
       "</table>\n",
       "</div>"
      ]
     },
     "execution_count": 7,
     "metadata": {},
     "output_type": "execute_result"
    }
   ],
   "execution_count": 7
  },
  {
   "cell_type": "markdown",
   "id": "ed350fccfb4e4531",
   "metadata": {},
   "source": [
    "## Parallel requests with exponential backoff"
   ]
  },
  {
   "cell_type": "code",
   "id": "2b293800171aa04c",
   "metadata": {
    "ExecuteTime": {
     "end_time": "2025-07-13T20:36:16.084471Z",
     "start_time": "2025-07-13T20:36:16.081237Z"
    }
   },
   "source": [
    "FILE_SYSTEM_PREFIX = './images/'\n",
    "WINDOW_SIZE = 100\n",
    "BASE_DELAY = 1\n",
    "PATIENCE = 3\n",
    "CONCURRENCY = 5\n",
    "USER_AGENTS = [\n",
    "    # Chrome (Windows/Mac/Linux)\n",
    "    \"Mozilla/5.0 (Windows NT 10.0; Win64; x64) AppleWebKit/537.36 (KHTML, like Gecko) Chrome/125.0.0.0 Safari/537.36\",\n",
    "    \"Mozilla/5.0 (Macintosh; Intel Mac OS X 14_5) AppleWebKit/537.36 (KHTML, like Gecko) Chrome/125.0.0.0 Safari/537.36\",\n",
    "    \"Mozilla/5.0 (X11; Linux x86_64) AppleWebKit/537.36 (KHTML, like Gecko) Chrome/125.0.0.0 Safari/537.36\",\n",
    "\n",
    "    # Firefox (Windows/Mac/Linux)\n",
    "    \"Mozilla/5.0 (Windows NT 10.0; Win64; x64; rv:127.0) Gecko/20100101 Firefox/127.0\",\n",
    "    \"Mozilla/5.0 (Macintosh; Intel Mac OS X 14.5; rv:127.0) Gecko/20100101 Firefox/127.0\",\n",
    "    \"Mozilla/5.0 (X11; Linux i686; rv:127.0) Gecko/20100101 Firefox/127.0\",\n",
    "\n",
    "    # Safari (Mac/iOS)\n",
    "    \"Mozilla/5.0 (Macintosh; Intel Mac OS X 14_5) AppleWebKit/605.1.15 (KHTML, like Gecko) Version/17.4.1 Safari/605.1.15\",\n",
    "    \"Mozilla/5.0 (iPhone; CPU iPhone OS 17_5 like Mac OS X) AppleWebKit/605.1.15 (KHTML, like Gecko) Version/17.4.1 Mobile/15E148 Safari/604.1\",\n",
    "\n",
    "    # Edge (Windows)\n",
    "    \"Mozilla/5.0 (Windows NT 10.0; Win64; x64) AppleWebKit/537.36 (KHTML, like Gecko) Chrome/125.0.0.0 Safari/537.36 Edg/125.0.0.0\",\n",
    "\n",
    "    # Mobile Devices (Android/Samsung)\n",
    "    \"Mozilla/5.0 (Linux; Android 14; SM-S928U) AppleWebKit/537.36 (KHTML, like Gecko) Chrome/125.0.6422.147 Mobile Safari/537.36\",\n",
    "    \"Mozilla/5.0 (Linux; Android 14; Pixel 8 Pro) AppleWebKit/537.36 (KHTML, like Gecko) Chrome/125.0.6422.147 Mobile Safari/537.36\",\n",
    "\n",
    "    # Tablets\n",
    "    \"Mozilla/5.0 (iPad; CPU OS 17_5 like Mac OS X) AppleWebKit/605.1.15 (KHTML, like Gecko) Version/17.4.1 Mobile/15E148 Safari/604.1\",\n",
    "    \"Mozilla/5.0 (Linux; Android 14; SM-X810) AppleWebKit/537.36 (KHTML, like Gecko) Chrome/125.0.6422.147 Safari/537.36\",\n",
    "\n",
    "    # Less Common Browsers\n",
    "    \"Mozilla/5.0 (Windows NT 10.0; WOW64) AppleWebKit/537.36 (KHTML, like Gecko) Chrome/125.0.0.0 Safari/537.36 Vivaldi/6.6\",\n",
    "    \"Mozilla/5.0 (Windows NT 10.0; Win64; x64) AppleWebKit/537.36 (KHTML, like Gecko) Chrome/125.0.0.0 Safari/537.36 OPR/102.0.0.0\"\n",
    "]"
   ],
   "outputs": [],
   "execution_count": 8
  },
  {
   "cell_type": "code",
   "id": "d094b6fdcf39e6ff",
   "metadata": {
    "ExecuteTime": {
     "end_time": "2025-07-13T20:36:16.379114Z",
     "start_time": "2025-07-13T20:36:16.153779Z"
    }
   },
   "source": [
    "import asyncio\n",
    "import aiohttp\n",
    "from tqdm import tqdm\n",
    "import random\n",
    "import uuid\n",
    "import base64\n",
    "\n",
    "data = []\n",
    "async def make_request(item_id, url, session, semaphore):\n",
    "    global data\n",
    "    for i in range(PATIENCE):\n",
    "        try:\n",
    "            async with semaphore:\n",
    "                headers = {\n",
    "                    \"User-Agent\": random.choice(USER_AGENTS),\n",
    "                    \"Accept-Language\": random.choice([\"en-US\", \"en-GB\", \"en-CA\"])\n",
    "                }\n",
    "                cookies={\n",
    "                    \"session-id\": str(uuid.uuid4()),\n",
    "                    \"ubid-acbca\": random.randint(1000000000, 9999999999)\n",
    "                }\n",
    "\n",
    "                async with session.get(url, headers=headers, cookies=cookies) as response:\n",
    "                    if response.status == 200: # OK\n",
    "                        photo_data = await response.read()\n",
    "\n",
    "                        data.append({\n",
    "                            'parent_asin': item_id,\n",
    "                            'photo_bytes': base64.b64encode(photo_data)\n",
    "                        })\n",
    "\n",
    "                    elif response.status in (429, 503): # backoff\n",
    "                        retry_after = response.headers.get(\"Retry-After\")\n",
    "                        wait_time = float(retry_after) if retry_after else BASE_DELAY * (2 ** i)\n",
    "                        await asyncio.sleep(wait_time)\n",
    "\n",
    "                    elif 500 <= response.status < 600:\n",
    "                        wait_time = BASE_DELAY * (2 ** i)\n",
    "                        await asyncio.sleep(wait_time)\n",
    "\n",
    "                    else: # Something bad happened\n",
    "                        break\n",
    "\n",
    "        except (aiohttp.ClientError, asyncio.TimeoutError): # backoff\n",
    "            wait_time = BASE_DELAY * (2 ** i) * (1 + random.random())\n",
    "            await asyncio.sleep(wait_time)\n",
    "\n",
    "    data.append({'parent_asin': item_id, 'photo_bytes': None})\n",
    "\n",
    "\n",
    "async def handle_batch(batch, semaphore):\n",
    "    global data\n",
    "    async with aiohttp.ClientSession() as session:\n",
    "        tasks = [make_request(item_id, url, session, semaphore) for item_id, url in batch if url]\n",
    "\n",
    "        await asyncio.gather(*tasks)\n",
    "\n",
    "        # This is not a bottleneck!\n",
    "        for photo_entry in data:\n",
    "            if photo_entry['photo_bytes']:\n",
    "                with open(f\"{FILE_SYSTEM_PREFIX}{photo_entry['parent_asin']}.jpg\", 'wb') as o:\n",
    "                    o.write(photo_entry['photo_bytes'])\n",
    "\n",
    "        data = []\n",
    "\n",
    "\n",
    "async def download():\n",
    "    semaphore = asyncio.Semaphore(CONCURRENCY)\n",
    "\n",
    "    for i in tqdm(range(0, count, WINDOW_SIZE)):\n",
    "        batch = df.iloc[i:i+WINDOW_SIZE]\n",
    "\n",
    "        item_ids = batch['parent_asin'].tolist()\n",
    "        urls = batch['url'].tolist()\n",
    "\n",
    "        await handle_batch(zip(item_ids, urls), semaphore)"
   ],
   "outputs": [],
   "execution_count": 9
  },
  {
   "cell_type": "code",
   "id": "bc58540a7d9aaf68",
   "metadata": {
    "ExecuteTime": {
     "end_time": "2025-07-13T20:36:16.397452Z",
     "start_time": "2025-07-13T20:36:16.395097Z"
    }
   },
   "source": "#await download()",
   "outputs": [],
   "execution_count": 10
  },
  {
   "cell_type": "markdown",
   "id": "3549cdfcd91d3006",
   "metadata": {},
   "source": [
    "## Photo embedding"
   ]
  },
  {
   "cell_type": "code",
   "id": "47d3bb42515a049a",
   "metadata": {
    "ExecuteTime": {
     "end_time": "2025-07-13T20:36:21.062819Z",
     "start_time": "2025-07-13T20:36:16.448209Z"
    }
   },
   "source": [
    "import torch\n",
    "import torchvision.transforms as transforms\n",
    "from torchvision.models import resnet50\n",
    "from PIL import Image\n",
    "from tqdm import tqdm\n",
    "\n",
    "device = \"cuda\"\n",
    "print(f'Using device: {device}')\n",
    "\n",
    "model = resnet50(weights=\"IMAGENET1K_V1\")\n",
    "model.classifier = torch.nn.Identity()  # Remove final classification layer\n",
    "model.eval().to(device)\n",
    "\n",
    "transform = transforms.Compose([\n",
    "    transforms.Resize((224, 224)),\n",
    "    transforms.ToTensor(),\n",
    "    transforms.Normalize(\n",
    "        mean=[0.485, 0.456, 0.406],\n",
    "        std=[0.229, 0.224, 0.225])\n",
    "])"
   ],
   "outputs": [
    {
     "name": "stdout",
     "output_type": "stream",
     "text": [
      "Using device: cuda\n"
     ]
    },
    {
     "name": "stderr",
     "output_type": "stream",
     "text": [
      "Downloading: \"https://download.pytorch.org/models/resnet50-0676ba61.pth\" to /home/piotrs/.cache/torch/hub/checkpoints/resnet50-0676ba61.pth\n",
      "100%|██████████| 97.8M/97.8M [00:01<00:00, 90.8MB/s]\n"
     ]
    }
   ],
   "execution_count": 11
  },
  {
   "metadata": {
    "ExecuteTime": {
     "end_time": "2025-07-13T20:36:21.078993Z",
     "start_time": "2025-07-13T20:36:21.076331Z"
    }
   },
   "cell_type": "code",
   "source": [
    "def embed_images(batch):\n",
    "    tensors = torch.stack([transform(img) for img in batch]).to(device)\n",
    "    with torch.no_grad():\n",
    "        emb = model(tensors)\n",
    "    return emb.cpu().numpy()"
   ],
   "id": "c3280aff044a21f5",
   "outputs": [],
   "execution_count": 12
  },
  {
   "metadata": {
    "ExecuteTime": {
     "end_time": "2025-07-13T20:37:12.620083Z",
     "start_time": "2025-07-13T20:36:21.138470Z"
    }
   },
   "cell_type": "code",
   "source": [
    "import os\n",
    "seq = []\n",
    "\n",
    "for index, entry in tqdm(df.iterrows(), total=len(df)):\n",
    "    if os.path.exists(f\"{FILE_SYSTEM_PREFIX}{entry['parent_asin']}.jpg\"):\n",
    "        seq.append(entry['parent_asin'])"
   ],
   "id": "7bbd78f9c1fd1415",
   "outputs": [
    {
     "name": "stderr",
     "output_type": "stream",
     "text": [
      "100%|██████████| 1586679/1586679 [00:51<00:00, 30823.41it/s]\n"
     ]
    }
   ],
   "execution_count": 13
  },
  {
   "cell_type": "code",
   "id": "a9efc99abdbd2888",
   "metadata": {
    "ExecuteTime": {
     "start_time": "2025-07-13T20:37:12.635415Z"
    }
   },
   "source": [
    "data = []\n",
    "BATCH_SIZE = 16\n",
    "image_batch = []\n",
    "item_id_batch = []\n",
    "\n",
    "for item_id in tqdm(seq):\n",
    "\n",
    "    image = Image.open(f\"{FILE_SYSTEM_PREFIX}{item_id}.jpg\").convert(\"RGB\")\n",
    "    image_batch.append(image)\n",
    "    item_id_batch.append(item_id)\n",
    "\n",
    "    if len(image_batch) == BATCH_SIZE:\n",
    "        embeddings = embed_images(image_batch)\n",
    "\n",
    "        for i, embedding in enumerate(embeddings):\n",
    "            data.append({\n",
    "                'parent_asin': item_id_batch[i],\n",
    "                'embedding': embedding\n",
    "            })\n",
    "\n",
    "        image_batch = []\n",
    "        item_id_batch = []\n",
    "\n",
    "if image_batch:\n",
    "    embeddings = embed_images(image_batch)\n",
    "\n",
    "    for i in range(len(embeddings)):\n",
    "        data.append({\n",
    "            'parent_asin': item_id_batch[i],\n",
    "            'embedding': embeddings[i]\n",
    "        })"
   ],
   "outputs": [
    {
     "name": "stderr",
     "output_type": "stream",
     "text": [
      " 91%|█████████▏| 1448480/1585872 [1:13:07<48:15:24,  1.26s/it]"
     ]
    }
   ],
   "execution_count": null
  },
  {
   "metadata": {},
   "cell_type": "markdown",
   "source": "## Save raw embeddings",
   "id": "e2b887910d962151"
  },
  {
   "metadata": {},
   "cell_type": "code",
   "outputs": [],
   "execution_count": null,
   "source": [
    "ser_data = [\n",
    "    {\n",
    "        'parent_asin': entry['parent_asin'],\n",
    "        'embedding': entry['embedding'].tolist()\n",
    "    }\n",
    "    for entry in data\n",
    "]\n",
    "\n",
    "with open(SAVE_RAW_EMB_PATH, 'w') as f:\n",
    "    json.dump(ser_data, f)"
   ],
   "id": "938cd6d6af015b09"
  },
  {
   "cell_type": "markdown",
   "id": "490eb3adcf41d3a8",
   "metadata": {},
   "source": [
    "## (Incremental) PCA for dimention reduction\n",
    "\n",
    "###### Or use PCA for better quality, if you have 32GB ram"
   ]
  },
  {
   "cell_type": "code",
   "id": "c5261151189dbb10",
   "metadata": {},
   "source": [
    "from sklearn.decomposition import IncrementalPCA\n",
    "\n",
    "iPCA = IncrementalPCA(n_components=64)\n",
    "emb_64 = iPCA.fit_transform(data)\n",
    "print(emb_64.explained_variance_ratio_.sum())"
   ],
   "outputs": [],
   "execution_count": null
  },
  {
   "cell_type": "code",
   "id": "202af16a72790daf",
   "metadata": {},
   "source": [
    "iPCA = IncrementalPCA(n_components=128)\n",
    "emb_128 = iPCA.fit_transform(data)\n",
    "print(emb_64.explained_variance_ratio_.sum())"
   ],
   "outputs": [],
   "execution_count": null
  },
  {
   "cell_type": "markdown",
   "id": "d9df31a3fe42c5ad",
   "metadata": {},
   "source": [
    "## Create .ent file"
   ]
  },
  {
   "cell_type": "code",
   "id": "54f8fb9f1e18f793",
   "metadata": {},
   "source": [
    "df = df[['parent_asin']]\n",
    "df.rename(columns={'parent_asin': 'ent_id:token'}, inplace=True)\n",
    "\n",
    "df['ent_emb:float_seq'] = [' '.join(map(str, vec)) for vec in emb_128]\n",
    "df.head(5)"
   ],
   "outputs": [],
   "execution_count": null
  },
  {
   "cell_type": "code",
   "id": "a7ccd206f98fba0f",
   "metadata": {},
   "source": [
    "df.to_csv(SAVE_PATH, sep='\\t', index=False)"
   ],
   "outputs": [],
   "execution_count": null
  }
 ],
 "metadata": {
  "kernelspec": {
   "display_name": "Python 3",
   "language": "python",
   "name": "python3"
  },
  "language_info": {
   "codemirror_mode": {
    "name": "ipython",
    "version": 3
   },
   "file_extension": ".py",
   "mimetype": "text/x-python",
   "name": "python",
   "nbconvert_exporter": "python",
   "pygments_lexer": "ipython3",
   "version": "3.13.5"
  }
 },
 "nbformat": 4,
 "nbformat_minor": 5
}
