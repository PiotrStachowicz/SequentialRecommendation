{
 "cells": [
  {
   "metadata": {},
   "cell_type": "markdown",
   "source": "# Amazon photo downloader",
   "id": "2e1d6b7d2aa65aae"
  },
  {
   "cell_type": "code",
   "id": "initial_id",
   "metadata": {
    "collapsed": true,
    "ExecuteTime": {
     "end_time": "2025-07-02T23:02:53.619144Z",
     "start_time": "2025-07-02T23:02:53.609249Z"
    }
   },
   "source": [
    "from exceptiongroup import catch\n",
    "\n",
    "REVIEW_PATH = './Sports_and_Outdoors.jsonl'\n",
    "META_PATH = './meta_Sports_and_Outdoors.jsonl'\n",
    "SAVE_PATH = './test.jsonl'\n",
    "SUBSET = 0.1"
   ],
   "outputs": [],
   "execution_count": 22
  },
  {
   "metadata": {},
   "cell_type": "markdown",
   "source": "## Product filtering",
   "id": "c9ac48639908ab2b"
  },
  {
   "metadata": {
    "ExecuteTime": {
     "end_time": "2025-07-02T22:16:57.431467Z",
     "start_time": "2025-07-02T22:15:51.189160Z"
    }
   },
   "cell_type": "code",
   "source": [
    "import pandas as pd\n",
    "import json\n",
    "\n",
    "data = []\n",
    "with open(REVIEW_PATH) as f:\n",
    "    for line in f:\n",
    "        entry = json.loads(line)\n",
    "\n",
    "        entry = {\n",
    "            'parent_asin': entry['parent_asin']\n",
    "        }\n",
    "\n",
    "        data.append(entry)\n",
    "\n",
    "df = pd.DataFrame(data)\n",
    "df.head(5)"
   ],
   "id": "a29a96754207e5aa",
   "outputs": [
    {
     "data": {
      "text/plain": [
       "  parent_asin\n",
       "0  B0BGFR76CF\n",
       "1  B00NXQLFQQ\n",
       "2  B0957WLR63\n",
       "3  B00IET8S80\n",
       "4  B01C2SW7XA"
      ],
      "text/html": [
       "<div>\n",
       "<style scoped>\n",
       "    .dataframe tbody tr th:only-of-type {\n",
       "        vertical-align: middle;\n",
       "    }\n",
       "\n",
       "    .dataframe tbody tr th {\n",
       "        vertical-align: top;\n",
       "    }\n",
       "\n",
       "    .dataframe thead th {\n",
       "        text-align: right;\n",
       "    }\n",
       "</style>\n",
       "<table border=\"1\" class=\"dataframe\">\n",
       "  <thead>\n",
       "    <tr style=\"text-align: right;\">\n",
       "      <th></th>\n",
       "      <th>parent_asin</th>\n",
       "    </tr>\n",
       "  </thead>\n",
       "  <tbody>\n",
       "    <tr>\n",
       "      <th>0</th>\n",
       "      <td>B0BGFR76CF</td>\n",
       "    </tr>\n",
       "    <tr>\n",
       "      <th>1</th>\n",
       "      <td>B00NXQLFQQ</td>\n",
       "    </tr>\n",
       "    <tr>\n",
       "      <th>2</th>\n",
       "      <td>B0957WLR63</td>\n",
       "    </tr>\n",
       "    <tr>\n",
       "      <th>3</th>\n",
       "      <td>B00IET8S80</td>\n",
       "    </tr>\n",
       "    <tr>\n",
       "      <th>4</th>\n",
       "      <td>B01C2SW7XA</td>\n",
       "    </tr>\n",
       "  </tbody>\n",
       "</table>\n",
       "</div>"
      ]
     },
     "execution_count": 2,
     "metadata": {},
     "output_type": "execute_result"
    }
   ],
   "execution_count": 2
  },
  {
   "metadata": {
    "ExecuteTime": {
     "end_time": "2025-07-02T22:17:03.683345Z",
     "start_time": "2025-07-02T22:16:57.490748Z"
    }
   },
   "cell_type": "code",
   "source": [
    "item_counts = df.groupby(\"parent_asin\").size().reset_index(name=\"review_count\")\n",
    "item_counts.head(5)"
   ],
   "id": "685e303f9367bdb0",
   "outputs": [
    {
     "data": {
      "text/plain": [
       "  parent_asin  review_count\n",
       "0  0007325614             1\n",
       "1  0201397544             7\n",
       "2  030827962X             4\n",
       "3  0316287229            11\n",
       "4  0318279622             7"
      ],
      "text/html": [
       "<div>\n",
       "<style scoped>\n",
       "    .dataframe tbody tr th:only-of-type {\n",
       "        vertical-align: middle;\n",
       "    }\n",
       "\n",
       "    .dataframe tbody tr th {\n",
       "        vertical-align: top;\n",
       "    }\n",
       "\n",
       "    .dataframe thead th {\n",
       "        text-align: right;\n",
       "    }\n",
       "</style>\n",
       "<table border=\"1\" class=\"dataframe\">\n",
       "  <thead>\n",
       "    <tr style=\"text-align: right;\">\n",
       "      <th></th>\n",
       "      <th>parent_asin</th>\n",
       "      <th>review_count</th>\n",
       "    </tr>\n",
       "  </thead>\n",
       "  <tbody>\n",
       "    <tr>\n",
       "      <th>0</th>\n",
       "      <td>0007325614</td>\n",
       "      <td>1</td>\n",
       "    </tr>\n",
       "    <tr>\n",
       "      <th>1</th>\n",
       "      <td>0201397544</td>\n",
       "      <td>7</td>\n",
       "    </tr>\n",
       "    <tr>\n",
       "      <th>2</th>\n",
       "      <td>030827962X</td>\n",
       "      <td>4</td>\n",
       "    </tr>\n",
       "    <tr>\n",
       "      <th>3</th>\n",
       "      <td>0316287229</td>\n",
       "      <td>11</td>\n",
       "    </tr>\n",
       "    <tr>\n",
       "      <th>4</th>\n",
       "      <td>0318279622</td>\n",
       "      <td>7</td>\n",
       "    </tr>\n",
       "  </tbody>\n",
       "</table>\n",
       "</div>"
      ]
     },
     "execution_count": 3,
     "metadata": {},
     "output_type": "execute_result"
    }
   ],
   "execution_count": 3
  },
  {
   "metadata": {
    "ExecuteTime": {
     "end_time": "2025-07-02T22:17:04.168079Z",
     "start_time": "2025-07-02T22:17:04.006923Z"
    }
   },
   "cell_type": "code",
   "source": [
    "item_counts.sort_values(by=['review_count'], ascending=False, inplace=True)\n",
    "\n",
    "count = int(item_counts.shape[0] * 0.1)\n",
    "item_subset = item_counts.iloc[:count]\n",
    "\n",
    "item_subset.head(10)"
   ],
   "id": "8813f835ae376d82",
   "outputs": [
    {
     "data": {
      "text/plain": [
       "        parent_asin  review_count\n",
       "542655   B00NWXLQD2         30369\n",
       "992373   B07BQRWTDJ         23638\n",
       "1578374  B0C5RBPW2Y         20298\n",
       "788846   B01L6RE7Z4         16590\n",
       "1468642  B09MJKJYLQ         15679\n",
       "1524787  B0B7J8Y581         14565\n",
       "1578780  B0C5XW2T2N         14478\n",
       "1466402  B09LW2KHPM         14029\n",
       "1532183  B0BBFB48YQ         13986\n",
       "1561750  B0BTNZ41Y7         13856"
      ],
      "text/html": [
       "<div>\n",
       "<style scoped>\n",
       "    .dataframe tbody tr th:only-of-type {\n",
       "        vertical-align: middle;\n",
       "    }\n",
       "\n",
       "    .dataframe tbody tr th {\n",
       "        vertical-align: top;\n",
       "    }\n",
       "\n",
       "    .dataframe thead th {\n",
       "        text-align: right;\n",
       "    }\n",
       "</style>\n",
       "<table border=\"1\" class=\"dataframe\">\n",
       "  <thead>\n",
       "    <tr style=\"text-align: right;\">\n",
       "      <th></th>\n",
       "      <th>parent_asin</th>\n",
       "      <th>review_count</th>\n",
       "    </tr>\n",
       "  </thead>\n",
       "  <tbody>\n",
       "    <tr>\n",
       "      <th>542655</th>\n",
       "      <td>B00NWXLQD2</td>\n",
       "      <td>30369</td>\n",
       "    </tr>\n",
       "    <tr>\n",
       "      <th>992373</th>\n",
       "      <td>B07BQRWTDJ</td>\n",
       "      <td>23638</td>\n",
       "    </tr>\n",
       "    <tr>\n",
       "      <th>1578374</th>\n",
       "      <td>B0C5RBPW2Y</td>\n",
       "      <td>20298</td>\n",
       "    </tr>\n",
       "    <tr>\n",
       "      <th>788846</th>\n",
       "      <td>B01L6RE7Z4</td>\n",
       "      <td>16590</td>\n",
       "    </tr>\n",
       "    <tr>\n",
       "      <th>1468642</th>\n",
       "      <td>B09MJKJYLQ</td>\n",
       "      <td>15679</td>\n",
       "    </tr>\n",
       "    <tr>\n",
       "      <th>1524787</th>\n",
       "      <td>B0B7J8Y581</td>\n",
       "      <td>14565</td>\n",
       "    </tr>\n",
       "    <tr>\n",
       "      <th>1578780</th>\n",
       "      <td>B0C5XW2T2N</td>\n",
       "      <td>14478</td>\n",
       "    </tr>\n",
       "    <tr>\n",
       "      <th>1466402</th>\n",
       "      <td>B09LW2KHPM</td>\n",
       "      <td>14029</td>\n",
       "    </tr>\n",
       "    <tr>\n",
       "      <th>1532183</th>\n",
       "      <td>B0BBFB48YQ</td>\n",
       "      <td>13986</td>\n",
       "    </tr>\n",
       "    <tr>\n",
       "      <th>1561750</th>\n",
       "      <td>B0BTNZ41Y7</td>\n",
       "      <td>13856</td>\n",
       "    </tr>\n",
       "  </tbody>\n",
       "</table>\n",
       "</div>"
      ]
     },
     "execution_count": 4,
     "metadata": {},
     "output_type": "execute_result"
    }
   ],
   "execution_count": 4
  },
  {
   "metadata": {
    "ExecuteTime": {
     "end_time": "2025-07-02T22:17:07.994961Z",
     "start_time": "2025-07-02T22:17:04.219908Z"
    }
   },
   "cell_type": "code",
   "source": [
    "df = df[df['parent_asin'].isin(item_subset['parent_asin'])]\n",
    "df.head(5)"
   ],
   "id": "a4ce6767c480fa9b",
   "outputs": [
    {
     "data": {
      "text/plain": [
       "  parent_asin\n",
       "0  B0BGFR76CF\n",
       "1  B00NXQLFQQ\n",
       "3  B00IET8S80\n",
       "5  B09NQK7MH9\n",
       "6  B01DFBQEKA"
      ],
      "text/html": [
       "<div>\n",
       "<style scoped>\n",
       "    .dataframe tbody tr th:only-of-type {\n",
       "        vertical-align: middle;\n",
       "    }\n",
       "\n",
       "    .dataframe tbody tr th {\n",
       "        vertical-align: top;\n",
       "    }\n",
       "\n",
       "    .dataframe thead th {\n",
       "        text-align: right;\n",
       "    }\n",
       "</style>\n",
       "<table border=\"1\" class=\"dataframe\">\n",
       "  <thead>\n",
       "    <tr style=\"text-align: right;\">\n",
       "      <th></th>\n",
       "      <th>parent_asin</th>\n",
       "    </tr>\n",
       "  </thead>\n",
       "  <tbody>\n",
       "    <tr>\n",
       "      <th>0</th>\n",
       "      <td>B0BGFR76CF</td>\n",
       "    </tr>\n",
       "    <tr>\n",
       "      <th>1</th>\n",
       "      <td>B00NXQLFQQ</td>\n",
       "    </tr>\n",
       "    <tr>\n",
       "      <th>3</th>\n",
       "      <td>B00IET8S80</td>\n",
       "    </tr>\n",
       "    <tr>\n",
       "      <th>5</th>\n",
       "      <td>B09NQK7MH9</td>\n",
       "    </tr>\n",
       "    <tr>\n",
       "      <th>6</th>\n",
       "      <td>B01DFBQEKA</td>\n",
       "    </tr>\n",
       "  </tbody>\n",
       "</table>\n",
       "</div>"
      ]
     },
     "execution_count": 5,
     "metadata": {},
     "output_type": "execute_result"
    }
   ],
   "execution_count": 5
  },
  {
   "metadata": {},
   "cell_type": "markdown",
   "source": "## (item_id, url) preparation",
   "id": "4a6f87fd7b0c64d2"
  },
  {
   "metadata": {
    "ExecuteTime": {
     "end_time": "2025-07-02T22:17:29.521036Z",
     "start_time": "2025-07-02T22:17:08.041720Z"
    }
   },
   "cell_type": "code",
   "source": [
    "data = []\n",
    "with open(META_PATH) as f:\n",
    "    for line in f:\n",
    "        entry = json.loads(line)\n",
    "\n",
    "        images_list = entry['images']\n",
    "\n",
    "        if len(images_list) == 0:\n",
    "            continue\n",
    "\n",
    "        entry = {\n",
    "            'parent_asin': entry['parent_asin'],\n",
    "            'url': images_list[0].get('thumb', None),\n",
    "        }\n",
    "\n",
    "        data.append(entry)\n",
    "\n",
    "df = pd.DataFrame(data)\n",
    "df.head(5)"
   ],
   "id": "c6f83249779fbe85",
   "outputs": [
    {
     "data": {
      "text/plain": [
       "  parent_asin                                                url\n",
       "0  B01HDXC8AG  https://m.media-amazon.com/images/I/510tgKWHp2...\n",
       "1  B07R5BQ4YD  https://m.media-amazon.com/images/I/31tHUCk7ls...\n",
       "2  B003K8GZ7G  https://m.media-amazon.com/images/I/41RVlcUTMs...\n",
       "3  B08GC4GBWB  https://m.media-amazon.com/images/I/41bDwvySkD...\n",
       "4  B07BYV947H  https://m.media-amazon.com/images/I/41FrdMQKGi..."
      ],
      "text/html": [
       "<div>\n",
       "<style scoped>\n",
       "    .dataframe tbody tr th:only-of-type {\n",
       "        vertical-align: middle;\n",
       "    }\n",
       "\n",
       "    .dataframe tbody tr th {\n",
       "        vertical-align: top;\n",
       "    }\n",
       "\n",
       "    .dataframe thead th {\n",
       "        text-align: right;\n",
       "    }\n",
       "</style>\n",
       "<table border=\"1\" class=\"dataframe\">\n",
       "  <thead>\n",
       "    <tr style=\"text-align: right;\">\n",
       "      <th></th>\n",
       "      <th>parent_asin</th>\n",
       "      <th>url</th>\n",
       "    </tr>\n",
       "  </thead>\n",
       "  <tbody>\n",
       "    <tr>\n",
       "      <th>0</th>\n",
       "      <td>B01HDXC8AG</td>\n",
       "      <td>https://m.media-amazon.com/images/I/510tgKWHp2...</td>\n",
       "    </tr>\n",
       "    <tr>\n",
       "      <th>1</th>\n",
       "      <td>B07R5BQ4YD</td>\n",
       "      <td>https://m.media-amazon.com/images/I/31tHUCk7ls...</td>\n",
       "    </tr>\n",
       "    <tr>\n",
       "      <th>2</th>\n",
       "      <td>B003K8GZ7G</td>\n",
       "      <td>https://m.media-amazon.com/images/I/41RVlcUTMs...</td>\n",
       "    </tr>\n",
       "    <tr>\n",
       "      <th>3</th>\n",
       "      <td>B08GC4GBWB</td>\n",
       "      <td>https://m.media-amazon.com/images/I/41bDwvySkD...</td>\n",
       "    </tr>\n",
       "    <tr>\n",
       "      <th>4</th>\n",
       "      <td>B07BYV947H</td>\n",
       "      <td>https://m.media-amazon.com/images/I/41FrdMQKGi...</td>\n",
       "    </tr>\n",
       "  </tbody>\n",
       "</table>\n",
       "</div>"
      ]
     },
     "execution_count": 6,
     "metadata": {},
     "output_type": "execute_result"
    }
   ],
   "execution_count": 6
  },
  {
   "metadata": {
    "ExecuteTime": {
     "end_time": "2025-07-02T22:17:29.978107Z",
     "start_time": "2025-07-02T22:17:29.583577Z"
    }
   },
   "cell_type": "code",
   "source": [
    "df = df[df['parent_asin'].isin(item_subset['parent_asin'])]\n",
    "df.head(5)"
   ],
   "id": "e78a87b6e7d29492",
   "outputs": [
    {
     "data": {
      "text/plain": [
       "   parent_asin                                                url\n",
       "12  B07BN4PZQF  https://m.media-amazon.com/images/I/41iyo2i0n7...\n",
       "15  B0BZM3PWZ9  https://m.media-amazon.com/images/I/41fHl4HumY...\n",
       "16  B07KT27VCZ  https://m.media-amazon.com/images/I/41whDEgmGr...\n",
       "19  B07GCNXDNV  https://m.media-amazon.com/images/I/51AK7r-KqW...\n",
       "24  B08C2F6CBW  https://m.media-amazon.com/images/I/41HM4GY2DI..."
      ],
      "text/html": [
       "<div>\n",
       "<style scoped>\n",
       "    .dataframe tbody tr th:only-of-type {\n",
       "        vertical-align: middle;\n",
       "    }\n",
       "\n",
       "    .dataframe tbody tr th {\n",
       "        vertical-align: top;\n",
       "    }\n",
       "\n",
       "    .dataframe thead th {\n",
       "        text-align: right;\n",
       "    }\n",
       "</style>\n",
       "<table border=\"1\" class=\"dataframe\">\n",
       "  <thead>\n",
       "    <tr style=\"text-align: right;\">\n",
       "      <th></th>\n",
       "      <th>parent_asin</th>\n",
       "      <th>url</th>\n",
       "    </tr>\n",
       "  </thead>\n",
       "  <tbody>\n",
       "    <tr>\n",
       "      <th>12</th>\n",
       "      <td>B07BN4PZQF</td>\n",
       "      <td>https://m.media-amazon.com/images/I/41iyo2i0n7...</td>\n",
       "    </tr>\n",
       "    <tr>\n",
       "      <th>15</th>\n",
       "      <td>B0BZM3PWZ9</td>\n",
       "      <td>https://m.media-amazon.com/images/I/41fHl4HumY...</td>\n",
       "    </tr>\n",
       "    <tr>\n",
       "      <th>16</th>\n",
       "      <td>B07KT27VCZ</td>\n",
       "      <td>https://m.media-amazon.com/images/I/41whDEgmGr...</td>\n",
       "    </tr>\n",
       "    <tr>\n",
       "      <th>19</th>\n",
       "      <td>B07GCNXDNV</td>\n",
       "      <td>https://m.media-amazon.com/images/I/51AK7r-KqW...</td>\n",
       "    </tr>\n",
       "    <tr>\n",
       "      <th>24</th>\n",
       "      <td>B08C2F6CBW</td>\n",
       "      <td>https://m.media-amazon.com/images/I/41HM4GY2DI...</td>\n",
       "    </tr>\n",
       "  </tbody>\n",
       "</table>\n",
       "</div>"
      ]
     },
     "execution_count": 7,
     "metadata": {},
     "output_type": "execute_result"
    }
   ],
   "execution_count": 7
  },
  {
   "metadata": {},
   "cell_type": "markdown",
   "source": "## Parallel requests with exponential backoff",
   "id": "ed350fccfb4e4531"
  },
  {
   "metadata": {
    "ExecuteTime": {
     "end_time": "2025-07-02T23:22:36.016908Z",
     "start_time": "2025-07-02T23:22:36.012945Z"
    }
   },
   "cell_type": "code",
   "source": [
    "WINDOW_SIZE = 100\n",
    "BASE_DELAY = 1\n",
    "PATIENCE = 3\n",
    "CONCURRENCY = 5\n",
    "USER_AGENTS = [\n",
    "    # Chrome (Windows/Mac/Linux)\n",
    "    \"Mozilla/5.0 (Windows NT 10.0; Win64; x64) AppleWebKit/537.36 (KHTML, like Gecko) Chrome/125.0.0.0 Safari/537.36\",\n",
    "    \"Mozilla/5.0 (Macintosh; Intel Mac OS X 14_5) AppleWebKit/537.36 (KHTML, like Gecko) Chrome/125.0.0.0 Safari/537.36\",\n",
    "    \"Mozilla/5.0 (X11; Linux x86_64) AppleWebKit/537.36 (KHTML, like Gecko) Chrome/125.0.0.0 Safari/537.36\",\n",
    "\n",
    "    # Firefox (Windows/Mac/Linux)\n",
    "    \"Mozilla/5.0 (Windows NT 10.0; Win64; x64; rv:127.0) Gecko/20100101 Firefox/127.0\",\n",
    "    \"Mozilla/5.0 (Macintosh; Intel Mac OS X 14.5; rv:127.0) Gecko/20100101 Firefox/127.0\",\n",
    "    \"Mozilla/5.0 (X11; Linux i686; rv:127.0) Gecko/20100101 Firefox/127.0\",\n",
    "\n",
    "    # Safari (Mac/iOS)\n",
    "    \"Mozilla/5.0 (Macintosh; Intel Mac OS X 14_5) AppleWebKit/605.1.15 (KHTML, like Gecko) Version/17.4.1 Safari/605.1.15\",\n",
    "    \"Mozilla/5.0 (iPhone; CPU iPhone OS 17_5 like Mac OS X) AppleWebKit/605.1.15 (KHTML, like Gecko) Version/17.4.1 Mobile/15E148 Safari/604.1\",\n",
    "\n",
    "    # Edge (Windows)\n",
    "    \"Mozilla/5.0 (Windows NT 10.0; Win64; x64) AppleWebKit/537.36 (KHTML, like Gecko) Chrome/125.0.0.0 Safari/537.36 Edg/125.0.0.0\",\n",
    "\n",
    "    # Mobile Devices (Android/Samsung)\n",
    "    \"Mozilla/5.0 (Linux; Android 14; SM-S928U) AppleWebKit/537.36 (KHTML, like Gecko) Chrome/125.0.6422.147 Mobile Safari/537.36\",\n",
    "    \"Mozilla/5.0 (Linux; Android 14; Pixel 8 Pro) AppleWebKit/537.36 (KHTML, like Gecko) Chrome/125.0.6422.147 Mobile Safari/537.36\",\n",
    "\n",
    "    # Tablets\n",
    "    \"Mozilla/5.0 (iPad; CPU OS 17_5 like Mac OS X) AppleWebKit/605.1.15 (KHTML, like Gecko) Version/17.4.1 Mobile/15E148 Safari/604.1\",\n",
    "    \"Mozilla/5.0 (Linux; Android 14; SM-X810) AppleWebKit/537.36 (KHTML, like Gecko) Chrome/125.0.6422.147 Safari/537.36\",\n",
    "\n",
    "    # Less Common Browsers\n",
    "    \"Mozilla/5.0 (Windows NT 10.0; WOW64) AppleWebKit/537.36 (KHTML, like Gecko) Chrome/125.0.0.0 Safari/537.36 Vivaldi/6.6\",\n",
    "    \"Mozilla/5.0 (Windows NT 10.0; Win64; x64) AppleWebKit/537.36 (KHTML, like Gecko) Chrome/125.0.0.0 Safari/537.36 OPR/102.0.0.0\"\n",
    "]"
   ],
   "id": "2b293800171aa04c",
   "outputs": [],
   "execution_count": 28
  },
  {
   "metadata": {
    "ExecuteTime": {
     "end_time": "2025-07-02T23:22:37.850588Z",
     "start_time": "2025-07-02T23:22:37.844153Z"
    }
   },
   "cell_type": "code",
   "source": [
    "import asyncio\n",
    "import aiohttp\n",
    "from tqdm import tqdm\n",
    "import random\n",
    "import uuid\n",
    "import base64\n",
    "\n",
    "data = []\n",
    "async def make_request(item_id, url, session, semaphore):\n",
    "    global data\n",
    "    for i in range(PATIENCE):\n",
    "        try:\n",
    "            async with semaphore:\n",
    "                headers = {\n",
    "                    \"User-Agent\": random.choice(USER_AGENTS),\n",
    "                    \"Accept-Language\": random.choice([\"en-US\", \"en-GB\", \"en-CA\"])\n",
    "                }\n",
    "                cookies={\n",
    "                    \"session-id\": str(uuid.uuid4()),\n",
    "                    \"ubid-acbca\": random.randint(1000000000, 9999999999)\n",
    "                }\n",
    "\n",
    "                async with session.get(url, headers=headers, cookies=cookies) as response:\n",
    "                    if response.status == 200: # OK\n",
    "                        photo_data = await response.read()\n",
    "\n",
    "                        data.append({\n",
    "                            'parent_asin': item_id,\n",
    "                            'photo_bytes': base64.b64encode(photo_data)\n",
    "                        })\n",
    "\n",
    "                    elif response.status in (429, 503): # backoff\n",
    "                        retry_after = response.headers.get(\"Retry-After\")\n",
    "                        wait_time = float(retry_after) if retry_after else BASE_DELAY * (2 ** i)\n",
    "                        await asyncio.sleep(wait_time)\n",
    "\n",
    "                    elif 500 <= response.status < 600:\n",
    "                        wait_time = BASE_DELAY * (2 ** i)\n",
    "                        await asyncio.sleep(wait_time)\n",
    "\n",
    "                    else: # Something bad happened\n",
    "                        break\n",
    "\n",
    "        except (aiohttp.ClientError, asyncio.TimeoutError): # backoff\n",
    "            wait_time = BASE_DELAY * (2 ** i) * (1 + random.random())\n",
    "            await asyncio.sleep(wait_time)\n",
    "\n",
    "    data.append({'parent_asin': item_id, 'photo_bytes': None})\n",
    "\n",
    "\n",
    "async def handle_batch(batch, semaphore):\n",
    "    global data\n",
    "    async with aiohttp.ClientSession() as session:\n",
    "        tasks = [make_request(item_id, url, session, semaphore) for item_id, url in batch if url]\n",
    "\n",
    "        await asyncio.gather(*tasks)\n",
    "\n",
    "        photo_df = pd.DataFrame(data)\n",
    "\n",
    "        photo_df.to_csv(SAVE_PATH, index=False, mode='a', header=False, sep='\\t')\n",
    "\n",
    "        data = []\n",
    "\n",
    "\n",
    "async def download():\n",
    "    semaphore = asyncio.Semaphore(CONCURRENCY)\n",
    "\n",
    "    for i in tqdm(range(0, count, WINDOW_SIZE)):\n",
    "        batch = df.iloc[i:i+WINDOW_SIZE]\n",
    "\n",
    "        item_ids = batch['parent_asin'].tolist()\n",
    "        urls = batch['url'].tolist()\n",
    "\n",
    "        await handle_batch(zip(item_ids, urls), semaphore)\n",
    "        await asyncio.sleep(BATCH_DELAY)"
   ],
   "id": "d094b6fdcf39e6ff",
   "outputs": [],
   "execution_count": 29
  },
  {
   "metadata": {
    "ExecuteTime": {
     "end_time": "2025-07-02T23:29:23.168738Z",
     "start_time": "2025-07-02T23:22:39.891868Z"
    }
   },
   "cell_type": "code",
   "source": "await download()",
   "id": "bc58540a7d9aaf68",
   "outputs": [
    {
     "name": "stderr",
     "output_type": "stream",
     "text": [
      "  7%|▋         | 107/1588 [06:43<1:33:01,  3.77s/it]\n"
     ]
    },
    {
     "ename": "CancelledError",
     "evalue": "",
     "output_type": "error",
     "traceback": [
      "\u001B[0;31m---------------------------------------------------------------------------\u001B[0m",
      "\u001B[0;31mCancelledError\u001B[0m                            Traceback (most recent call last)",
      "Cell \u001B[0;32mIn[30], line 1\u001B[0m\n\u001B[0;32m----> 1\u001B[0m \u001B[38;5;28;01mawait\u001B[39;00m download()\n",
      "Cell \u001B[0;32mIn[29], line 74\u001B[0m, in \u001B[0;36mdownload\u001B[0;34m()\u001B[0m\n\u001B[1;32m     71\u001B[0m item_ids \u001B[38;5;241m=\u001B[39m batch[\u001B[38;5;124m'\u001B[39m\u001B[38;5;124mparent_asin\u001B[39m\u001B[38;5;124m'\u001B[39m]\u001B[38;5;241m.\u001B[39mtolist()\n\u001B[1;32m     72\u001B[0m urls \u001B[38;5;241m=\u001B[39m batch[\u001B[38;5;124m'\u001B[39m\u001B[38;5;124murl\u001B[39m\u001B[38;5;124m'\u001B[39m]\u001B[38;5;241m.\u001B[39mtolist()\n\u001B[0;32m---> 74\u001B[0m \u001B[38;5;28;01mawait\u001B[39;00m handle_batch(\u001B[38;5;28mzip\u001B[39m(item_ids, urls), semaphore)\n\u001B[1;32m     75\u001B[0m \u001B[38;5;28;01mawait\u001B[39;00m asyncio\u001B[38;5;241m.\u001B[39msleep(BATCH_DELAY)\n",
      "Cell \u001B[0;32mIn[29], line 56\u001B[0m, in \u001B[0;36mhandle_batch\u001B[0;34m(batch, semaphore)\u001B[0m\n\u001B[1;32m     53\u001B[0m \u001B[38;5;28;01masync\u001B[39;00m \u001B[38;5;28;01mwith\u001B[39;00m aiohttp\u001B[38;5;241m.\u001B[39mClientSession() \u001B[38;5;28;01mas\u001B[39;00m session:\n\u001B[1;32m     54\u001B[0m     tasks \u001B[38;5;241m=\u001B[39m [make_request(item_id, url, session, semaphore) \u001B[38;5;28;01mfor\u001B[39;00m item_id, url \u001B[38;5;129;01min\u001B[39;00m batch \u001B[38;5;28;01mif\u001B[39;00m url]\n\u001B[0;32m---> 56\u001B[0m     \u001B[38;5;28;01mawait\u001B[39;00m asyncio\u001B[38;5;241m.\u001B[39mgather(\u001B[38;5;241m*\u001B[39mtasks)\n\u001B[1;32m     58\u001B[0m     photo_df \u001B[38;5;241m=\u001B[39m pd\u001B[38;5;241m.\u001B[39mDataFrame(data)\n\u001B[1;32m     60\u001B[0m     photo_df\u001B[38;5;241m.\u001B[39mto_csv(SAVE_PATH, index\u001B[38;5;241m=\u001B[39m\u001B[38;5;28;01mFalse\u001B[39;00m, mode\u001B[38;5;241m=\u001B[39m\u001B[38;5;124m'\u001B[39m\u001B[38;5;124ma\u001B[39m\u001B[38;5;124m'\u001B[39m, header\u001B[38;5;241m=\u001B[39m\u001B[38;5;28;01mFalse\u001B[39;00m, sep\u001B[38;5;241m=\u001B[39m\u001B[38;5;124m'\u001B[39m\u001B[38;5;130;01m\\t\u001B[39;00m\u001B[38;5;124m'\u001B[39m)\n",
      "\u001B[0;31mCancelledError\u001B[0m: "
     ]
    }
   ],
   "execution_count": 30
  },
  {
   "metadata": {},
   "cell_type": "code",
   "source": [
    "df = pd.DataFrame(data)\n",
    "df.head(5)"
   ],
   "id": "b7ca0b440458dbcf",
   "outputs": [],
   "execution_count": null
  },
  {
   "metadata": {},
   "cell_type": "markdown",
   "source": "## Photo embedding",
   "id": "3549cdfcd91d3006"
  },
  {
   "metadata": {},
   "cell_type": "code",
   "source": "",
   "id": "47d3bb42515a049a",
   "outputs": [],
   "execution_count": null
  },
  {
   "metadata": {},
   "cell_type": "markdown",
   "source": "## Incremental PCA for dimention reduction",
   "id": "490eb3adcf41d3a8"
  },
  {
   "metadata": {},
   "cell_type": "code",
   "source": "",
   "id": "c5261151189dbb10",
   "outputs": [],
   "execution_count": null
  },
  {
   "metadata": {},
   "cell_type": "markdown",
   "source": "## Save embeddings",
   "id": "d9df31a3fe42c5ad"
  },
  {
   "metadata": {},
   "cell_type": "code",
   "source": "",
   "id": "54f8fb9f1e18f793",
   "outputs": [],
   "execution_count": null
  }
 ],
 "metadata": {
  "kernelspec": {
   "display_name": "Python 3",
   "language": "python",
   "name": "python3"
  },
  "language_info": {
   "codemirror_mode": {
    "name": "ipython",
    "version": 2
   },
   "file_extension": ".py",
   "mimetype": "text/x-python",
   "name": "python",
   "nbconvert_exporter": "python",
   "pygments_lexer": "ipython2",
   "version": "2.7.6"
  }
 },
 "nbformat": 4,
 "nbformat_minor": 5
}
