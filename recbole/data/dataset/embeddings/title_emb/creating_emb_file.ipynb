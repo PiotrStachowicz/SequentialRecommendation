{
 "cells": [
  {
   "metadata": {
    "ExecuteTime": {
     "end_time": "2025-06-26T17:59:41.997656Z",
     "start_time": "2025-06-26T17:59:41.994292Z"
    }
   },
   "cell_type": "code",
   "source": [
    "TSV_PATH = '/Users/jakubmalczak/UNI/INŻ/SequentialRecommendation/recbole/data/dataset/Amazon_Sports_and_Outdoors/Amazon_Sports_and_Outdoors.item'\n",
    "SAVE_PATH = '/Users/jakubmalczak/UNI/INŻ/SequentialRecommendation/recbole/data/dataset/Amazon_Sports_and_Outdoors/Amazon_Sports_and_Outdoors.ent'"
   ],
   "id": "6afd1b000ce4f26a",
   "outputs": [],
   "execution_count": 4
  },
  {
   "metadata": {},
   "cell_type": "markdown",
   "source": "### Reading TSV file",
   "id": "e3ea5b4b46802887"
  },
  {
   "cell_type": "code",
   "id": "initial_id",
   "metadata": {
    "collapsed": true,
    "ExecuteTime": {
     "end_time": "2025-06-26T17:59:53.204826Z",
     "start_time": "2025-06-26T17:59:50.711339Z"
    }
   },
   "source": [
    "import pandas as pd\n",
    "\n",
    "df = pd.read_csv(TSV_PATH, delimiter='\\t')\n",
    "df = df[['item_id:token', 'title:token']]\n",
    "df.head(5)"
   ],
   "outputs": [
    {
     "data": {
      "text/plain": [
       "   item_id:token                                        title:token\n",
       "0         884509            Sure-Grip Zombie Wheels Low 59mm 4 Pack\n",
       "1         561856                   USGI Wet Weather Bag (Fоur Paсk)\n",
       "2         239749        NHL San Jose Sharks Team Logo Post Earrings\n",
       "3          55030  Bont Skates - Prostar Purple Suede Professiona...\n",
       "4        1277121  Team Golf Alamaba Crimson Tide Embroidered Tow..."
      ],
      "text/html": [
       "<div>\n",
       "<style scoped>\n",
       "    .dataframe tbody tr th:only-of-type {\n",
       "        vertical-align: middle;\n",
       "    }\n",
       "\n",
       "    .dataframe tbody tr th {\n",
       "        vertical-align: top;\n",
       "    }\n",
       "\n",
       "    .dataframe thead th {\n",
       "        text-align: right;\n",
       "    }\n",
       "</style>\n",
       "<table border=\"1\" class=\"dataframe\">\n",
       "  <thead>\n",
       "    <tr style=\"text-align: right;\">\n",
       "      <th></th>\n",
       "      <th>item_id:token</th>\n",
       "      <th>title:token</th>\n",
       "    </tr>\n",
       "  </thead>\n",
       "  <tbody>\n",
       "    <tr>\n",
       "      <th>0</th>\n",
       "      <td>884509</td>\n",
       "      <td>Sure-Grip Zombie Wheels Low 59mm 4 Pack</td>\n",
       "    </tr>\n",
       "    <tr>\n",
       "      <th>1</th>\n",
       "      <td>561856</td>\n",
       "      <td>USGI Wet Weather Bag (Fоur Paсk)</td>\n",
       "    </tr>\n",
       "    <tr>\n",
       "      <th>2</th>\n",
       "      <td>239749</td>\n",
       "      <td>NHL San Jose Sharks Team Logo Post Earrings</td>\n",
       "    </tr>\n",
       "    <tr>\n",
       "      <th>3</th>\n",
       "      <td>55030</td>\n",
       "      <td>Bont Skates - Prostar Purple Suede Professiona...</td>\n",
       "    </tr>\n",
       "    <tr>\n",
       "      <th>4</th>\n",
       "      <td>1277121</td>\n",
       "      <td>Team Golf Alamaba Crimson Tide Embroidered Tow...</td>\n",
       "    </tr>\n",
       "  </tbody>\n",
       "</table>\n",
       "</div>"
      ]
     },
     "execution_count": 6,
     "metadata": {},
     "output_type": "execute_result"
    }
   ],
   "execution_count": 6
  },
  {
   "metadata": {},
   "cell_type": "markdown",
   "source": "### Generate embeddings",
   "id": "8139bd79eb67731"
  },
  {
   "metadata": {
    "ExecuteTime": {
     "end_time": "2025-06-26T18:17:24.583343Z",
     "start_time": "2025-06-26T18:00:13.765475Z"
    }
   },
   "cell_type": "code",
   "source": [
    "from sentence_transformers import SentenceTransformer\n",
    "from tqdm import tqdm\n",
    "\n",
    "titles = df['title:token'].astype('str').tolist()\n",
    "model = SentenceTransformer('all-MiniLM-L6-v2')\n",
    "batch_size = 512\n",
    "embeddings = []\n",
    "for i in tqdm(range(0, len(titles), batch_size)):\n",
    "    batch = titles[i:i + batch_size]\n",
    "    emb = model.encode(batch, show_progress_bar=False)\n",
    "    embeddings.extend(emb)"
   ],
   "id": "28766912a93c5644",
   "outputs": [
    {
     "name": "stderr",
     "output_type": "stream",
     "text": [
      "/Users/jakubmalczak/UNI/SEM6/SI/.venv/lib/python3.13/site-packages/tqdm/auto.py:21: TqdmWarning: IProgress not found. Please update jupyter and ipywidgets. See https://ipywidgets.readthedocs.io/en/stable/user_install.html\n",
      "  from .autonotebook import tqdm as notebook_tqdm\n",
      "100%|██████████| 3101/3101 [17:01<00:00,  3.04it/s]\n"
     ]
    }
   ],
   "execution_count": 7
  },
  {
   "metadata": {},
   "cell_type": "markdown",
   "source": "### Reducing dimensions to 128",
   "id": "9b80653828b2ea0d"
  },
  {
   "metadata": {
    "ExecuteTime": {
     "end_time": "2025-06-26T18:17:30.946717Z",
     "start_time": "2025-06-26T18:17:26.947968Z"
    }
   },
   "cell_type": "code",
   "source": [
    "from sklearn.decomposition import PCA\n",
    "\n",
    "pca = PCA(n_components=128)\n",
    "embeddings_128 = pca.fit_transform(embeddings)\n",
    "print(pca.explained_variance_ratio_.sum())"
   ],
   "id": "501ee106cb6c8217",
   "outputs": [
    {
     "name": "stdout",
     "output_type": "stream",
     "text": [
      "0.824569816402736\n"
     ]
    }
   ],
   "execution_count": 8
  },
  {
   "metadata": {},
   "cell_type": "markdown",
   "source": "### Adding embeddings to pandas dataframe",
   "id": "6901fc44aff6ad4f"
  },
  {
   "metadata": {
    "ExecuteTime": {
     "end_time": "2025-06-26T18:18:51.305327Z",
     "start_time": "2025-06-26T18:17:38.464872Z"
    }
   },
   "cell_type": "code",
   "source": [
    "df = df[['item_id:token']]\n",
    "df.rename(columns={'item_id:token' : 'ent_id:token'}, inplace=True)\n",
    "df['ent_emb:float_seq'] = [' '.join(map(str, vec)) for vec in embeddings_128]\n",
    "df.head(5)"
   ],
   "id": "9f568025c09b3bc6",
   "outputs": [
    {
     "data": {
      "text/plain": [
       "   ent_id:token                                  ent_emb:float_seq\n",
       "0        884509  -0.18853039269413344 0.0677280029458144 0.0227...\n",
       "1        561856  -0.10877202087920926 -0.19504738371167724 -0.2...\n",
       "2        239749  0.36511265353420264 0.13893028611081343 -0.135...\n",
       "3         55030  -0.04588572487050822 -0.18943352195089447 0.13...\n",
       "4       1277121  0.31423742583011693 -0.005561311444394548 -0.0..."
      ],
      "text/html": [
       "<div>\n",
       "<style scoped>\n",
       "    .dataframe tbody tr th:only-of-type {\n",
       "        vertical-align: middle;\n",
       "    }\n",
       "\n",
       "    .dataframe tbody tr th {\n",
       "        vertical-align: top;\n",
       "    }\n",
       "\n",
       "    .dataframe thead th {\n",
       "        text-align: right;\n",
       "    }\n",
       "</style>\n",
       "<table border=\"1\" class=\"dataframe\">\n",
       "  <thead>\n",
       "    <tr style=\"text-align: right;\">\n",
       "      <th></th>\n",
       "      <th>ent_id:token</th>\n",
       "      <th>ent_emb:float_seq</th>\n",
       "    </tr>\n",
       "  </thead>\n",
       "  <tbody>\n",
       "    <tr>\n",
       "      <th>0</th>\n",
       "      <td>884509</td>\n",
       "      <td>-0.18853039269413344 0.0677280029458144 0.0227...</td>\n",
       "    </tr>\n",
       "    <tr>\n",
       "      <th>1</th>\n",
       "      <td>561856</td>\n",
       "      <td>-0.10877202087920926 -0.19504738371167724 -0.2...</td>\n",
       "    </tr>\n",
       "    <tr>\n",
       "      <th>2</th>\n",
       "      <td>239749</td>\n",
       "      <td>0.36511265353420264 0.13893028611081343 -0.135...</td>\n",
       "    </tr>\n",
       "    <tr>\n",
       "      <th>3</th>\n",
       "      <td>55030</td>\n",
       "      <td>-0.04588572487050822 -0.18943352195089447 0.13...</td>\n",
       "    </tr>\n",
       "    <tr>\n",
       "      <th>4</th>\n",
       "      <td>1277121</td>\n",
       "      <td>0.31423742583011693 -0.005561311444394548 -0.0...</td>\n",
       "    </tr>\n",
       "  </tbody>\n",
       "</table>\n",
       "</div>"
      ]
     },
     "execution_count": 9,
     "metadata": {},
     "output_type": "execute_result"
    }
   ],
   "execution_count": 9
  },
  {
   "metadata": {},
   "cell_type": "markdown",
   "source": "### Saving .ent file",
   "id": "5829363c4495cf0d"
  },
  {
   "metadata": {
    "ExecuteTime": {
     "end_time": "2025-06-26T18:20:33.472206Z",
     "start_time": "2025-06-26T18:19:52.419247Z"
    }
   },
   "cell_type": "code",
   "source": "df.to_csv(SAVE_PATH, sep=\"\\t\", index=False)",
   "id": "9468be991d53b31f",
   "outputs": [],
   "execution_count": 10
  }
 ],
 "metadata": {
  "kernelspec": {
   "display_name": "Python 3",
   "language": "python",
   "name": "python3"
  },
  "language_info": {
   "codemirror_mode": {
    "name": "ipython",
    "version": 2
   },
   "file_extension": ".py",
   "mimetype": "text/x-python",
   "name": "python",
   "nbconvert_exporter": "python",
   "pygments_lexer": "ipython2",
   "version": "2.7.6"
  }
 },
 "nbformat": 4,
 "nbformat_minor": 5
}
