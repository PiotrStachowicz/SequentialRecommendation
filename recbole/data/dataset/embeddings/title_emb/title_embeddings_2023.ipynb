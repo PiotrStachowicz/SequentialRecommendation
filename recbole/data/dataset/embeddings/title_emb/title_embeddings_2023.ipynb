{
 "cells": [
  {
   "cell_type": "code",
   "id": "initial_id",
   "metadata": {
    "collapsed": true,
    "ExecuteTime": {
     "end_time": "2025-06-24T18:03:07.084805Z",
     "start_time": "2025-06-24T18:03:07.079851Z"
    }
   },
   "source": [
    "JSONL_PATH = '/Users/jakubmalczak/UNI/INŻ/SequentialRecommendation/recbole/data/dataset/Amazon_Sports_and_Outdoors/meta_Sports_and_Outdoors_2023.jsonl'\n",
    "SAVE_PATH = '/Users/jakubmalczak/UNI/INŻ/SequentialRecommendation/recbole/data/dataset/Amazon_Sports_and_Outdoors/title_embeddings_2023.parquet'"
   ],
   "outputs": [],
   "execution_count": 7
  },
  {
   "metadata": {},
   "cell_type": "markdown",
   "source": "### Reading JSONL file",
   "id": "b68c0f9e5b403d7e"
  },
  {
   "metadata": {
    "ExecuteTime": {
     "end_time": "2025-06-24T17:44:34.030746Z",
     "start_time": "2025-06-24T17:44:18.720806Z"
    }
   },
   "cell_type": "code",
   "source": [
    "import pandas as pd\n",
    "import json\n",
    "\n",
    "data = []\n",
    "with open(JSONL_PATH, 'r', encoding='utf-8') as f:\n",
    "    for line in f:\n",
    "        record = json.loads(line)\n",
    "        data.append(\n",
    "            {\n",
    "                \"item_id\": record.get(\"parent_asin\"),\n",
    "                \"title\": record.get(\"title\"),\n",
    "            }\n",
    "        )\n",
    "df = pd.DataFrame(data)\n",
    "df.head(5)"
   ],
   "id": "1167b1ef20f429c9",
   "outputs": [
    {
     "data": {
      "text/plain": [
       "      item_id                                              title\n",
       "0  B01HDXC8AG            Sure-Grip Zombie Wheels Low 59mm 4 Pack\n",
       "1  B07R5BQ4YD                   USGI Wet Weather Bag (Fоur Paсk)\n",
       "2  B003K8GZ7G        NHL San Jose Sharks Team Logo Post Earrings\n",
       "3  B08GC4GBWB  Bont Skates - Prostar Purple Suede Professiona...\n",
       "4  B07BYV947H  Team Golf Alamaba Crimson Tide Embroidered Tow..."
      ],
      "text/html": [
       "<div>\n",
       "<style scoped>\n",
       "    .dataframe tbody tr th:only-of-type {\n",
       "        vertical-align: middle;\n",
       "    }\n",
       "\n",
       "    .dataframe tbody tr th {\n",
       "        vertical-align: top;\n",
       "    }\n",
       "\n",
       "    .dataframe thead th {\n",
       "        text-align: right;\n",
       "    }\n",
       "</style>\n",
       "<table border=\"1\" class=\"dataframe\">\n",
       "  <thead>\n",
       "    <tr style=\"text-align: right;\">\n",
       "      <th></th>\n",
       "      <th>item_id</th>\n",
       "      <th>title</th>\n",
       "    </tr>\n",
       "  </thead>\n",
       "  <tbody>\n",
       "    <tr>\n",
       "      <th>0</th>\n",
       "      <td>B01HDXC8AG</td>\n",
       "      <td>Sure-Grip Zombie Wheels Low 59mm 4 Pack</td>\n",
       "    </tr>\n",
       "    <tr>\n",
       "      <th>1</th>\n",
       "      <td>B07R5BQ4YD</td>\n",
       "      <td>USGI Wet Weather Bag (Fоur Paсk)</td>\n",
       "    </tr>\n",
       "    <tr>\n",
       "      <th>2</th>\n",
       "      <td>B003K8GZ7G</td>\n",
       "      <td>NHL San Jose Sharks Team Logo Post Earrings</td>\n",
       "    </tr>\n",
       "    <tr>\n",
       "      <th>3</th>\n",
       "      <td>B08GC4GBWB</td>\n",
       "      <td>Bont Skates - Prostar Purple Suede Professiona...</td>\n",
       "    </tr>\n",
       "    <tr>\n",
       "      <th>4</th>\n",
       "      <td>B07BYV947H</td>\n",
       "      <td>Team Golf Alamaba Crimson Tide Embroidered Tow...</td>\n",
       "    </tr>\n",
       "  </tbody>\n",
       "</table>\n",
       "</div>"
      ]
     },
     "execution_count": 2,
     "metadata": {},
     "output_type": "execute_result"
    }
   ],
   "execution_count": 2
  },
  {
   "metadata": {},
   "cell_type": "markdown",
   "source": "### Generate embeddings",
   "id": "ad3c9a682f6096ee"
  },
  {
   "metadata": {
    "ExecuteTime": {
     "end_time": "2025-06-24T18:02:20.408570Z",
     "start_time": "2025-06-24T17:45:15.402031Z"
    }
   },
   "cell_type": "code",
   "source": [
    "from sentence_transformers import SentenceTransformer\n",
    "from tqdm import tqdm\n",
    "\n",
    "titles = df['title'].astype('str').tolist()\n",
    "model = SentenceTransformer('all-MiniLM-L6-v2')\n",
    "batch_size = 512\n",
    "embeddings = []\n",
    "for i in tqdm(range(0, len(titles), batch_size)):\n",
    "    batch = titles[i:i + batch_size]\n",
    "    emb = model.encode(batch, show_progress_bar=False)\n",
    "    embeddings.extend(emb)"
   ],
   "id": "a0c752cc9e86c64e",
   "outputs": [
    {
     "name": "stderr",
     "output_type": "stream",
     "text": [
      "/Users/jakubmalczak/UNI/SEM6/SI/.venv/lib/python3.13/site-packages/tqdm/auto.py:21: TqdmWarning: IProgress not found. Please update jupyter and ipywidgets. See https://ipywidgets.readthedocs.io/en/stable/user_install.html\n",
      "  from .autonotebook import tqdm as notebook_tqdm\n",
      "100%|██████████| 3101/3101 [16:55<00:00,  3.05it/s]\n"
     ]
    }
   ],
   "execution_count": 3
  },
  {
   "metadata": {},
   "cell_type": "markdown",
   "source": "### Reducing dimensions to 64",
   "id": "271c17b11caa1de9"
  },
  {
   "metadata": {
    "ExecuteTime": {
     "end_time": "2025-06-24T18:02:28.851092Z",
     "start_time": "2025-06-24T18:02:24.125686Z"
    }
   },
   "cell_type": "code",
   "source": [
    "from sklearn.decomposition import PCA\n",
    "\n",
    "pca = PCA(n_components=64)\n",
    "embeddings_64 = pca.fit_transform(embeddings)\n",
    "print(pca.explained_variance_ratio_.sum())"
   ],
   "id": "c29ddd841fcad744",
   "outputs": [
    {
     "name": "stdout",
     "output_type": "stream",
     "text": [
      "0.6400746254701076\n"
     ]
    }
   ],
   "execution_count": 4
  },
  {
   "metadata": {},
   "cell_type": "markdown",
   "source": "### Reducing dimensions to 128",
   "id": "6cc826a0d4b9f342"
  },
  {
   "metadata": {
    "ExecuteTime": {
     "end_time": "2025-06-24T18:02:42.004561Z",
     "start_time": "2025-06-24T18:02:38.315040Z"
    }
   },
   "cell_type": "code",
   "source": [
    "pca = PCA(n_components=128)\n",
    "embeddings_128 = pca.fit_transform(embeddings)\n",
    "print(pca.explained_variance_ratio_.sum())"
   ],
   "id": "e289a5953f17322a",
   "outputs": [
    {
     "name": "stdout",
     "output_type": "stream",
     "text": [
      "0.8245454584608822\n"
     ]
    }
   ],
   "execution_count": 5
  },
  {
   "metadata": {},
   "cell_type": "markdown",
   "source": "### Saving embeddings to parquet",
   "id": "8a34735660032ae8"
  },
  {
   "metadata": {
    "ExecuteTime": {
     "end_time": "2025-06-24T18:03:50.280908Z",
     "start_time": "2025-06-24T18:03:11.027244Z"
    }
   },
   "cell_type": "code",
   "source": [
    "df = df[['item_id']]\n",
    "df['embedding_384'] = embeddings\n",
    "df['embedding_128'] = embeddings_128.tolist()\n",
    "df['embedding_64'] = embeddings_64.tolist()\n",
    "df.to_parquet(SAVE_PATH)"
   ],
   "id": "65dffbd2549ba2de",
   "outputs": [],
   "execution_count": 8
  }
 ],
 "metadata": {
  "kernelspec": {
   "display_name": "Python 3",
   "language": "python",
   "name": "python3"
  },
  "language_info": {
   "codemirror_mode": {
    "name": "ipython",
    "version": 2
   },
   "file_extension": ".py",
   "mimetype": "text/x-python",
   "name": "python",
   "nbconvert_exporter": "python",
   "pygments_lexer": "ipython2",
   "version": "2.7.6"
  }
 },
 "nbformat": 4,
 "nbformat_minor": 5
}
