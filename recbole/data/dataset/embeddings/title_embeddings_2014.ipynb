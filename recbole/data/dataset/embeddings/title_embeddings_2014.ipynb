{
 "cells": [
  {
   "metadata": {
    "ExecuteTime": {
     "end_time": "2025-06-15T20:14:07.059097Z",
     "start_time": "2025-06-15T20:14:07.057073Z"
    }
   },
   "cell_type": "code",
   "source": [
    "TSV_PATH = '/recbole/data/dataset/Amazon_Sports_and_Outdoors/Amazon_Sports_and_Outdoors_2014.item'\n",
    "SAVE_PATH = '/Users/jakubmalczak/UNI/INŻ/SequentialRecommendation/recbole/data/dataset/Amazon_Sports_and_Outdoors/title_embeddings_2014.parquet'"
   ],
   "id": "6afd1b000ce4f26a",
   "outputs": [],
   "execution_count": 1
  },
  {
   "metadata": {},
   "cell_type": "markdown",
   "source": "### Reading TSV file",
   "id": "e3ea5b4b46802887"
  },
  {
   "cell_type": "code",
   "id": "initial_id",
   "metadata": {
    "collapsed": true,
    "ExecuteTime": {
     "end_time": "2025-06-15T20:14:08.028868Z",
     "start_time": "2025-06-15T20:14:07.121701Z"
    }
   },
   "source": [
    "import pandas as pd\n",
    "\n",
    "df = pd.read_csv(TSV_PATH, delimiter='\\t')\n",
    "df = df[['item_id:token', 'title:token']]\n",
    "df.rename(columns={'item_id:token': 'item_id', 'title:token': 'title'}, inplace=True)\n",
    "df.head(5)"
   ],
   "outputs": [
    {
     "data": {
      "text/plain": [
       "      item_id                             title\n",
       "0  0000032069    Adult Ballet Tutu Cheetah Pink\n",
       "1  0000031909       Girls Ballet Tutu Neon Pink\n",
       "2  0000032034          Adult Ballet Tutu Yellow\n",
       "3  0000031852  Girls Ballet Tutu Zebra Hot Pink\n",
       "4  0000032050          Adult Ballet Tutu Purple"
      ],
      "text/html": [
       "<div>\n",
       "<style scoped>\n",
       "    .dataframe tbody tr th:only-of-type {\n",
       "        vertical-align: middle;\n",
       "    }\n",
       "\n",
       "    .dataframe tbody tr th {\n",
       "        vertical-align: top;\n",
       "    }\n",
       "\n",
       "    .dataframe thead th {\n",
       "        text-align: right;\n",
       "    }\n",
       "</style>\n",
       "<table border=\"1\" class=\"dataframe\">\n",
       "  <thead>\n",
       "    <tr style=\"text-align: right;\">\n",
       "      <th></th>\n",
       "      <th>item_id</th>\n",
       "      <th>title</th>\n",
       "    </tr>\n",
       "  </thead>\n",
       "  <tbody>\n",
       "    <tr>\n",
       "      <th>0</th>\n",
       "      <td>0000032069</td>\n",
       "      <td>Adult Ballet Tutu Cheetah Pink</td>\n",
       "    </tr>\n",
       "    <tr>\n",
       "      <th>1</th>\n",
       "      <td>0000031909</td>\n",
       "      <td>Girls Ballet Tutu Neon Pink</td>\n",
       "    </tr>\n",
       "    <tr>\n",
       "      <th>2</th>\n",
       "      <td>0000032034</td>\n",
       "      <td>Adult Ballet Tutu Yellow</td>\n",
       "    </tr>\n",
       "    <tr>\n",
       "      <th>3</th>\n",
       "      <td>0000031852</td>\n",
       "      <td>Girls Ballet Tutu Zebra Hot Pink</td>\n",
       "    </tr>\n",
       "    <tr>\n",
       "      <th>4</th>\n",
       "      <td>0000032050</td>\n",
       "      <td>Adult Ballet Tutu Purple</td>\n",
       "    </tr>\n",
       "  </tbody>\n",
       "</table>\n",
       "</div>"
      ]
     },
     "execution_count": 2,
     "metadata": {},
     "output_type": "execute_result"
    }
   ],
   "execution_count": 2
  },
  {
   "metadata": {},
   "cell_type": "markdown",
   "source": "### Generate embeddings",
   "id": "8139bd79eb67731"
  },
  {
   "metadata": {
    "ExecuteTime": {
     "end_time": "2025-06-15T20:18:38.494070Z",
     "start_time": "2025-06-15T20:14:08.054380Z"
    }
   },
   "cell_type": "code",
   "source": [
    "from sentence_transformers import SentenceTransformer\n",
    "from tqdm import tqdm\n",
    "\n",
    "titles = df['title'].astype('str').tolist()\n",
    "model = SentenceTransformer('all-MiniLM-L6-v2')\n",
    "batch_size = 512\n",
    "embeddings = []\n",
    "for i in tqdm(range(0, len(titles), batch_size)):\n",
    "    batch = titles[i:i + batch_size]\n",
    "    emb = model.encode(batch, show_progress_bar=False)\n",
    "    embeddings.extend(emb)"
   ],
   "id": "28766912a93c5644",
   "outputs": [
    {
     "name": "stderr",
     "output_type": "stream",
     "text": [
      "/Users/jakubmalczak/UNI/SEM6/SI/.venv/lib/python3.13/site-packages/tqdm/auto.py:21: TqdmWarning: IProgress not found. Please update jupyter and ipywidgets. See https://ipywidgets.readthedocs.io/en/stable/user_install.html\n",
      "  from .autonotebook import tqdm as notebook_tqdm\n",
      "100%|██████████| 1040/1040 [04:24<00:00,  3.93it/s]\n"
     ]
    }
   ],
   "execution_count": 3
  },
  {
   "metadata": {},
   "cell_type": "markdown",
   "source": "### Reducing dimensions to 64",
   "id": "ba92ade33077621a"
  },
  {
   "metadata": {
    "ExecuteTime": {
     "end_time": "2025-06-15T20:18:39.582257Z",
     "start_time": "2025-06-15T20:18:38.522916Z"
    }
   },
   "cell_type": "code",
   "source": [
    "from sklearn.decomposition import PCA\n",
    "\n",
    "pca = PCA(n_components=64)\n",
    "embeddings_64 = pca.fit_transform(embeddings)\n",
    "print(pca.explained_variance_ratio_.sum())"
   ],
   "id": "223582598c42d2e6",
   "outputs": [
    {
     "name": "stdout",
     "output_type": "stream",
     "text": [
      "0.6277926926421573\n"
     ]
    }
   ],
   "execution_count": 4
  },
  {
   "metadata": {},
   "cell_type": "markdown",
   "source": "### Reducing dimensions to 128",
   "id": "9b80653828b2ea0d"
  },
  {
   "metadata": {
    "ExecuteTime": {
     "end_time": "2025-06-15T20:18:40.595774Z",
     "start_time": "2025-06-15T20:18:39.594601Z"
    }
   },
   "cell_type": "code",
   "source": [
    "pca = PCA(n_components=128)\n",
    "embeddings_128 = pca.fit_transform(embeddings)\n",
    "print(pca.explained_variance_ratio_.sum())"
   ],
   "id": "501ee106cb6c8217",
   "outputs": [
    {
     "name": "stdout",
     "output_type": "stream",
     "text": [
      "0.8215115151153491\n"
     ]
    }
   ],
   "execution_count": 5
  },
  {
   "metadata": {},
   "cell_type": "markdown",
   "source": "### Saving embeddings to parquet",
   "id": "6901fc44aff6ad4f"
  },
  {
   "metadata": {
    "ExecuteTime": {
     "end_time": "2025-06-15T20:23:08.527989Z",
     "start_time": "2025-06-15T20:22:53.144453Z"
    }
   },
   "cell_type": "code",
   "source": [
    "df = df[['item_id']]\n",
    "df['embedding_384'] = embeddings\n",
    "df['embedding_128'] = embeddings_128.tolist()\n",
    "df['embedding_64'] = embeddings_64.tolist()\n",
    "df.to_parquet(SAVE_PATH)"
   ],
   "id": "9f568025c09b3bc6",
   "outputs": [
    {
     "name": "stderr",
     "output_type": "stream",
     "text": [
      "/var/folders/y8/v6hp44qd4d12m9xz89j2p1nr0000gn/T/ipykernel_3056/4106652632.py:2: SettingWithCopyWarning: \n",
      "A value is trying to be set on a copy of a slice from a DataFrame.\n",
      "Try using .loc[row_indexer,col_indexer] = value instead\n",
      "\n",
      "See the caveats in the documentation: https://pandas.pydata.org/pandas-docs/stable/user_guide/indexing.html#returning-a-view-versus-a-copy\n",
      "  df['embedding_384'] = embeddings\n",
      "/var/folders/y8/v6hp44qd4d12m9xz89j2p1nr0000gn/T/ipykernel_3056/4106652632.py:3: SettingWithCopyWarning: \n",
      "A value is trying to be set on a copy of a slice from a DataFrame.\n",
      "Try using .loc[row_indexer,col_indexer] = value instead\n",
      "\n",
      "See the caveats in the documentation: https://pandas.pydata.org/pandas-docs/stable/user_guide/indexing.html#returning-a-view-versus-a-copy\n",
      "  df['embedding_128'] = embeddings_128.tolist()\n"
     ]
    }
   ],
   "execution_count": 9
  }
 ],
 "metadata": {
  "kernelspec": {
   "display_name": "Python 3",
   "language": "python",
   "name": "python3"
  },
  "language_info": {
   "codemirror_mode": {
    "name": "ipython",
    "version": 2
   },
   "file_extension": ".py",
   "mimetype": "text/x-python",
   "name": "python",
   "nbconvert_exporter": "python",
   "pygments_lexer": "ipython2",
   "version": "2.7.6"
  }
 },
 "nbformat": 4,
 "nbformat_minor": 5
}
