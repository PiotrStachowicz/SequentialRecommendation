{
 "cells": [
  {
   "cell_type": "markdown",
   "id": "6a4f6168",
   "metadata": {},
   "source": [
    "#### Config"
   ]
  },
  {
   "cell_type": "code",
   "execution_count": 1,
   "id": "initial_id",
   "metadata": {
    "ExecuteTime": {
     "end_time": "2025-06-24T22:01:44.629637Z",
     "start_time": "2025-06-24T22:01:44.627124Z"
    },
    "collapsed": true
   },
   "outputs": [],
   "source": [
    "REVIEWS_PATH = './Sports_and_Outdoors.jsonl'\n",
    "SAVE_PATH = '../Amazon_Toys_and_Games/Amazon_Sports_and_Outdoors.inter'\n",
    "ITEM_MAPPING_PATH = '../Amazon_Sports_and_Outdoors/item_mapping_Amazon_Sports_and_Outdoors.json'\n",
    "USER_MAPPING_PATH = '../Amazon_Sports_and_Outdoors/user_mapping_Amazon_Sports_and_Outdoors.json'\n",
    "ITEM_REVERSE_MAPPING_PATH = '../Amazon_Sports_and_Outdoors/item_reverse_mapping_Amazon_Sports_and_Outdoors.json'\n",
    "USER_REVERSE_MAPPING_PATH = '../Amazon_Sports_and_Outdoors/user_reverse_mapping_Amazon_Sports_and_Outdoors.json'\n",
    "META_PATH = './meta_Sports_and_Outdoors.jsonl'\n",
    "META_SAVE_PATH = '../Amazon_Toys_and_Games/Amazon_Sports_and_Outdoors.item'\n",
    "\n",
    "#MIN_USER_OCCURENCE = 5"
   ]
  },
  {
   "cell_type": "markdown",
   "id": "214fe272",
   "metadata": {},
   "source": [
    "# Preprocessing\n",
    "###### Authors: Piotr Stachowicz, Jakub Malczak"
   ]
  },
  {
   "cell_type": "markdown",
   "id": "fb6032e4",
   "metadata": {},
   "source": [
    "## (.inter)"
   ]
  },
  {
   "cell_type": "markdown",
   "id": "90f518879d170d26",
   "metadata": {},
   "source": [
    "### Reading the JSONL 'review' file"
   ]
  },
  {
   "cell_type": "code",
   "execution_count": 2,
   "id": "e8606a14f7a50c63",
   "metadata": {
    "ExecuteTime": {
     "end_time": "2025-06-24T21:51:26.602502Z",
     "start_time": "2025-06-24T21:50:32.870018Z"
    }
   },
   "outputs": [
    {
     "data": {
      "text/html": [
       "<div>\n",
       "<style scoped>\n",
       "    .dataframe tbody tr th:only-of-type {\n",
       "        vertical-align: middle;\n",
       "    }\n",
       "\n",
       "    .dataframe tbody tr th {\n",
       "        vertical-align: top;\n",
       "    }\n",
       "\n",
       "    .dataframe thead th {\n",
       "        text-align: right;\n",
       "    }\n",
       "</style>\n",
       "<table border=\"1\" class=\"dataframe\">\n",
       "  <thead>\n",
       "    <tr style=\"text-align: right;\">\n",
       "      <th></th>\n",
       "      <th>user_id:token</th>\n",
       "      <th>item_id:token</th>\n",
       "      <th>rating:float</th>\n",
       "      <th>timestamp:float</th>\n",
       "    </tr>\n",
       "  </thead>\n",
       "  <tbody>\n",
       "    <tr>\n",
       "      <th>0</th>\n",
       "      <td>AFKZENTNBQ7A7V7UXW5JJI6UGRYQ</td>\n",
       "      <td>B0BGFR76CF</td>\n",
       "      <td>5.0</td>\n",
       "      <td>1677321053520</td>\n",
       "    </tr>\n",
       "    <tr>\n",
       "      <th>1</th>\n",
       "      <td>AFKZENTNBQ7A7V7UXW5JJI6UGRYQ</td>\n",
       "      <td>B00NXQLFQQ</td>\n",
       "      <td>5.0</td>\n",
       "      <td>1523093771676</td>\n",
       "    </tr>\n",
       "    <tr>\n",
       "      <th>2</th>\n",
       "      <td>AGGZ357AO26RQZVRLGU4D4N52DZQ</td>\n",
       "      <td>B0957WLR63</td>\n",
       "      <td>5.0</td>\n",
       "      <td>1653526919105</td>\n",
       "    </tr>\n",
       "    <tr>\n",
       "      <th>3</th>\n",
       "      <td>AGGZ357AO26RQZVRLGU4D4N52DZQ</td>\n",
       "      <td>B00IET8S80</td>\n",
       "      <td>5.0</td>\n",
       "      <td>1627330911189</td>\n",
       "    </tr>\n",
       "    <tr>\n",
       "      <th>4</th>\n",
       "      <td>AGGZ357AO26RQZVRLGU4D4N52DZQ</td>\n",
       "      <td>B01C2SW7XA</td>\n",
       "      <td>5.0</td>\n",
       "      <td>1617831811976</td>\n",
       "    </tr>\n",
       "  </tbody>\n",
       "</table>\n",
       "</div>"
      ],
      "text/plain": [
       "                  user_id:token item_id:token  rating:float  timestamp:float\n",
       "0  AFKZENTNBQ7A7V7UXW5JJI6UGRYQ    B0BGFR76CF           5.0    1677321053520\n",
       "1  AFKZENTNBQ7A7V7UXW5JJI6UGRYQ    B00NXQLFQQ           5.0    1523093771676\n",
       "2  AGGZ357AO26RQZVRLGU4D4N52DZQ    B0957WLR63           5.0    1653526919105\n",
       "3  AGGZ357AO26RQZVRLGU4D4N52DZQ    B00IET8S80           5.0    1627330911189\n",
       "4  AGGZ357AO26RQZVRLGU4D4N52DZQ    B01C2SW7XA           5.0    1617831811976"
      ]
     },
     "execution_count": 2,
     "metadata": {},
     "output_type": "execute_result"
    }
   ],
   "source": [
    "import pandas as pd\n",
    "import json\n",
    "\n",
    "data = []\n",
    "with open(REVIEWS_PATH, 'r', encoding='utf-8') as f:\n",
    "    for line in f:\n",
    "        record = json.loads(line)\n",
    "\n",
    "        data.append(\n",
    "            {\n",
    "                \"user_id:token\": record.get(\"user_id\"),\n",
    "                \"item_id:token\": record.get(\"parent_asin\"),\n",
    "                \"rating:float\": record.get(\"rating\"),\n",
    "                \"timestamp:float\": record.get(\"timestamp\"),\n",
    "            }\n",
    "        )\n",
    "\n",
    "df = pd.DataFrame(data)\n",
    "df.head(5)"
   ]
  },
  {
   "cell_type": "markdown",
   "id": "176717a7",
   "metadata": {},
   "source": [
    "### Map string IDs"
   ]
  },
  {
   "cell_type": "code",
   "execution_count": 3,
   "id": "31d7f272",
   "metadata": {},
   "outputs": [],
   "source": [
    "df[\"user_id:token\"], user_index = pd.factorize(df[\"user_id:token\"]) # eg. 42 -> \"ASFAFASFASF\"\n",
    "df[\"item_id:token\"], item_index = pd.factorize(df[\"item_id:token\"])\n",
    "\n",
    "reverse_item_index = {org_id: num for num, org_id in enumerate(item_index)} # eg. \"ASFAFASFASF\" -> 42\n",
    "reverse_user_index = {org_id: num for num, org_id in enumerate(user_index)}"
   ]
  },
  {
   "cell_type": "markdown",
   "id": "00c88fbe",
   "metadata": {},
   "source": [
    "### Filter entries"
   ]
  },
  {
   "cell_type": "markdown",
   "id": "d7a8a272",
   "metadata": {},
   "source": [
    "##### By minimum occurence"
   ]
  },
  {
   "cell_type": "code",
   "execution_count": 4,
   "id": "49ccf385",
   "metadata": {},
   "outputs": [],
   "source": [
    "#df = df.groupby('user_id:token').filter(lambda x: len(x) > MIN_USER_OCCURENCE)"
   ]
  },
  {
   "cell_type": "markdown",
   "id": "cd89f26ab2e7438d",
   "metadata": {},
   "source": [
    "### Validate dataset"
   ]
  },
  {
   "cell_type": "markdown",
   "id": "d112fdaf",
   "metadata": {},
   "source": [
    "##### Check for null values"
   ]
  },
  {
   "cell_type": "code",
   "execution_count": 5,
   "id": "92e09080cb4ef69f",
   "metadata": {
    "ExecuteTime": {
     "end_time": "2025-06-24T21:57:01.425447Z",
     "start_time": "2025-06-24T21:57:00.671198Z"
    }
   },
   "outputs": [
    {
     "data": {
      "text/plain": [
       "user_id:token      0\n",
       "item_id:token      0\n",
       "rating:float       0\n",
       "timestamp:float    0\n",
       "dtype: int64"
      ]
     },
     "execution_count": 5,
     "metadata": {},
     "output_type": "execute_result"
    }
   ],
   "source": [
    "df.isna().sum()"
   ]
  },
  {
   "cell_type": "markdown",
   "id": "ddf01926",
   "metadata": {},
   "source": [
    "##### Check for invalid IDs"
   ]
  },
  {
   "cell_type": "code",
   "execution_count": 6,
   "id": "2beaa976166611a1",
   "metadata": {
    "ExecuteTime": {
     "end_time": "2025-06-24T21:57:10.842454Z",
     "start_time": "2025-06-24T21:57:09.355193Z"
    }
   },
   "outputs": [],
   "source": [
    "string_cols = df.select_dtypes(include=\"object\").columns\n",
    "for col in string_cols:\n",
    "    print(col, \"=> puste stringi:\", (df[col] == \"\").sum())"
   ]
  },
  {
   "cell_type": "markdown",
   "id": "1c8d1a79",
   "metadata": {},
   "source": [
    "##### Check for invalid types"
   ]
  },
  {
   "cell_type": "code",
   "execution_count": 7,
   "id": "75232a7bb3e2460b",
   "metadata": {
    "ExecuteTime": {
     "end_time": "2025-06-24T22:00:01.265901Z",
     "start_time": "2025-06-24T22:00:00.551092Z"
    }
   },
   "outputs": [
    {
     "data": {
      "text/html": [
       "<div>\n",
       "<style scoped>\n",
       "    .dataframe tbody tr th:only-of-type {\n",
       "        vertical-align: middle;\n",
       "    }\n",
       "\n",
       "    .dataframe tbody tr th {\n",
       "        vertical-align: top;\n",
       "    }\n",
       "\n",
       "    .dataframe thead th {\n",
       "        text-align: right;\n",
       "    }\n",
       "</style>\n",
       "<table border=\"1\" class=\"dataframe\">\n",
       "  <thead>\n",
       "    <tr style=\"text-align: right;\">\n",
       "      <th></th>\n",
       "      <th>rating:float</th>\n",
       "      <th>timestamp:float</th>\n",
       "    </tr>\n",
       "  </thead>\n",
       "  <tbody>\n",
       "    <tr>\n",
       "      <th>count</th>\n",
       "      <td>19,595,170</td>\n",
       "      <td>19,595,170</td>\n",
       "    </tr>\n",
       "    <tr>\n",
       "      <th>mean</th>\n",
       "      <td>4</td>\n",
       "      <td>1,542,144,400,806</td>\n",
       "    </tr>\n",
       "    <tr>\n",
       "      <th>std</th>\n",
       "      <td>1</td>\n",
       "      <td>91,428,989,142</td>\n",
       "    </tr>\n",
       "    <tr>\n",
       "      <th>min</th>\n",
       "      <td>1</td>\n",
       "      <td>957,208,301,000</td>\n",
       "    </tr>\n",
       "    <tr>\n",
       "      <th>25%</th>\n",
       "      <td>4</td>\n",
       "      <td>1,474,241,284,500</td>\n",
       "    </tr>\n",
       "    <tr>\n",
       "      <th>50%</th>\n",
       "      <td>5</td>\n",
       "      <td>1,557,174,492,773</td>\n",
       "    </tr>\n",
       "    <tr>\n",
       "      <th>75%</th>\n",
       "      <td>5</td>\n",
       "      <td>1,616,176,559,383</td>\n",
       "    </tr>\n",
       "    <tr>\n",
       "      <th>max</th>\n",
       "      <td>5</td>\n",
       "      <td>1,694,670,041,162</td>\n",
       "    </tr>\n",
       "  </tbody>\n",
       "</table>\n",
       "</div>"
      ],
      "text/plain": [
       "      rating:float    timestamp:float\n",
       "count   19,595,170         19,595,170\n",
       "mean             4  1,542,144,400,806\n",
       "std              1     91,428,989,142\n",
       "min              1    957,208,301,000\n",
       "25%              4  1,474,241,284,500\n",
       "50%              5  1,557,174,492,773\n",
       "75%              5  1,616,176,559,383\n",
       "max              5  1,694,670,041,162"
      ]
     },
     "execution_count": 7,
     "metadata": {},
     "output_type": "execute_result"
    }
   ],
   "source": [
    "df[[\"rating:float\", \"timestamp:float\"]].describe().map(lambda x: f\"{x:,.0f}\")"
   ]
  },
  {
   "cell_type": "markdown",
   "id": "13adec4e84bf42d1",
   "metadata": {},
   "source": [
    "### Save dataset to .inter file"
   ]
  },
  {
   "cell_type": "code",
   "execution_count": 8,
   "id": "c77d73ecba99af43",
   "metadata": {
    "ExecuteTime": {
     "end_time": "2025-06-24T22:02:45.085542Z",
     "start_time": "2025-06-24T22:02:25.526082Z"
    }
   },
   "outputs": [],
   "source": [
    "df.to_csv(SAVE_PATH, sep=\"\\t\", index=False)"
   ]
  },
  {
   "cell_type": "markdown",
   "id": "0bb1a6de",
   "metadata": {},
   "source": [
    "### Save mappings to .json file"
   ]
  },
  {
   "cell_type": "code",
   "execution_count": 9,
   "id": "905b708e",
   "metadata": {},
   "outputs": [],
   "source": [
    "with open(ITEM_MAPPING_PATH, 'w', encoding='utf-8') as f:\n",
    "    json.dump(list(item_index), fp=f)\n",
    "\n",
    "with open(ITEM_REVERSE_MAPPING_PATH, 'w', encoding='utf-8') as f:\n",
    "    json.dump(reverse_item_index, fp=f)\n",
    "\n",
    "with open(USER_MAPPING_PATH, 'w', encoding='utf-8') as f:\n",
    "    json.dump(list(user_index), fp=f)\n",
    "\n",
    "with open(USER_REVERSE_MAPPING_PATH, 'w', encoding='utf-8') as f:\n",
    "    json.dump(reverse_user_index, fp=f)"
   ]
  },
  {
   "cell_type": "markdown",
   "id": "58e53aae",
   "metadata": {},
   "source": [
    "## (.item)"
   ]
  },
  {
   "cell_type": "markdown",
   "id": "d6265fd4",
   "metadata": {},
   "source": [
    "### Reading the JSONL 'meta' file"
   ]
  },
  {
   "cell_type": "code",
   "execution_count": 10,
   "id": "d488ffee",
   "metadata": {},
   "outputs": [
    {
     "data": {
      "text/html": [
       "<div>\n",
       "<style scoped>\n",
       "    .dataframe tbody tr th:only-of-type {\n",
       "        vertical-align: middle;\n",
       "    }\n",
       "\n",
       "    .dataframe tbody tr th {\n",
       "        vertical-align: top;\n",
       "    }\n",
       "\n",
       "    .dataframe thead th {\n",
       "        text-align: right;\n",
       "    }\n",
       "</style>\n",
       "<table border=\"1\" class=\"dataframe\">\n",
       "  <thead>\n",
       "    <tr style=\"text-align: right;\">\n",
       "      <th></th>\n",
       "      <th>item_id:token</th>\n",
       "      <th>title:token</th>\n",
       "      <th>price:float</th>\n",
       "      <th>brand:token</th>\n",
       "      <th>categories:token_seq</th>\n",
       "      <th>sales_type:token</th>\n",
       "      <th>sales_rank:float</th>\n",
       "    </tr>\n",
       "  </thead>\n",
       "  <tbody>\n",
       "    <tr>\n",
       "      <th>0</th>\n",
       "      <td>884509</td>\n",
       "      <td>Sure-Grip Zombie Wheels Low 59mm 4 Pack</td>\n",
       "      <td>55.00</td>\n",
       "      <td>Sure-Grip</td>\n",
       "      <td>'Sports &amp; Outdoors', 'Sports', 'Skates, Skateb...</td>\n",
       "      <td>Sports &amp; Outdoors</td>\n",
       "      <td>295175.0</td>\n",
       "    </tr>\n",
       "    <tr>\n",
       "      <th>1</th>\n",
       "      <td>561856</td>\n",
       "      <td>USGI Wet Weather Bag (Fоur Paсk)</td>\n",
       "      <td>NaN</td>\n",
       "      <td>USGI</td>\n",
       "      <td>'Sports &amp; Outdoors', 'Sports', 'Boating &amp; Sail...</td>\n",
       "      <td>Sports &amp; Outdoors</td>\n",
       "      <td>962400.0</td>\n",
       "    </tr>\n",
       "    <tr>\n",
       "      <th>2</th>\n",
       "      <td>239749</td>\n",
       "      <td>NHL San Jose Sharks Team Logo Post Earrings</td>\n",
       "      <td>18.99</td>\n",
       "      <td>Aminco</td>\n",
       "      <td>'Sports &amp; Outdoors', 'Fan Shop', 'Jewelry &amp; Wa...</td>\n",
       "      <td>Sports &amp; Outdoors</td>\n",
       "      <td>721263.0</td>\n",
       "    </tr>\n",
       "    <tr>\n",
       "      <th>3</th>\n",
       "      <td>55030</td>\n",
       "      <td>Bont Skates - Prostar Purple Suede Professiona...</td>\n",
       "      <td>209.00</td>\n",
       "      <td>Bont</td>\n",
       "      <td>'Sports &amp; Outdoors', 'Sports', 'Skates, Skateb...</td>\n",
       "      <td>Sports &amp; Outdoors</td>\n",
       "      <td>213685.0</td>\n",
       "    </tr>\n",
       "    <tr>\n",
       "      <th>4</th>\n",
       "      <td>1277121</td>\n",
       "      <td>Team Golf Alamaba Crimson Tide Embroidered Tow...</td>\n",
       "      <td>NaN</td>\n",
       "      <td>Team Golf</td>\n",
       "      <td>'Sports &amp; Outdoors', 'Fan Shop', 'Sports Equip...</td>\n",
       "      <td>Sports &amp; Outdoors</td>\n",
       "      <td>1621084.0</td>\n",
       "    </tr>\n",
       "  </tbody>\n",
       "</table>\n",
       "</div>"
      ],
      "text/plain": [
       "   item_id:token                                        title:token  \\\n",
       "0         884509            Sure-Grip Zombie Wheels Low 59mm 4 Pack   \n",
       "1         561856                   USGI Wet Weather Bag (Fоur Paсk)   \n",
       "2         239749        NHL San Jose Sharks Team Logo Post Earrings   \n",
       "3          55030  Bont Skates - Prostar Purple Suede Professiona...   \n",
       "4        1277121  Team Golf Alamaba Crimson Tide Embroidered Tow...   \n",
       "\n",
       "   price:float brand:token                               categories:token_seq  \\\n",
       "0        55.00   Sure-Grip  'Sports & Outdoors', 'Sports', 'Skates, Skateb...   \n",
       "1          NaN        USGI  'Sports & Outdoors', 'Sports', 'Boating & Sail...   \n",
       "2        18.99      Aminco  'Sports & Outdoors', 'Fan Shop', 'Jewelry & Wa...   \n",
       "3       209.00        Bont  'Sports & Outdoors', 'Sports', 'Skates, Skateb...   \n",
       "4          NaN   Team Golf  'Sports & Outdoors', 'Fan Shop', 'Sports Equip...   \n",
       "\n",
       "    sales_type:token  sales_rank:float  \n",
       "0  Sports & Outdoors          295175.0  \n",
       "1  Sports & Outdoors          962400.0  \n",
       "2  Sports & Outdoors          721263.0  \n",
       "3  Sports & Outdoors          213685.0  \n",
       "4  Sports & Outdoors         1621084.0  "
      ]
     },
     "execution_count": 10,
     "metadata": {},
     "output_type": "execute_result"
    }
   ],
   "source": [
    "def safe_float(x):\n",
    "    try:\n",
    "        return float(x)\n",
    "    except (TypeError, ValueError):\n",
    "        return float('nan')\n",
    "\n",
    "data = []\n",
    "with open(META_PATH, 'r', encoding='utf-8') as f:\n",
    "    keys = set(reverse_item_index.keys())\n",
    "    for line in f:\n",
    "        record = json.loads(line)\n",
    "        best_sellers = record.get(\"details\", {}).get(\"Best Sellers Rank\", {})\n",
    "        max_key, max_value = None, float('nan')\n",
    "\n",
    "        if best_sellers:\n",
    "            max_key = max(best_sellers, key=best_sellers.get)\n",
    "            max_value = best_sellers[max_key]\n",
    "\n",
    "        # Does not exist in 'review' file\n",
    "        if record.get(\"parent_asin\") not in keys:\n",
    "            continue\n",
    "\n",
    "        data.append(\n",
    "            {\n",
    "                \"item_id:token\": reverse_item_index[record.get(\"parent_asin\")],\n",
    "                \"title:token\": record.get(\"title\"),\n",
    "                \"price:float\": safe_float(record.get(\"price\")),\n",
    "                # store 35109 times None vs. details -> Brand Name 572787 times None\n",
    "                \"brand:token\": record.get(\"store\"),\n",
    "                \"categories:token_seq\": '\\'' + \"\\', \\'\".join(record.get(\"categories\")) + '\\'' if record.get(\"categories\") else '',\n",
    "                \"sales_type:token\": max_key,\n",
    "                \"sales_rank:float\": max_value,\n",
    "            }\n",
    "        )\n",
    "\n",
    "df = pd.DataFrame(data)\n",
    "df.head(5)"
   ]
  },
  {
   "cell_type": "markdown",
   "id": "da458fd0",
   "metadata": {},
   "source": [
    "### Validate dataset"
   ]
  },
  {
   "cell_type": "markdown",
   "id": "f11917e9",
   "metadata": {},
   "source": [
    "##### Check for null values"
   ]
  },
  {
   "cell_type": "code",
   "execution_count": 11,
   "id": "8bc28271",
   "metadata": {},
   "outputs": [
    {
     "data": {
      "text/plain": [
       "item_id:token                 0\n",
       "title:token                   0\n",
       "price:float             1102717\n",
       "brand:token               35108\n",
       "categories:token_seq          0\n",
       "sales_type:token         963077\n",
       "sales_rank:float         963077\n",
       "dtype: int64"
      ]
     },
     "execution_count": 11,
     "metadata": {},
     "output_type": "execute_result"
    }
   ],
   "source": [
    "df.isna().sum()"
   ]
  },
  {
   "cell_type": "markdown",
   "id": "fd7d8c66",
   "metadata": {},
   "source": [
    "##### Check for invalid IDs"
   ]
  },
  {
   "cell_type": "code",
   "execution_count": 12,
   "id": "419f0656",
   "metadata": {},
   "outputs": [
    {
     "name": "stdout",
     "output_type": "stream",
     "text": [
      "title:token => puste stringi: 112\n",
      "brand:token => puste stringi: 0\n",
      "categories:token_seq => puste stringi: 89817\n",
      "sales_type:token => puste stringi: 0\n"
     ]
    }
   ],
   "source": [
    "string_cols = df.select_dtypes(include=\"object\").columns\n",
    "for col in string_cols:\n",
    "    print(col, \"=> puste stringi:\", (df[col] == \"\").sum())"
   ]
  },
  {
   "cell_type": "markdown",
   "id": "6b6fcb3c",
   "metadata": {},
   "source": [
    "##### Check for invalid types"
   ]
  },
  {
   "cell_type": "code",
   "execution_count": 13,
   "id": "69d798bc",
   "metadata": {},
   "outputs": [
    {
     "data": {
      "text/html": [
       "<div>\n",
       "<style scoped>\n",
       "    .dataframe tbody tr th:only-of-type {\n",
       "        vertical-align: middle;\n",
       "    }\n",
       "\n",
       "    .dataframe tbody tr th {\n",
       "        vertical-align: top;\n",
       "    }\n",
       "\n",
       "    .dataframe thead th {\n",
       "        text-align: right;\n",
       "    }\n",
       "</style>\n",
       "<table border=\"1\" class=\"dataframe\">\n",
       "  <thead>\n",
       "    <tr style=\"text-align: right;\">\n",
       "      <th></th>\n",
       "      <th>price:float</th>\n",
       "      <th>sales_rank:float</th>\n",
       "    </tr>\n",
       "  </thead>\n",
       "  <tbody>\n",
       "    <tr>\n",
       "      <th>count</th>\n",
       "      <td>484,502</td>\n",
       "      <td>624,142</td>\n",
       "    </tr>\n",
       "    <tr>\n",
       "      <th>mean</th>\n",
       "      <td>57</td>\n",
       "      <td>735,503</td>\n",
       "    </tr>\n",
       "    <tr>\n",
       "      <th>std</th>\n",
       "      <td>162</td>\n",
       "      <td>614,592</td>\n",
       "    </tr>\n",
       "    <tr>\n",
       "      <th>min</th>\n",
       "      <td>0</td>\n",
       "      <td>1</td>\n",
       "    </tr>\n",
       "    <tr>\n",
       "      <th>25%</th>\n",
       "      <td>13</td>\n",
       "      <td>267,574</td>\n",
       "    </tr>\n",
       "    <tr>\n",
       "      <th>50%</th>\n",
       "      <td>24</td>\n",
       "      <td>589,380</td>\n",
       "    </tr>\n",
       "    <tr>\n",
       "      <th>75%</th>\n",
       "      <td>50</td>\n",
       "      <td>1,054,191</td>\n",
       "    </tr>\n",
       "    <tr>\n",
       "      <th>max</th>\n",
       "      <td>22,000</td>\n",
       "      <td>13,516,189</td>\n",
       "    </tr>\n",
       "  </tbody>\n",
       "</table>\n",
       "</div>"
      ],
      "text/plain": [
       "      price:float sales_rank:float\n",
       "count     484,502          624,142\n",
       "mean           57          735,503\n",
       "std           162          614,592\n",
       "min             0                1\n",
       "25%            13          267,574\n",
       "50%            24          589,380\n",
       "75%            50        1,054,191\n",
       "max        22,000       13,516,189"
      ]
     },
     "execution_count": 13,
     "metadata": {},
     "output_type": "execute_result"
    }
   ],
   "source": [
    "df[[\"price:float\", \"sales_rank:float\"]].describe().map(lambda x: f\"{x:,.0f}\")"
   ]
  },
  {
   "cell_type": "markdown",
   "id": "366ba2e5",
   "metadata": {},
   "source": [
    "### Save dataset to .item file"
   ]
  },
  {
   "cell_type": "code",
   "execution_count": 14,
   "id": "45072cd5",
   "metadata": {},
   "outputs": [],
   "source": [
    "df.to_csv(META_SAVE_PATH, sep='\\t', index=False, na_rep='')"
   ]
  }
 ],
 "metadata": {
  "kernelspec": {
   "display_name": "Python 3",
   "language": "python",
   "name": "python3"
  },
  "language_info": {
   "codemirror_mode": {
    "name": "ipython",
    "version": 3
   },
   "file_extension": ".py",
   "mimetype": "text/x-python",
   "name": "python",
   "nbconvert_exporter": "python",
   "pygments_lexer": "ipython3",
   "version": "3.13.5"
  }
 },
 "nbformat": 4,
 "nbformat_minor": 5
}
