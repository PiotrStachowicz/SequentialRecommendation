{
 "cells": [
  {
   "cell_type": "code",
   "id": "initial_id",
   "metadata": {
    "collapsed": true,
    "ExecuteTime": {
     "end_time": "2025-06-24T22:01:44.629637Z",
     "start_time": "2025-06-24T22:01:44.627124Z"
    }
   },
   "source": [
    "REVIEWS_PATH = '/Users/jakubmalczak/UNI/INŻ/SequentialRecommendation/recbole/data/dataset/Amazon_Sports_and_Outdoors/Sports_and_Outdoors_2023.jsonl'\n",
    "SAVE_PATH = '/Users/jakubmalczak/UNI/INŻ/SequentialRecommendation/recbole/data/dataset/Amazon_Sports_and_Outdoors/Amazon_Sports_and_Outdoors_2023.inter'"
   ],
   "outputs": [],
   "execution_count": 18
  },
  {
   "metadata": {},
   "cell_type": "markdown",
   "source": "### Reading JSONL file",
   "id": "90f518879d170d26"
  },
  {
   "metadata": {
    "ExecuteTime": {
     "end_time": "2025-06-24T21:51:26.602502Z",
     "start_time": "2025-06-24T21:50:32.870018Z"
    }
   },
   "cell_type": "code",
   "source": [
    "import pandas as pd\n",
    "import json\n",
    "\n",
    "data = []\n",
    "with open(REVIEWS_PATH, 'r', encoding='utf-8') as f:\n",
    "    for line in f:\n",
    "        record = json.loads(line)\n",
    "        data.append(\n",
    "            {\n",
    "                \"user_id:token\": record.get(\"user_id\"),\n",
    "                \"item_id:token\": record.get(\"parent_asin\"),\n",
    "                \"rating:float\": record.get(\"rating\"),\n",
    "                \"timestamp:float\": record.get(\"timestamp\"),\n",
    "            }\n",
    "        )\n",
    "\n",
    "df = pd.DataFrame(data)\n",
    "df.head(5)"
   ],
   "id": "e8606a14f7a50c63",
   "outputs": [
    {
     "data": {
      "text/plain": [
       "                  user_id:token item_id:token  rating:float  timestamp:float\n",
       "0  AFKZENTNBQ7A7V7UXW5JJI6UGRYQ    B0BGFR76CF           5.0    1677321053520\n",
       "1  AFKZENTNBQ7A7V7UXW5JJI6UGRYQ    B00NXQLFQQ           5.0    1523093771676\n",
       "2  AGGZ357AO26RQZVRLGU4D4N52DZQ    B0957WLR63           5.0    1653526919105\n",
       "3  AGGZ357AO26RQZVRLGU4D4N52DZQ    B00IET8S80           5.0    1627330911189\n",
       "4  AGGZ357AO26RQZVRLGU4D4N52DZQ    B01C2SW7XA           5.0    1617831811976"
      ],
      "text/html": [
       "<div>\n",
       "<style scoped>\n",
       "    .dataframe tbody tr th:only-of-type {\n",
       "        vertical-align: middle;\n",
       "    }\n",
       "\n",
       "    .dataframe tbody tr th {\n",
       "        vertical-align: top;\n",
       "    }\n",
       "\n",
       "    .dataframe thead th {\n",
       "        text-align: right;\n",
       "    }\n",
       "</style>\n",
       "<table border=\"1\" class=\"dataframe\">\n",
       "  <thead>\n",
       "    <tr style=\"text-align: right;\">\n",
       "      <th></th>\n",
       "      <th>user_id:token</th>\n",
       "      <th>item_id:token</th>\n",
       "      <th>rating:float</th>\n",
       "      <th>timestamp:float</th>\n",
       "    </tr>\n",
       "  </thead>\n",
       "  <tbody>\n",
       "    <tr>\n",
       "      <th>0</th>\n",
       "      <td>AFKZENTNBQ7A7V7UXW5JJI6UGRYQ</td>\n",
       "      <td>B0BGFR76CF</td>\n",
       "      <td>5.0</td>\n",
       "      <td>1677321053520</td>\n",
       "    </tr>\n",
       "    <tr>\n",
       "      <th>1</th>\n",
       "      <td>AFKZENTNBQ7A7V7UXW5JJI6UGRYQ</td>\n",
       "      <td>B00NXQLFQQ</td>\n",
       "      <td>5.0</td>\n",
       "      <td>1523093771676</td>\n",
       "    </tr>\n",
       "    <tr>\n",
       "      <th>2</th>\n",
       "      <td>AGGZ357AO26RQZVRLGU4D4N52DZQ</td>\n",
       "      <td>B0957WLR63</td>\n",
       "      <td>5.0</td>\n",
       "      <td>1653526919105</td>\n",
       "    </tr>\n",
       "    <tr>\n",
       "      <th>3</th>\n",
       "      <td>AGGZ357AO26RQZVRLGU4D4N52DZQ</td>\n",
       "      <td>B00IET8S80</td>\n",
       "      <td>5.0</td>\n",
       "      <td>1627330911189</td>\n",
       "    </tr>\n",
       "    <tr>\n",
       "      <th>4</th>\n",
       "      <td>AGGZ357AO26RQZVRLGU4D4N52DZQ</td>\n",
       "      <td>B01C2SW7XA</td>\n",
       "      <td>5.0</td>\n",
       "      <td>1617831811976</td>\n",
       "    </tr>\n",
       "  </tbody>\n",
       "</table>\n",
       "</div>"
      ]
     },
     "execution_count": 5,
     "metadata": {},
     "output_type": "execute_result"
    }
   ],
   "execution_count": 5
  },
  {
   "metadata": {},
   "cell_type": "markdown",
   "source": "### Validate data",
   "id": "cd89f26ab2e7438d"
  },
  {
   "metadata": {
    "ExecuteTime": {
     "end_time": "2025-06-24T21:57:01.425447Z",
     "start_time": "2025-06-24T21:57:00.671198Z"
    }
   },
   "cell_type": "code",
   "source": "df.isna().sum()",
   "id": "92e09080cb4ef69f",
   "outputs": [
    {
     "data": {
      "text/plain": [
       "user_id:token      0\n",
       "item_id:token      0\n",
       "rating:float       0\n",
       "timestamp:float    0\n",
       "dtype: int64"
      ]
     },
     "execution_count": 12,
     "metadata": {},
     "output_type": "execute_result"
    }
   ],
   "execution_count": 12
  },
  {
   "metadata": {
    "ExecuteTime": {
     "end_time": "2025-06-24T21:57:10.842454Z",
     "start_time": "2025-06-24T21:57:09.355193Z"
    }
   },
   "cell_type": "code",
   "source": [
    "string_cols = df.select_dtypes(include=\"object\").columns\n",
    "for col in string_cols:\n",
    "    print(col, \"=> puste stringi:\", (df[col] == \"\").sum())"
   ],
   "id": "2beaa976166611a1",
   "outputs": [
    {
     "name": "stdout",
     "output_type": "stream",
     "text": [
      "user_id:token => puste stringi: 0\n",
      "item_id:token => puste stringi: 0\n"
     ]
    }
   ],
   "execution_count": 13
  },
  {
   "metadata": {
    "ExecuteTime": {
     "end_time": "2025-06-24T22:00:01.265901Z",
     "start_time": "2025-06-24T22:00:00.551092Z"
    }
   },
   "cell_type": "code",
   "source": "df[[\"rating:float\", \"timestamp:float\"]].describe().map(lambda x: f\"{x:,.0f}\")",
   "id": "75232a7bb3e2460b",
   "outputs": [
    {
     "data": {
      "text/plain": [
       "      rating:float    timestamp:float\n",
       "count   19,595,170         19,595,170\n",
       "mean             4  1,542,144,400,806\n",
       "std              1     91,428,989,142\n",
       "min              1    957,208,301,000\n",
       "25%              4  1,474,241,284,500\n",
       "50%              5  1,557,174,492,773\n",
       "75%              5  1,616,176,559,383\n",
       "max              5  1,694,670,041,162"
      ],
      "text/html": [
       "<div>\n",
       "<style scoped>\n",
       "    .dataframe tbody tr th:only-of-type {\n",
       "        vertical-align: middle;\n",
       "    }\n",
       "\n",
       "    .dataframe tbody tr th {\n",
       "        vertical-align: top;\n",
       "    }\n",
       "\n",
       "    .dataframe thead th {\n",
       "        text-align: right;\n",
       "    }\n",
       "</style>\n",
       "<table border=\"1\" class=\"dataframe\">\n",
       "  <thead>\n",
       "    <tr style=\"text-align: right;\">\n",
       "      <th></th>\n",
       "      <th>rating:float</th>\n",
       "      <th>timestamp:float</th>\n",
       "    </tr>\n",
       "  </thead>\n",
       "  <tbody>\n",
       "    <tr>\n",
       "      <th>count</th>\n",
       "      <td>19,595,170</td>\n",
       "      <td>19,595,170</td>\n",
       "    </tr>\n",
       "    <tr>\n",
       "      <th>mean</th>\n",
       "      <td>4</td>\n",
       "      <td>1,542,144,400,806</td>\n",
       "    </tr>\n",
       "    <tr>\n",
       "      <th>std</th>\n",
       "      <td>1</td>\n",
       "      <td>91,428,989,142</td>\n",
       "    </tr>\n",
       "    <tr>\n",
       "      <th>min</th>\n",
       "      <td>1</td>\n",
       "      <td>957,208,301,000</td>\n",
       "    </tr>\n",
       "    <tr>\n",
       "      <th>25%</th>\n",
       "      <td>4</td>\n",
       "      <td>1,474,241,284,500</td>\n",
       "    </tr>\n",
       "    <tr>\n",
       "      <th>50%</th>\n",
       "      <td>5</td>\n",
       "      <td>1,557,174,492,773</td>\n",
       "    </tr>\n",
       "    <tr>\n",
       "      <th>75%</th>\n",
       "      <td>5</td>\n",
       "      <td>1,616,176,559,383</td>\n",
       "    </tr>\n",
       "    <tr>\n",
       "      <th>max</th>\n",
       "      <td>5</td>\n",
       "      <td>1,694,670,041,162</td>\n",
       "    </tr>\n",
       "  </tbody>\n",
       "</table>\n",
       "</div>"
      ]
     },
     "execution_count": 17,
     "metadata": {},
     "output_type": "execute_result"
    }
   ],
   "execution_count": 17
  },
  {
   "metadata": {},
   "cell_type": "markdown",
   "source": "### Save to .inter file",
   "id": "13adec4e84bf42d1"
  },
  {
   "metadata": {
    "ExecuteTime": {
     "end_time": "2025-06-24T22:02:45.085542Z",
     "start_time": "2025-06-24T22:02:25.526082Z"
    }
   },
   "cell_type": "code",
   "source": "df.to_csv(SAVE_PATH, sep=\"\\t\", index=False)",
   "id": "c77d73ecba99af43",
   "outputs": [],
   "execution_count": 19
  }
 ],
 "metadata": {
  "kernelspec": {
   "display_name": "Python 3",
   "language": "python",
   "name": "python3"
  },
  "language_info": {
   "codemirror_mode": {
    "name": "ipython",
    "version": 2
   },
   "file_extension": ".py",
   "mimetype": "text/x-python",
   "name": "python",
   "nbconvert_exporter": "python",
   "pygments_lexer": "ipython2",
   "version": "2.7.6"
  }
 },
 "nbformat": 4,
 "nbformat_minor": 5
}
