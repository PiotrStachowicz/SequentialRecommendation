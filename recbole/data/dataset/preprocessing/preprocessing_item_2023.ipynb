{
 "cells": [
  {
   "cell_type": "code",
   "id": "initial_id",
   "metadata": {
    "collapsed": true,
    "ExecuteTime": {
     "end_time": "2025-06-24T22:06:18.140193Z",
     "start_time": "2025-06-24T22:06:18.138165Z"
    }
   },
   "source": [
    "META_PATH = '/Users/jakubmalczak/UNI/INŻ/SequentialRecommendation/recbole/data/dataset/Amazon_Sports_and_Outdoors/meta_Sports_and_Outdoors_2023.jsonl'\n",
    "SAVE_PATH = '/Users/jakubmalczak/UNI/INŻ/SequentialRecommendation/recbole/data/dataset/Amazon_Sports_and_Outdoors/Amazon_Sports_and_Outdoors_2023.item'"
   ],
   "outputs": [],
   "execution_count": 1
  },
  {
   "metadata": {},
   "cell_type": "markdown",
   "source": "### Reading JSONL file",
   "id": "e8af2fcc9300210b"
  },
  {
   "metadata": {
    "ExecuteTime": {
     "end_time": "2025-06-24T23:15:49.229391Z",
     "start_time": "2025-06-24T23:15:31.221809Z"
    }
   },
   "cell_type": "code",
   "source": [
    "import pandas as pd\n",
    "import json\n",
    "\n",
    "def safe_float(x):\n",
    "    try:\n",
    "        return float(x)\n",
    "    except (TypeError, ValueError):\n",
    "        return float('nan')\n",
    "\n",
    "data = []\n",
    "with open(META_PATH, 'r', encoding='utf-8') as f:\n",
    "    for line in f:\n",
    "        record = json.loads(line)\n",
    "        best_sellers = record.get(\"details\", {}).get(\"Best Sellers Rank\", {})\n",
    "        max_key, max_value = None, float('nan')\n",
    "        if best_sellers:\n",
    "            max_key = max(best_sellers, key=best_sellers.get)\n",
    "            max_value = best_sellers[max_key]\n",
    "        data.append(\n",
    "            {\n",
    "                \"item_id:token\": record.get(\"parent_asin\"),\n",
    "                \"title:token\": record.get(\"title\"),\n",
    "                \"price:float\": safe_float(record.get(\"price\")),\n",
    "                # store 35109 times None vs. details -> Brand Name 572787 times None\n",
    "                \"brand:token\": record.get(\"store\"),\n",
    "                \"categories:token_seq\": '\\'' + \"\\', \\'\".join(record.get(\"categories\")) + '\\'' if record.get(\"categories\") else '',\n",
    "                \"sales_type:token\": max_key,\n",
    "                \"sales_rank:float\": max_value,\n",
    "            }\n",
    "        )\n",
    "\n",
    "df = pd.DataFrame(data)\n",
    "df.head(5)"
   ],
   "id": "63905243b03fc689",
   "outputs": [
    {
     "data": {
      "text/plain": [
       "  item_id:token                                        title:token  \\\n",
       "0    B01HDXC8AG            Sure-Grip Zombie Wheels Low 59mm 4 Pack   \n",
       "1    B07R5BQ4YD                   USGI Wet Weather Bag (Fоur Paсk)   \n",
       "2    B003K8GZ7G        NHL San Jose Sharks Team Logo Post Earrings   \n",
       "3    B08GC4GBWB  Bont Skates - Prostar Purple Suede Professiona...   \n",
       "4    B07BYV947H  Team Golf Alamaba Crimson Tide Embroidered Tow...   \n",
       "\n",
       "   price:float brand:token                               categories:token_seq  \\\n",
       "0        55.00   Sure-Grip  'Sports & Outdoors', 'Sports', 'Skates, Skateb...   \n",
       "1          NaN        USGI  'Sports & Outdoors', 'Sports', 'Boating & Sail...   \n",
       "2        18.99      Aminco  'Sports & Outdoors', 'Fan Shop', 'Jewelry & Wa...   \n",
       "3       209.00        Bont  'Sports & Outdoors', 'Sports', 'Skates, Skateb...   \n",
       "4          NaN   Team Golf  'Sports & Outdoors', 'Fan Shop', 'Sports Equip...   \n",
       "\n",
       "    sales_type:token  sales_rank:float  \n",
       "0  Sports & Outdoors          295175.0  \n",
       "1  Sports & Outdoors          962400.0  \n",
       "2  Sports & Outdoors          721263.0  \n",
       "3  Sports & Outdoors          213685.0  \n",
       "4  Sports & Outdoors         1621084.0  "
      ],
      "text/html": [
       "<div>\n",
       "<style scoped>\n",
       "    .dataframe tbody tr th:only-of-type {\n",
       "        vertical-align: middle;\n",
       "    }\n",
       "\n",
       "    .dataframe tbody tr th {\n",
       "        vertical-align: top;\n",
       "    }\n",
       "\n",
       "    .dataframe thead th {\n",
       "        text-align: right;\n",
       "    }\n",
       "</style>\n",
       "<table border=\"1\" class=\"dataframe\">\n",
       "  <thead>\n",
       "    <tr style=\"text-align: right;\">\n",
       "      <th></th>\n",
       "      <th>item_id:token</th>\n",
       "      <th>title:token</th>\n",
       "      <th>price:float</th>\n",
       "      <th>brand:token</th>\n",
       "      <th>categories:token_seq</th>\n",
       "      <th>sales_type:token</th>\n",
       "      <th>sales_rank:float</th>\n",
       "    </tr>\n",
       "  </thead>\n",
       "  <tbody>\n",
       "    <tr>\n",
       "      <th>0</th>\n",
       "      <td>B01HDXC8AG</td>\n",
       "      <td>Sure-Grip Zombie Wheels Low 59mm 4 Pack</td>\n",
       "      <td>55.00</td>\n",
       "      <td>Sure-Grip</td>\n",
       "      <td>'Sports &amp; Outdoors', 'Sports', 'Skates, Skateb...</td>\n",
       "      <td>Sports &amp; Outdoors</td>\n",
       "      <td>295175.0</td>\n",
       "    </tr>\n",
       "    <tr>\n",
       "      <th>1</th>\n",
       "      <td>B07R5BQ4YD</td>\n",
       "      <td>USGI Wet Weather Bag (Fоur Paсk)</td>\n",
       "      <td>NaN</td>\n",
       "      <td>USGI</td>\n",
       "      <td>'Sports &amp; Outdoors', 'Sports', 'Boating &amp; Sail...</td>\n",
       "      <td>Sports &amp; Outdoors</td>\n",
       "      <td>962400.0</td>\n",
       "    </tr>\n",
       "    <tr>\n",
       "      <th>2</th>\n",
       "      <td>B003K8GZ7G</td>\n",
       "      <td>NHL San Jose Sharks Team Logo Post Earrings</td>\n",
       "      <td>18.99</td>\n",
       "      <td>Aminco</td>\n",
       "      <td>'Sports &amp; Outdoors', 'Fan Shop', 'Jewelry &amp; Wa...</td>\n",
       "      <td>Sports &amp; Outdoors</td>\n",
       "      <td>721263.0</td>\n",
       "    </tr>\n",
       "    <tr>\n",
       "      <th>3</th>\n",
       "      <td>B08GC4GBWB</td>\n",
       "      <td>Bont Skates - Prostar Purple Suede Professiona...</td>\n",
       "      <td>209.00</td>\n",
       "      <td>Bont</td>\n",
       "      <td>'Sports &amp; Outdoors', 'Sports', 'Skates, Skateb...</td>\n",
       "      <td>Sports &amp; Outdoors</td>\n",
       "      <td>213685.0</td>\n",
       "    </tr>\n",
       "    <tr>\n",
       "      <th>4</th>\n",
       "      <td>B07BYV947H</td>\n",
       "      <td>Team Golf Alamaba Crimson Tide Embroidered Tow...</td>\n",
       "      <td>NaN</td>\n",
       "      <td>Team Golf</td>\n",
       "      <td>'Sports &amp; Outdoors', 'Fan Shop', 'Sports Equip...</td>\n",
       "      <td>Sports &amp; Outdoors</td>\n",
       "      <td>1621084.0</td>\n",
       "    </tr>\n",
       "  </tbody>\n",
       "</table>\n",
       "</div>"
      ]
     },
     "execution_count": 42,
     "metadata": {},
     "output_type": "execute_result"
    }
   ],
   "execution_count": 42
  },
  {
   "metadata": {},
   "cell_type": "markdown",
   "source": "### Validate data",
   "id": "da231e254fce4b54"
  },
  {
   "metadata": {
    "ExecuteTime": {
     "end_time": "2025-06-24T23:15:56.483838Z",
     "start_time": "2025-06-24T23:15:56.164790Z"
    }
   },
   "cell_type": "code",
   "source": "df.isna().sum()",
   "id": "b6cd84b2cf3b3078",
   "outputs": [
    {
     "data": {
      "text/plain": [
       "item_id:token                 0\n",
       "title:token                   0\n",
       "price:float             1102862\n",
       "brand:token               35109\n",
       "categories:token_seq          0\n",
       "sales_type:token         963183\n",
       "sales_rank:float         963183\n",
       "dtype: int64"
      ]
     },
     "execution_count": 43,
     "metadata": {},
     "output_type": "execute_result"
    }
   ],
   "execution_count": 43
  },
  {
   "metadata": {
    "ExecuteTime": {
     "end_time": "2025-06-24T23:16:02.919847Z",
     "start_time": "2025-06-24T23:16:02.398586Z"
    }
   },
   "cell_type": "code",
   "source": [
    "string_cols = df.select_dtypes(include=\"object\").columns\n",
    "for col in string_cols:\n",
    "    print(col, \"=> puste stringi:\", (df[col] == \"\").sum())"
   ],
   "id": "79d2f05270a4d027",
   "outputs": [
    {
     "name": "stdout",
     "output_type": "stream",
     "text": [
      "item_id:token => puste stringi: 0\n",
      "title:token => puste stringi: 112\n",
      "brand:token => puste stringi: 0\n",
      "categories:token_seq => puste stringi: 89830\n",
      "sales_type:token => puste stringi: 0\n"
     ]
    }
   ],
   "execution_count": 44
  },
  {
   "metadata": {
    "ExecuteTime": {
     "end_time": "2025-06-24T23:16:06.690470Z",
     "start_time": "2025-06-24T23:16:06.560829Z"
    }
   },
   "cell_type": "code",
   "source": "df[[\"price:float\", \"sales_rank:float\"]].describe().map(lambda x: f\"{x:,.0f}\")",
   "id": "dd97fd9837f97b53",
   "outputs": [
    {
     "data": {
      "text/plain": [
       "      price:float sales_rank:float\n",
       "count     484,559          624,238\n",
       "mean           57          735,504\n",
       "std           162          614,582\n",
       "min             0                1\n",
       "25%            13          267,578\n",
       "50%            24          589,380\n",
       "75%            50        1,054,199\n",
       "max        22,000       13,516,189"
      ],
      "text/html": [
       "<div>\n",
       "<style scoped>\n",
       "    .dataframe tbody tr th:only-of-type {\n",
       "        vertical-align: middle;\n",
       "    }\n",
       "\n",
       "    .dataframe tbody tr th {\n",
       "        vertical-align: top;\n",
       "    }\n",
       "\n",
       "    .dataframe thead th {\n",
       "        text-align: right;\n",
       "    }\n",
       "</style>\n",
       "<table border=\"1\" class=\"dataframe\">\n",
       "  <thead>\n",
       "    <tr style=\"text-align: right;\">\n",
       "      <th></th>\n",
       "      <th>price:float</th>\n",
       "      <th>sales_rank:float</th>\n",
       "    </tr>\n",
       "  </thead>\n",
       "  <tbody>\n",
       "    <tr>\n",
       "      <th>count</th>\n",
       "      <td>484,559</td>\n",
       "      <td>624,238</td>\n",
       "    </tr>\n",
       "    <tr>\n",
       "      <th>mean</th>\n",
       "      <td>57</td>\n",
       "      <td>735,504</td>\n",
       "    </tr>\n",
       "    <tr>\n",
       "      <th>std</th>\n",
       "      <td>162</td>\n",
       "      <td>614,582</td>\n",
       "    </tr>\n",
       "    <tr>\n",
       "      <th>min</th>\n",
       "      <td>0</td>\n",
       "      <td>1</td>\n",
       "    </tr>\n",
       "    <tr>\n",
       "      <th>25%</th>\n",
       "      <td>13</td>\n",
       "      <td>267,578</td>\n",
       "    </tr>\n",
       "    <tr>\n",
       "      <th>50%</th>\n",
       "      <td>24</td>\n",
       "      <td>589,380</td>\n",
       "    </tr>\n",
       "    <tr>\n",
       "      <th>75%</th>\n",
       "      <td>50</td>\n",
       "      <td>1,054,199</td>\n",
       "    </tr>\n",
       "    <tr>\n",
       "      <th>max</th>\n",
       "      <td>22,000</td>\n",
       "      <td>13,516,189</td>\n",
       "    </tr>\n",
       "  </tbody>\n",
       "</table>\n",
       "</div>"
      ]
     },
     "execution_count": 45,
     "metadata": {},
     "output_type": "execute_result"
    }
   ],
   "execution_count": 45
  },
  {
   "metadata": {},
   "cell_type": "markdown",
   "source": "### Save to .item file",
   "id": "672e79f71dd6b838"
  },
  {
   "metadata": {
    "ExecuteTime": {
     "end_time": "2025-06-24T23:17:46.098475Z",
     "start_time": "2025-06-24T23:17:40.995558Z"
    }
   },
   "cell_type": "code",
   "source": "df.to_csv(SAVE_PATH, sep='\\t', index=False, na_rep='')",
   "id": "14029aca17470735",
   "outputs": [],
   "execution_count": 46
  }
 ],
 "metadata": {
  "kernelspec": {
   "display_name": "Python 3",
   "language": "python",
   "name": "python3"
  },
  "language_info": {
   "codemirror_mode": {
    "name": "ipython",
    "version": 2
   },
   "file_extension": ".py",
   "mimetype": "text/x-python",
   "name": "python",
   "nbconvert_exporter": "python",
   "pygments_lexer": "ipython2",
   "version": "2.7.6"
  }
 },
 "nbformat": 4,
 "nbformat_minor": 5
}
